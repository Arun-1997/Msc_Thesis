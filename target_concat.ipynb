{
 "cells": [
  {
   "cell_type": "code",
   "execution_count": 1,
   "id": "a8d9bd9f-ada5-450b-b6fa-5e70f9a1fb6b",
   "metadata": {},
   "outputs": [],
   "source": [
    "import geopandas as gpd\n",
    "import glob\n",
    "import pandas as pd"
   ]
  },
  {
   "cell_type": "code",
   "execution_count": 2,
   "id": "d06e0f11-c187-49aa-ade0-b661123a80dc",
   "metadata": {},
   "outputs": [],
   "source": [
    "shape_files = glob.glob(\"Input/Target/*.shp\")\n",
    "gdf_list = [gpd.read_file(i) for i in shape_files]\n",
    "target_concat = gpd.GeoDataFrame( pd.concat( gdf_list, ignore_index=True) )"
   ]
  },
  {
   "cell_type": "code",
   "execution_count": 3,
   "id": "2cf56796-997d-4e21-bcac-905d4c7b9c69",
   "metadata": {},
   "outputs": [
    {
     "data": {
      "text/html": [
       "<div>\n",
       "<style scoped>\n",
       "    .dataframe tbody tr th:only-of-type {\n",
       "        vertical-align: middle;\n",
       "    }\n",
       "\n",
       "    .dataframe tbody tr th {\n",
       "        vertical-align: top;\n",
       "    }\n",
       "\n",
       "    .dataframe thead th {\n",
       "        text-align: right;\n",
       "    }\n",
       "</style>\n",
       "<table border=\"1\" class=\"dataframe\">\n",
       "  <thead>\n",
       "    <tr style=\"text-align: right;\">\n",
       "      <th></th>\n",
       "      <th>patch_name</th>\n",
       "      <th>year</th>\n",
       "      <th>yld_kg_sqm</th>\n",
       "      <th>ndvi_avg</th>\n",
       "      <th>ndvi_max</th>\n",
       "      <th>ndvi_min</th>\n",
       "      <th>geometry</th>\n",
       "      <th>ykg_by_e7</th>\n",
       "    </tr>\n",
       "  </thead>\n",
       "  <tbody>\n",
       "    <tr>\n",
       "      <th>0</th>\n",
       "      <td>Nebraska_2017_july_13824-2048</td>\n",
       "      <td>2017</td>\n",
       "      <td>3.733028e+07</td>\n",
       "      <td>0.668031</td>\n",
       "      <td>0.842914</td>\n",
       "      <td>0.120116</td>\n",
       "      <td>POLYGON ((-96.46451 41.76034, -96.60249 41.760...</td>\n",
       "      <td>3.733028</td>\n",
       "    </tr>\n",
       "    <tr>\n",
       "      <th>1</th>\n",
       "      <td>Nebraska_2017_july_10240-1536</td>\n",
       "      <td>2017</td>\n",
       "      <td>2.809508e+06</td>\n",
       "      <td>0.596130</td>\n",
       "      <td>0.854048</td>\n",
       "      <td>0.177839</td>\n",
       "      <td>POLYGON ((-98.39625 42.03630, -98.53423 42.036...</td>\n",
       "      <td>0.280951</td>\n",
       "    </tr>\n",
       "    <tr>\n",
       "      <th>2</th>\n",
       "      <td>Nebraska_2017_july_14080-1024</td>\n",
       "      <td>2017</td>\n",
       "      <td>1.057413e+07</td>\n",
       "      <td>0.595511</td>\n",
       "      <td>0.841800</td>\n",
       "      <td>0.067904</td>\n",
       "      <td>POLYGON ((-96.32653 42.31227, -96.46451 42.312...</td>\n",
       "      <td>1.057413</td>\n",
       "    </tr>\n",
       "    <tr>\n",
       "      <th>3</th>\n",
       "      <td>Nebraska_2017_july_9728-1536</td>\n",
       "      <td>2017</td>\n",
       "      <td>1.410707e+06</td>\n",
       "      <td>0.277964</td>\n",
       "      <td>0.686806</td>\n",
       "      <td>0.147658</td>\n",
       "      <td>POLYGON ((-98.67221 42.03630, -98.81019 42.036...</td>\n",
       "      <td>0.141071</td>\n",
       "    </tr>\n",
       "    <tr>\n",
       "      <th>4</th>\n",
       "      <td>Nebraska_2017_july_9472-1536</td>\n",
       "      <td>2017</td>\n",
       "      <td>4.374976e+05</td>\n",
       "      <td>0.364343</td>\n",
       "      <td>0.609116</td>\n",
       "      <td>0.169836</td>\n",
       "      <td>POLYGON ((-98.81019 42.03630, -98.94817 42.036...</td>\n",
       "      <td>0.043750</td>\n",
       "    </tr>\n",
       "  </tbody>\n",
       "</table>\n",
       "</div>"
      ],
      "text/plain": [
       "                      patch_name  year    yld_kg_sqm  ndvi_avg  ndvi_max  \\\n",
       "0  Nebraska_2017_july_13824-2048  2017  3.733028e+07  0.668031  0.842914   \n",
       "1  Nebraska_2017_july_10240-1536  2017  2.809508e+06  0.596130  0.854048   \n",
       "2  Nebraska_2017_july_14080-1024  2017  1.057413e+07  0.595511  0.841800   \n",
       "3   Nebraska_2017_july_9728-1536  2017  1.410707e+06  0.277964  0.686806   \n",
       "4   Nebraska_2017_july_9472-1536  2017  4.374976e+05  0.364343  0.609116   \n",
       "\n",
       "   ndvi_min                                           geometry  ykg_by_e7  \n",
       "0  0.120116  POLYGON ((-96.46451 41.76034, -96.60249 41.760...   3.733028  \n",
       "1  0.177839  POLYGON ((-98.39625 42.03630, -98.53423 42.036...   0.280951  \n",
       "2  0.067904  POLYGON ((-96.32653 42.31227, -96.46451 42.312...   1.057413  \n",
       "3  0.147658  POLYGON ((-98.67221 42.03630, -98.81019 42.036...   0.141071  \n",
       "4  0.169836  POLYGON ((-98.81019 42.03630, -98.94817 42.036...   0.043750  "
      ]
     },
     "execution_count": 3,
     "metadata": {},
     "output_type": "execute_result"
    }
   ],
   "source": [
    "target_concat[\"ykg_by_e7\"] = target_concat[\"yld_kg_sqm\"]/1e7\n",
    "target_concat.head()"
   ]
  },
  {
   "cell_type": "code",
   "execution_count": 5,
   "id": "35441581-d997-4beb-939b-f4a45a1f8fc8",
   "metadata": {},
   "outputs": [
    {
     "data": {
      "text/plain": [
       "(10172, 8)"
      ]
     },
     "execution_count": 5,
     "metadata": {},
     "output_type": "execute_result"
    }
   ],
   "source": [
    "target_concat.shape"
   ]
  },
  {
   "cell_type": "code",
   "execution_count": 4,
   "id": "633ed9ef-cfe2-4840-905d-46e6e23bda33",
   "metadata": {},
   "outputs": [],
   "source": [
    "target_concat.to_file(\"Input/Target/concat/target_yield.shp\")"
   ]
  }
 ],
 "metadata": {
  "kernelspec": {
   "display_name": "Python",
   "language": "python",
   "name": "python3"
  },
  "language_info": {
   "codemirror_mode": {
    "name": "ipython",
    "version": 3
   },
   "file_extension": ".py",
   "mimetype": "text/x-python",
   "name": "python",
   "nbconvert_exporter": "python",
   "pygments_lexer": "ipython3",
   "version": "3.8.10"
  }
 },
 "nbformat": 4,
 "nbformat_minor": 5
}
