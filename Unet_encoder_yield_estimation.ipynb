{
 "cells": [
  {
   "cell_type": "code",
   "execution_count": 15,
   "id": "18cb9b1f-4131-425b-b278-1e8106058d2b",
   "metadata": {},
   "outputs": [],
   "source": [
    "import os,sys,glob\n",
    "import rasterio as rio\n",
    "import geopandas as gpd\n",
    "import pandas as pd\n",
    "import numpy as np\n",
    "import tensorflow as tf\n",
    "from rasterio.plot import reshape_as_image\n",
    "from tensorflow.keras.layers import BatchNormalization,Dropout\n",
    "from datetime import datetime\n",
    "from tensorflow.keras import models,layers,Input\n",
    "from tensorflow.keras import Model\n",
    "from tensorflow.keras.layers import GlobalAveragePooling2D\n",
    "from tensorflow.keras.preprocessing import image\n",
    "from sklearn.model_selection import train_test_split\n",
    "from sklearn.preprocessing import MinMaxScaler\n",
    "import wandb\n",
    "from wandb.keras import WandbCallback\n",
    "# os.environ['TF_CPP_MIN_LOG_LEVEL'] = '3'\n",
    "os.environ['CUDA_VISIBLE_DEVICES'] = '-1'\n",
    "from shapely import wkt\n",
    "\n",
    "training_path = \"Input/sentinel/test_data_from_drive/patches_all/normalised_train/\"\n",
    "target_file_path = \"Input/Target/concat/target_yield.shp\"\n",
    "model_path = \"unet_multi_output/model_BSize_256_NEpochs_10_2023-10-30 15:48:34.412397.h5\"\n",
    "unet_model = models.load_model(model_path, compile=False)\n"
   ]
  },
  {
   "cell_type": "code",
   "execution_count": 2,
   "id": "6a57f4dd-2483-4edd-9dbf-52da02612e10",
   "metadata": {},
   "outputs": [
    {
     "name": "stderr",
     "output_type": "stream",
     "text": [
      "ERROR:wandb.jupyter:Failed to detect the name of this notebook, you can set it manually with the WANDB_NOTEBOOK_NAME environment variable to enable code saving.\n",
      "\u001b[34m\u001b[1mwandb\u001b[0m: Currently logged in as: \u001b[33maarun-vishwanath\u001b[0m (\u001b[33mmsc-thesis\u001b[0m). Use \u001b[1m`wandb login --relogin`\u001b[0m to force relogin\n"
     ]
    },
    {
     "data": {
      "text/html": [
       "wandb version 0.15.12 is available!  To upgrade, please run:\n",
       " $ pip install wandb --upgrade"
      ],
      "text/plain": [
       "<IPython.core.display.HTML object>"
      ]
     },
     "metadata": {},
     "output_type": "display_data"
    },
    {
     "data": {
      "text/html": [
       "Tracking run with wandb version 0.13.10"
      ],
      "text/plain": [
       "<IPython.core.display.HTML object>"
      ]
     },
     "metadata": {},
     "output_type": "display_data"
    },
    {
     "data": {
      "text/html": [
       "Run data is saved locally in <code>/home/jovyan/MSC_Thesis/MSc_Thesis_2023/wandb/run-20231101_212949-tpd4yg53</code>"
      ],
      "text/plain": [
       "<IPython.core.display.HTML object>"
      ]
     },
     "metadata": {},
     "output_type": "display_data"
    },
    {
     "data": {
      "text/html": [
       "Syncing run <strong><a href='https://wandb.ai/msc-thesis/unet_multi_output/runs/tpd4yg53' target=\"_blank\">winter-surf-3</a></strong> to <a href='https://wandb.ai/msc-thesis/unet_multi_output' target=\"_blank\">Weights & Biases</a> (<a href='https://wandb.me/run' target=\"_blank\">docs</a>)<br/>"
      ],
      "text/plain": [
       "<IPython.core.display.HTML object>"
      ]
     },
     "metadata": {},
     "output_type": "display_data"
    },
    {
     "data": {
      "text/html": [
       " View project at <a href='https://wandb.ai/msc-thesis/unet_multi_output' target=\"_blank\">https://wandb.ai/msc-thesis/unet_multi_output</a>"
      ],
      "text/plain": [
       "<IPython.core.display.HTML object>"
      ]
     },
     "metadata": {},
     "output_type": "display_data"
    },
    {
     "data": {
      "text/html": [
       " View run at <a href='https://wandb.ai/msc-thesis/unet_multi_output/runs/tpd4yg53' target=\"_blank\">https://wandb.ai/msc-thesis/unet_multi_output/runs/tpd4yg53</a>"
      ],
      "text/plain": [
       "<IPython.core.display.HTML object>"
      ]
     },
     "metadata": {},
     "output_type": "display_data"
    }
   ],
   "source": [
    "mse = tf.keras.metrics.MeanSquaredError()\n",
    "rmse = tf.keras.metrics.RootMeanSquaredError()\n",
    "mae = tf.keras.metrics.MeanAbsoluteError()\n",
    "# mape = tf.keras.metrics.MeanAbsolutePercentageError()\n",
    "msle = tf.keras.metrics.MeanSquaredLogarithmicError()\n",
    "# cos_sim = tf.keras.metrics.CosineSimilarity(axis=1)\n",
    "# log_cos = tf.keras.metrics.LogCoshError()\n",
    "config = {\n",
    "\"epochs\":75,\n",
    "\"batch_size\":256,\n",
    "\"loss_function\":'mse',\n",
    "# \"metrics\":[mse,rmse,mae,mape,msle,cos_sim,log_cos],\n",
    "\"metrics\":[mse,mae,msle],\n",
    "\"learning_rate\":0.0001\n",
    "# \"optimizer\":'adam'\n",
    "}\n",
    "wandb.init(project=\"unet_multi_output\", entity=\"msc-thesis\",config=config)\n",
    "now = datetime.now()\n",
    "date_time = now.strftime(\"%d_%m_%Y_%H_%M_%S\")\n",
    "\n",
    "wandb.run.name = wandb.run.id+\"_\"+date_time"
   ]
  },
  {
   "cell_type": "code",
   "execution_count": 3,
   "id": "990da0b2-fa10-462f-8f53-0018af5701e7",
   "metadata": {},
   "outputs": [
    {
     "name": "stdout",
     "output_type": "stream",
     "text": [
      "Total Number of Patches: 12411\n",
      "Any Null values?  False\n",
      "x shape :(12411, 256, 256, 12), y shape: (12411, 1)\n"
     ]
    }
   ],
   "source": [
    "def read_training():\n",
    "    training_file_list = glob.glob(os.path.join(training_path,\"*.tif\"))\n",
    "    target_gdf = gpd.read_file(target_file_path)\n",
    "    print(\"Total Number of Patches:\",len(training_file_list))\n",
    "    ignore_patch_list = list()\n",
    "    x = list()\n",
    "    y = list()\n",
    "    X_train = list()\n",
    "    X_test = list()\n",
    "    y_train = list()\n",
    "    y_test = list()\n",
    "    count = 0 \n",
    "    for file in training_file_list:\n",
    "\n",
    "        patch_src = rio.open(file)\n",
    "        f_name = file.split(\"/\")[-1].split(\".\")[0]\n",
    "        patch_src_read = reshape_as_image(patch_src.read()[0:12]) ## Change the index here to add or remove the mask layer\n",
    "        # print(0)\n",
    "#         if patch_src_read.shape != patch_dim:\n",
    "#             ignore_patch_list.append(f_name)\n",
    "#             # print(\"Patch Dimensions Mismatch, skipping patch : {}\".format(f_name))\n",
    "#             continue\n",
    "\n",
    "#         # print(1)\n",
    "#         if np.isnan(patch_src_read).any():\n",
    "#             # print(\"Has Nan values, skipping patch : {}\".format(f_name))\n",
    "#             continue\n",
    "\n",
    "        # print(2)\n",
    "        query = target_gdf.query(f\"patch_name == '{f_name}'\")[\"ykg_by_e7\"]\n",
    "        if len(query) != 1:\n",
    "            # print(\"patch has no target value, skipping patch : {}\".format(f_name))\n",
    "            continue\n",
    "        # print(patch_src_read[:,:,0:12].shape)\n",
    "        # print(patch_src_read[:,:,12].shape)\n",
    "\n",
    "        x.append(patch_src_read)\n",
    "        y.append(float(query))\n",
    "\n",
    "        patch_src.close()\n",
    "        # print(count)\n",
    "        count +=1\n",
    "        # if count > 100:\n",
    "        #     break\n",
    "\n",
    "    # self.y = self.scaler.fit_transform(np.array(self.y).reshape(-1, 1))\n",
    "    y = np.array(y)\n",
    "    y = np.expand_dims(y,-1)\n",
    "    x = np.array(x)\n",
    "    \n",
    "    # x = (x-np.min(x))/(np.max(x)-np.min(x))\n",
    "    print(\"Any Null values? \",np.isnan(x).any())\n",
    "    # print(self.y)\n",
    "    # self.x = np.nan_to_num(self.x, nan=0)# Check for different value for no data\n",
    "    print(f\"x shape :{x.shape}, y shape: {y.shape}\")\n",
    "    # print(np.nanmin(self.x),np.nanmax(self.x))\n",
    "    X_train, X_test, y_train, y_test = train_test_split(x, y, test_size=0.25)\n",
    "    return X_train, X_test, y_train, y_test\n",
    "    #Also, split the training into train and val\n",
    "    # For testing, keep a part of the dataset as seperate (final month)\n",
    "\n",
    "X_train, X_test, y_train, y_test = read_training()"
   ]
  },
  {
   "cell_type": "code",
   "execution_count": 4,
   "id": "b92ffc2f-cf84-4674-8f5a-9c628cc454e1",
   "metadata": {},
   "outputs": [],
   "source": [
    "# unet_model.summary()\n",
    "\n",
    "def get_encoder(old_model: Model) -> Model:\n",
    "    # Get encoder\n",
    "    encoder_input: Model = Model(inputs=old_model.layers[0].input,\n",
    "                          outputs=old_model.layers[17].output)\n",
    "\n",
    "    # Create Global Average Pooling.\n",
    "    encoder_output = GlobalAveragePooling2D()(encoder_input.layers[-1].output)\n",
    "\n",
    "    # Create the encoder adding the GAP layer as output.\n",
    "    encoder: Model = Model(encoder_input.input, encoder_output, name='encoder')\n",
    "\n",
    "    return encoder_input"
   ]
  },
  {
   "cell_type": "code",
   "execution_count": 5,
   "id": "a6b642b3-69c7-48eb-a64c-4eb62501a4d0",
   "metadata": {},
   "outputs": [],
   "source": [
    "unet_encoder = get_encoder(unet_model)"
   ]
  },
  {
   "cell_type": "code",
   "execution_count": 6,
   "id": "6acb5fab-6199-489a-b222-7032b55d358a",
   "metadata": {},
   "outputs": [
    {
     "name": "stdout",
     "output_type": "stream",
     "text": [
      "Model: \"model\"\n",
      "_________________________________________________________________\n",
      " Layer (type)                Output Shape              Param #   \n",
      "=================================================================\n",
      " input_3 (InputLayer)        [(None, 256, 256, 12)]    0         \n",
      "                                                                 \n",
      " conv2d_38 (Conv2D)          (None, 256, 256, 64)      6976      \n",
      "                                                                 \n",
      " conv2d_39 (Conv2D)          (None, 256, 256, 64)      36928     \n",
      "                                                                 \n",
      " max_pooling2d_8 (MaxPooling  (None, 128, 128, 64)     0         \n",
      " 2D)                                                             \n",
      "                                                                 \n",
      " dropout_16 (Dropout)        (None, 128, 128, 64)      0         \n",
      "                                                                 \n",
      " conv2d_40 (Conv2D)          (None, 128, 128, 128)     73856     \n",
      "                                                                 \n",
      " conv2d_41 (Conv2D)          (None, 128, 128, 128)     147584    \n",
      "                                                                 \n",
      " max_pooling2d_9 (MaxPooling  (None, 64, 64, 128)      0         \n",
      " 2D)                                                             \n",
      "                                                                 \n",
      " dropout_17 (Dropout)        (None, 64, 64, 128)       0         \n",
      "                                                                 \n",
      " conv2d_42 (Conv2D)          (None, 64, 64, 256)       295168    \n",
      "                                                                 \n",
      " conv2d_43 (Conv2D)          (None, 64, 64, 256)       590080    \n",
      "                                                                 \n",
      " max_pooling2d_10 (MaxPoolin  (None, 32, 32, 256)      0         \n",
      " g2D)                                                            \n",
      "                                                                 \n",
      " dropout_18 (Dropout)        (None, 32, 32, 256)       0         \n",
      "                                                                 \n",
      " conv2d_44 (Conv2D)          (None, 32, 32, 512)       1180160   \n",
      "                                                                 \n",
      " conv2d_45 (Conv2D)          (None, 32, 32, 512)       2359808   \n",
      "                                                                 \n",
      " max_pooling2d_11 (MaxPoolin  (None, 16, 16, 512)      0         \n",
      " g2D)                                                            \n",
      "                                                                 \n",
      " dropout_19 (Dropout)        (None, 16, 16, 512)       0         \n",
      "                                                                 \n",
      " conv2d_46 (Conv2D)          (None, 16, 16, 1024)      4719616   \n",
      "                                                                 \n",
      "=================================================================\n",
      "Total params: 9,410,176\n",
      "Trainable params: 9,410,176\n",
      "Non-trainable params: 0\n",
      "_________________________________________________________________\n"
     ]
    }
   ],
   "source": [
    "unet_encoder.summary()"
   ]
  },
  {
   "cell_type": "code",
   "execution_count": 33,
   "id": "063918a4-9d61-4a4d-b504-18001bc9bb8a",
   "metadata": {},
   "outputs": [],
   "source": [
    "unet_encoder.trainable = False"
   ]
  },
  {
   "cell_type": "code",
   "execution_count": 34,
   "id": "13193171-97d2-4c7e-af47-e0d1066f7cb0",
   "metadata": {},
   "outputs": [
    {
     "name": "stdout",
     "output_type": "stream",
     "text": [
      "weights: 18\n",
      "trainable weights: 0\n",
      "Non trainable weights: 18\n"
     ]
    }
   ],
   "source": [
    "print(\"weights:\",len(unet_encoder.weights))\n",
    "print(\"trainable weights:\",len(unet_encoder.trainable_weights))\n",
    "print(\"Non trainable weights:\",len(unet_encoder.non_trainable_weights))"
   ]
  },
  {
   "cell_type": "code",
   "execution_count": 35,
   "id": "47f31636-6c4c-4bf5-8131-56016889e92e",
   "metadata": {},
   "outputs": [],
   "source": [
    "# Get a copy of the weights of the Unet encoder\n",
    "unet_encoder_weights = unet_encoder.get_weights()"
   ]
  },
  {
   "cell_type": "code",
   "execution_count": 36,
   "id": "863277b2-91e7-488f-9683-8e76735e41c6",
   "metadata": {},
   "outputs": [],
   "source": [
    "model = models.Sequential()\n",
    "# inputs = Input(shape=(256,256,12))\n",
    "\n",
    "model.add(unet_encoder)\n",
    "# model.add(layers.Conv2D(128, (3, 3), activation='relu'))\n",
    "# model.add(layers.MaxPooling2D((2, 2)))\n",
    "# model.add(layers.Conv2D(64, (3, 3), activation='relu'))\n",
    "# model.add(layers.MaxPooling2D((2, 2)))\n",
    "\n",
    "# model.add(layers.Conv2D(64, (3, 3), activation='relu'))\n",
    "# model.add(layers.MaxPooling2D((2, 2)))\n",
    "# model.add(layers.Conv2D(32, (3, 3), activation='relu'))\n",
    "# model.add(layers.MaxPooling2D((2, 2)))\n",
    "model.add(layers.Flatten())\n",
    "model.add(BatchNormalization())\n",
    "\n",
    "model.add(layers.Dense(64, activation='relu')) # Add another dense layer\n",
    "model.add(Dropout(0.5))\n",
    "model.add(layers.Dense(32, activation='relu'))\n",
    "model.add(layers.Dense(16, activation='relu'))\n",
    "model.add(layers.Dense(8, activation='relu'))\n",
    "model.add(layers.Dense(4, activation='relu'))\n",
    "model.add(layers.Dense(1,activation='linear'))\n",
    "model.compile(optimizer=tf.keras.optimizers.Adam(learning_rate=config[\"learning_rate\"]),\n",
    "              loss=config[\"loss_function\"], metrics=config[\"metrics\"])"
   ]
  },
  {
   "cell_type": "code",
   "execution_count": 37,
   "id": "35a03ffa-db50-4f20-a0cd-a40555ba0b91",
   "metadata": {},
   "outputs": [
    {
     "data": {
      "text/plain": [
       "14"
      ]
     },
     "execution_count": 37,
     "metadata": {},
     "output_type": "execute_result"
    }
   ],
   "source": [
    "len(model.trainable_weights)"
   ]
  },
  {
   "cell_type": "code",
   "execution_count": 38,
   "id": "bd47d6df-9ea9-4152-a261-bccab646f84a",
   "metadata": {},
   "outputs": [
    {
     "name": "stdout",
     "output_type": "stream",
     "text": [
      "Model: \"sequential_6\"\n",
      "_________________________________________________________________\n",
      " Layer (type)                Output Shape              Param #   \n",
      "=================================================================\n",
      " model (Functional)          (None, 16, 16, 1024)      9410176   \n",
      "                                                                 \n",
      " flatten_3 (Flatten)         (None, 262144)            0         \n",
      "                                                                 \n",
      " batch_normalization_3 (Batc  (None, 262144)           1048576   \n",
      " hNormalization)                                                 \n",
      "                                                                 \n",
      " dense_18 (Dense)            (None, 64)                16777280  \n",
      "                                                                 \n",
      " dropout_3 (Dropout)         (None, 64)                0         \n",
      "                                                                 \n",
      " dense_19 (Dense)            (None, 32)                2080      \n",
      "                                                                 \n",
      " dense_20 (Dense)            (None, 16)                528       \n",
      "                                                                 \n",
      " dense_21 (Dense)            (None, 8)                 136       \n",
      "                                                                 \n",
      " dense_22 (Dense)            (None, 4)                 36        \n",
      "                                                                 \n",
      " dense_23 (Dense)            (None, 1)                 5         \n",
      "                                                                 \n",
      "=================================================================\n",
      "Total params: 27,238,817\n",
      "Trainable params: 17,304,353\n",
      "Non-trainable params: 9,934,464\n",
      "_________________________________________________________________\n"
     ]
    }
   ],
   "source": [
    "model.summary()"
   ]
  },
  {
   "cell_type": "code",
   "execution_count": 39,
   "id": "5c11f054-0aca-4a29-88a3-cf12e63f27fb",
   "metadata": {},
   "outputs": [
    {
     "name": "stdout",
     "output_type": "stream",
     "text": [
      "Epoch 1/75\n"
     ]
    },
    {
     "name": "stderr",
     "output_type": "stream",
     "text": [
      "2023-11-01 21:43:28.752179: W tensorflow/core/framework/cpu_allocator_impl.cc:82] Allocation of 29280436224 exceeds 10% of free system memory.\n"
     ]
    },
    {
     "name": "stdout",
     "output_type": "stream",
     "text": [
      "37/37 [==============================] - ETA: 0s - loss: 1.6846 - mean_squared_error: 1.8717 - mean_absolute_error: 1.0310 - mean_squared_logarithmic_error: 0.2725 "
     ]
    },
    {
     "name": "stderr",
     "output_type": "stream",
     "text": [
      "WARNING:absl:Found untraced functions such as _jit_compiled_convolution_op, _jit_compiled_convolution_op, _jit_compiled_convolution_op, _jit_compiled_convolution_op, _jit_compiled_convolution_op while saving (showing 5 of 9). These functions will not be directly callable after loading.\n"
     ]
    },
    {
     "name": "stdout",
     "output_type": "stream",
     "text": [
      "INFO:tensorflow:Assets written to: /home/jovyan/MSC_Thesis/MSc_Thesis_2023/wandb/run-20231101_212949-tpd4yg53/files/model-best/assets\n"
     ]
    },
    {
     "name": "stderr",
     "output_type": "stream",
     "text": [
      "INFO:tensorflow:Assets written to: /home/jovyan/MSC_Thesis/MSc_Thesis_2023/wandb/run-20231101_212949-tpd4yg53/files/model-best/assets\n",
      "\u001b[34m\u001b[1mwandb\u001b[0m: Adding directory to artifact (/home/jovyan/MSC_Thesis/MSc_Thesis_2023/wandb/run-20231101_212949-tpd4yg53/files/model-best)... Done. 4.9s\n"
     ]
    },
    {
     "name": "stdout",
     "output_type": "stream",
     "text": [
      "37/37 [==============================] - 579s 16s/step - loss: 1.6846 - mean_squared_error: 1.8717 - mean_absolute_error: 1.0310 - mean_squared_logarithmic_error: 0.2725 - val_loss: 4.8408 - val_mean_squared_error: 4.8408 - val_mean_absolute_error: 1.8464 - val_mean_squared_logarithmic_error: 0.9280\n",
      "Epoch 2/75\n",
      "37/37 [==============================] - ETA: 0s - loss: 1.2818 - mean_squared_error: 1.2818 - mean_absolute_error: 0.8498 - mean_squared_logarithmic_error: 0.1902 "
     ]
    },
    {
     "name": "stderr",
     "output_type": "stream",
     "text": [
      "WARNING:absl:Found untraced functions such as _jit_compiled_convolution_op, _jit_compiled_convolution_op, _jit_compiled_convolution_op, _jit_compiled_convolution_op, _jit_compiled_convolution_op while saving (showing 5 of 9). These functions will not be directly callable after loading.\n"
     ]
    },
    {
     "name": "stdout",
     "output_type": "stream",
     "text": [
      "INFO:tensorflow:Assets written to: /home/jovyan/MSC_Thesis/MSc_Thesis_2023/wandb/run-20231101_212949-tpd4yg53/files/model-best/assets\n"
     ]
    },
    {
     "name": "stderr",
     "output_type": "stream",
     "text": [
      "INFO:tensorflow:Assets written to: /home/jovyan/MSC_Thesis/MSc_Thesis_2023/wandb/run-20231101_212949-tpd4yg53/files/model-best/assets\n",
      "\u001b[34m\u001b[1mwandb\u001b[0m: Adding directory to artifact (/home/jovyan/MSC_Thesis/MSc_Thesis_2023/wandb/run-20231101_212949-tpd4yg53/files/model-best)... Done. 5.1s\n"
     ]
    },
    {
     "name": "stdout",
     "output_type": "stream",
     "text": [
      "37/37 [==============================] - 576s 16s/step - loss: 1.2818 - mean_squared_error: 1.2818 - mean_absolute_error: 0.8498 - mean_squared_logarithmic_error: 0.1902 - val_loss: 4.3971 - val_mean_squared_error: 4.3971 - val_mean_absolute_error: 1.7572 - val_mean_squared_logarithmic_error: 0.7829\n",
      "Epoch 3/75\n",
      "37/37 [==============================] - ETA: 0s - loss: 1.1699 - mean_squared_error: 1.1699 - mean_absolute_error: 0.8014 - mean_squared_logarithmic_error: 0.1775 "
     ]
    },
    {
     "name": "stderr",
     "output_type": "stream",
     "text": [
      "WARNING:absl:Found untraced functions such as _jit_compiled_convolution_op, _jit_compiled_convolution_op, _jit_compiled_convolution_op, _jit_compiled_convolution_op, _jit_compiled_convolution_op while saving (showing 5 of 9). These functions will not be directly callable after loading.\n"
     ]
    },
    {
     "name": "stdout",
     "output_type": "stream",
     "text": [
      "INFO:tensorflow:Assets written to: /home/jovyan/MSC_Thesis/MSc_Thesis_2023/wandb/run-20231101_212949-tpd4yg53/files/model-best/assets\n"
     ]
    },
    {
     "name": "stderr",
     "output_type": "stream",
     "text": [
      "INFO:tensorflow:Assets written to: /home/jovyan/MSC_Thesis/MSc_Thesis_2023/wandb/run-20231101_212949-tpd4yg53/files/model-best/assets\n",
      "\u001b[34m\u001b[1mwandb\u001b[0m: Adding directory to artifact (/home/jovyan/MSC_Thesis/MSc_Thesis_2023/wandb/run-20231101_212949-tpd4yg53/files/model-best)... Done. 5.1s\n"
     ]
    },
    {
     "name": "stdout",
     "output_type": "stream",
     "text": [
      "37/37 [==============================] - 578s 16s/step - loss: 1.1699 - mean_squared_error: 1.1699 - mean_absolute_error: 0.8014 - mean_squared_logarithmic_error: 0.1775 - val_loss: 3.8795 - val_mean_squared_error: 3.8795 - val_mean_absolute_error: 1.6418 - val_mean_squared_logarithmic_error: 0.6315\n",
      "Epoch 4/75\n",
      "37/37 [==============================] - ETA: 0s - loss: 1.1439 - mean_squared_error: 1.1439 - mean_absolute_error: 0.8048 - mean_squared_logarithmic_error: 0.1744 "
     ]
    },
    {
     "name": "stderr",
     "output_type": "stream",
     "text": [
      "WARNING:absl:Found untraced functions such as _jit_compiled_convolution_op, _jit_compiled_convolution_op, _jit_compiled_convolution_op, _jit_compiled_convolution_op, _jit_compiled_convolution_op while saving (showing 5 of 9). These functions will not be directly callable after loading.\n"
     ]
    },
    {
     "name": "stdout",
     "output_type": "stream",
     "text": [
      "INFO:tensorflow:Assets written to: /home/jovyan/MSC_Thesis/MSc_Thesis_2023/wandb/run-20231101_212949-tpd4yg53/files/model-best/assets\n"
     ]
    },
    {
     "name": "stderr",
     "output_type": "stream",
     "text": [
      "INFO:tensorflow:Assets written to: /home/jovyan/MSC_Thesis/MSc_Thesis_2023/wandb/run-20231101_212949-tpd4yg53/files/model-best/assets\n",
      "\u001b[34m\u001b[1mwandb\u001b[0m: Adding directory to artifact (/home/jovyan/MSC_Thesis/MSc_Thesis_2023/wandb/run-20231101_212949-tpd4yg53/files/model-best)... Done. 5.1s\n"
     ]
    },
    {
     "name": "stdout",
     "output_type": "stream",
     "text": [
      "37/37 [==============================] - 579s 16s/step - loss: 1.1439 - mean_squared_error: 1.1439 - mean_absolute_error: 0.8048 - mean_squared_logarithmic_error: 0.1744 - val_loss: 3.1606 - val_mean_squared_error: 3.1606 - val_mean_absolute_error: 1.4762 - val_mean_squared_logarithmic_error: 0.4690\n",
      "Epoch 5/75\n",
      "37/37 [==============================] - ETA: 0s - loss: 1.0587 - mean_squared_error: 1.0587 - mean_absolute_error: 0.7671 - mean_squared_logarithmic_error: 0.1678 "
     ]
    },
    {
     "name": "stderr",
     "output_type": "stream",
     "text": [
      "WARNING:absl:Found untraced functions such as _jit_compiled_convolution_op, _jit_compiled_convolution_op, _jit_compiled_convolution_op, _jit_compiled_convolution_op, _jit_compiled_convolution_op while saving (showing 5 of 9). These functions will not be directly callable after loading.\n"
     ]
    },
    {
     "name": "stdout",
     "output_type": "stream",
     "text": [
      "INFO:tensorflow:Assets written to: /home/jovyan/MSC_Thesis/MSc_Thesis_2023/wandb/run-20231101_212949-tpd4yg53/files/model-best/assets\n"
     ]
    },
    {
     "name": "stderr",
     "output_type": "stream",
     "text": [
      "INFO:tensorflow:Assets written to: /home/jovyan/MSC_Thesis/MSc_Thesis_2023/wandb/run-20231101_212949-tpd4yg53/files/model-best/assets\n",
      "\u001b[34m\u001b[1mwandb\u001b[0m: Adding directory to artifact (/home/jovyan/MSC_Thesis/MSc_Thesis_2023/wandb/run-20231101_212949-tpd4yg53/files/model-best)... Done. 5.1s\n"
     ]
    },
    {
     "name": "stdout",
     "output_type": "stream",
     "text": [
      "37/37 [==============================] - 579s 16s/step - loss: 1.0587 - mean_squared_error: 1.0587 - mean_absolute_error: 0.7671 - mean_squared_logarithmic_error: 0.1678 - val_loss: 3.0456 - val_mean_squared_error: 3.0456 - val_mean_absolute_error: 1.4469 - val_mean_squared_logarithmic_error: 0.4478\n",
      "Epoch 6/75\n",
      "37/37 [==============================] - ETA: 0s - loss: 1.0447 - mean_squared_error: 1.0447 - mean_absolute_error: 0.7609 - mean_squared_logarithmic_error: 0.1591 "
     ]
    },
    {
     "name": "stderr",
     "output_type": "stream",
     "text": [
      "WARNING:absl:Found untraced functions such as _jit_compiled_convolution_op, _jit_compiled_convolution_op, _jit_compiled_convolution_op, _jit_compiled_convolution_op, _jit_compiled_convolution_op while saving (showing 5 of 9). These functions will not be directly callable after loading.\n"
     ]
    },
    {
     "name": "stdout",
     "output_type": "stream",
     "text": [
      "INFO:tensorflow:Assets written to: /home/jovyan/MSC_Thesis/MSc_Thesis_2023/wandb/run-20231101_212949-tpd4yg53/files/model-best/assets\n"
     ]
    },
    {
     "name": "stderr",
     "output_type": "stream",
     "text": [
      "INFO:tensorflow:Assets written to: /home/jovyan/MSC_Thesis/MSc_Thesis_2023/wandb/run-20231101_212949-tpd4yg53/files/model-best/assets\n",
      "\u001b[34m\u001b[1mwandb\u001b[0m: Adding directory to artifact (/home/jovyan/MSC_Thesis/MSc_Thesis_2023/wandb/run-20231101_212949-tpd4yg53/files/model-best)... Done. 5.2s\n"
     ]
    },
    {
     "name": "stdout",
     "output_type": "stream",
     "text": [
      "37/37 [==============================] - 580s 16s/step - loss: 1.0447 - mean_squared_error: 1.0447 - mean_absolute_error: 0.7609 - mean_squared_logarithmic_error: 0.1591 - val_loss: 2.6857 - val_mean_squared_error: 2.6857 - val_mean_absolute_error: 1.3563 - val_mean_squared_logarithmic_error: 0.3734\n",
      "Epoch 7/75\n",
      "37/37 [==============================] - ETA: 0s - loss: 1.0485 - mean_squared_error: 1.0485 - mean_absolute_error: 0.7625 - mean_squared_logarithmic_error: 0.1599 "
     ]
    },
    {
     "name": "stderr",
     "output_type": "stream",
     "text": [
      "WARNING:absl:Found untraced functions such as _jit_compiled_convolution_op, _jit_compiled_convolution_op, _jit_compiled_convolution_op, _jit_compiled_convolution_op, _jit_compiled_convolution_op while saving (showing 5 of 9). These functions will not be directly callable after loading.\n"
     ]
    },
    {
     "name": "stdout",
     "output_type": "stream",
     "text": [
      "INFO:tensorflow:Assets written to: /home/jovyan/MSC_Thesis/MSc_Thesis_2023/wandb/run-20231101_212949-tpd4yg53/files/model-best/assets\n"
     ]
    },
    {
     "name": "stderr",
     "output_type": "stream",
     "text": [
      "INFO:tensorflow:Assets written to: /home/jovyan/MSC_Thesis/MSc_Thesis_2023/wandb/run-20231101_212949-tpd4yg53/files/model-best/assets\n",
      "\u001b[34m\u001b[1mwandb\u001b[0m: Adding directory to artifact (/home/jovyan/MSC_Thesis/MSc_Thesis_2023/wandb/run-20231101_212949-tpd4yg53/files/model-best)... Done. 5.2s\n"
     ]
    },
    {
     "name": "stdout",
     "output_type": "stream",
     "text": [
      "37/37 [==============================] - 582s 16s/step - loss: 1.0485 - mean_squared_error: 1.0485 - mean_absolute_error: 0.7625 - mean_squared_logarithmic_error: 0.1599 - val_loss: 2.2535 - val_mean_squared_error: 2.2535 - val_mean_absolute_error: 1.2312 - val_mean_squared_logarithmic_error: 0.3077\n",
      "Epoch 8/75\n",
      "37/37 [==============================] - ETA: 0s - loss: 1.0188 - mean_squared_error: 1.0188 - mean_absolute_error: 0.7436 - mean_squared_logarithmic_error: 0.1547 "
     ]
    },
    {
     "name": "stderr",
     "output_type": "stream",
     "text": [
      "WARNING:absl:Found untraced functions such as _jit_compiled_convolution_op, _jit_compiled_convolution_op, _jit_compiled_convolution_op, _jit_compiled_convolution_op, _jit_compiled_convolution_op while saving (showing 5 of 9). These functions will not be directly callable after loading.\n"
     ]
    },
    {
     "name": "stdout",
     "output_type": "stream",
     "text": [
      "INFO:tensorflow:Assets written to: /home/jovyan/MSC_Thesis/MSc_Thesis_2023/wandb/run-20231101_212949-tpd4yg53/files/model-best/assets\n"
     ]
    },
    {
     "name": "stderr",
     "output_type": "stream",
     "text": [
      "INFO:tensorflow:Assets written to: /home/jovyan/MSC_Thesis/MSc_Thesis_2023/wandb/run-20231101_212949-tpd4yg53/files/model-best/assets\n",
      "\u001b[34m\u001b[1mwandb\u001b[0m: Adding directory to artifact (/home/jovyan/MSC_Thesis/MSc_Thesis_2023/wandb/run-20231101_212949-tpd4yg53/files/model-best)... Done. 5.0s\n"
     ]
    },
    {
     "name": "stdout",
     "output_type": "stream",
     "text": [
      "37/37 [==============================] - 582s 16s/step - loss: 1.0188 - mean_squared_error: 1.0188 - mean_absolute_error: 0.7436 - mean_squared_logarithmic_error: 0.1547 - val_loss: 2.0707 - val_mean_squared_error: 2.0707 - val_mean_absolute_error: 1.1749 - val_mean_squared_logarithmic_error: 0.2751\n",
      "Epoch 9/75\n",
      "37/37 [==============================] - ETA: 0s - loss: 0.9598 - mean_squared_error: 0.9598 - mean_absolute_error: 0.7348 - mean_squared_logarithmic_error: 0.1508 "
     ]
    },
    {
     "name": "stderr",
     "output_type": "stream",
     "text": [
      "WARNING:absl:Found untraced functions such as _jit_compiled_convolution_op, _jit_compiled_convolution_op, _jit_compiled_convolution_op, _jit_compiled_convolution_op, _jit_compiled_convolution_op while saving (showing 5 of 9). These functions will not be directly callable after loading.\n"
     ]
    },
    {
     "name": "stdout",
     "output_type": "stream",
     "text": [
      "INFO:tensorflow:Assets written to: /home/jovyan/MSC_Thesis/MSc_Thesis_2023/wandb/run-20231101_212949-tpd4yg53/files/model-best/assets\n"
     ]
    },
    {
     "name": "stderr",
     "output_type": "stream",
     "text": [
      "INFO:tensorflow:Assets written to: /home/jovyan/MSC_Thesis/MSc_Thesis_2023/wandb/run-20231101_212949-tpd4yg53/files/model-best/assets\n",
      "\u001b[34m\u001b[1mwandb\u001b[0m: Adding directory to artifact (/home/jovyan/MSC_Thesis/MSc_Thesis_2023/wandb/run-20231101_212949-tpd4yg53/files/model-best)... Done. 5.0s\n"
     ]
    },
    {
     "name": "stdout",
     "output_type": "stream",
     "text": [
      "37/37 [==============================] - 581s 16s/step - loss: 0.9598 - mean_squared_error: 0.9598 - mean_absolute_error: 0.7348 - mean_squared_logarithmic_error: 0.1508 - val_loss: 1.4453 - val_mean_squared_error: 1.4453 - val_mean_absolute_error: 0.9638 - val_mean_squared_logarithmic_error: 0.1951\n",
      "Epoch 10/75\n",
      "37/37 [==============================] - 565s 15s/step - loss: 0.9200 - mean_squared_error: 0.9200 - mean_absolute_error: 0.7221 - mean_squared_logarithmic_error: 0.1450 - val_loss: 1.5702 - val_mean_squared_error: 1.5702 - val_mean_absolute_error: 1.0070 - val_mean_squared_logarithmic_error: 0.2106\n",
      "Epoch 11/75\n",
      "37/37 [==============================] - 564s 15s/step - loss: 0.9174 - mean_squared_error: 0.9174 - mean_absolute_error: 0.7130 - mean_squared_logarithmic_error: 0.1414 - val_loss: 1.4789 - val_mean_squared_error: 1.4789 - val_mean_absolute_error: 0.9745 - val_mean_squared_logarithmic_error: 0.1846\n",
      "Epoch 12/75\n",
      "37/37 [==============================] - ETA: 0s - loss: 0.9333 - mean_squared_error: 0.9333 - mean_absolute_error: 0.7150 - mean_squared_logarithmic_error: 0.1437 "
     ]
    },
    {
     "name": "stderr",
     "output_type": "stream",
     "text": [
      "WARNING:absl:Found untraced functions such as _jit_compiled_convolution_op, _jit_compiled_convolution_op, _jit_compiled_convolution_op, _jit_compiled_convolution_op, _jit_compiled_convolution_op while saving (showing 5 of 9). These functions will not be directly callable after loading.\n"
     ]
    },
    {
     "name": "stdout",
     "output_type": "stream",
     "text": [
      "INFO:tensorflow:Assets written to: /home/jovyan/MSC_Thesis/MSc_Thesis_2023/wandb/run-20231101_212949-tpd4yg53/files/model-best/assets\n"
     ]
    },
    {
     "name": "stderr",
     "output_type": "stream",
     "text": [
      "INFO:tensorflow:Assets written to: /home/jovyan/MSC_Thesis/MSc_Thesis_2023/wandb/run-20231101_212949-tpd4yg53/files/model-best/assets\n",
      "\u001b[34m\u001b[1mwandb\u001b[0m: Adding directory to artifact (/home/jovyan/MSC_Thesis/MSc_Thesis_2023/wandb/run-20231101_212949-tpd4yg53/files/model-best)... Done. 5.0s\n"
     ]
    },
    {
     "name": "stdout",
     "output_type": "stream",
     "text": [
      "37/37 [==============================] - 580s 16s/step - loss: 0.9333 - mean_squared_error: 0.9333 - mean_absolute_error: 0.7150 - mean_squared_logarithmic_error: 0.1437 - val_loss: 1.2959 - val_mean_squared_error: 1.2959 - val_mean_absolute_error: 0.9088 - val_mean_squared_logarithmic_error: 0.1641\n",
      "Epoch 13/75\n",
      "37/37 [==============================] - ETA: 0s - loss: 0.8969 - mean_squared_error: 0.8969 - mean_absolute_error: 0.7047 - mean_squared_logarithmic_error: 0.1398 "
     ]
    },
    {
     "name": "stderr",
     "output_type": "stream",
     "text": [
      "WARNING:absl:Found untraced functions such as _jit_compiled_convolution_op, _jit_compiled_convolution_op, _jit_compiled_convolution_op, _jit_compiled_convolution_op, _jit_compiled_convolution_op while saving (showing 5 of 9). These functions will not be directly callable after loading.\n"
     ]
    },
    {
     "name": "stdout",
     "output_type": "stream",
     "text": [
      "INFO:tensorflow:Assets written to: /home/jovyan/MSC_Thesis/MSc_Thesis_2023/wandb/run-20231101_212949-tpd4yg53/files/model-best/assets\n"
     ]
    },
    {
     "name": "stderr",
     "output_type": "stream",
     "text": [
      "INFO:tensorflow:Assets written to: /home/jovyan/MSC_Thesis/MSc_Thesis_2023/wandb/run-20231101_212949-tpd4yg53/files/model-best/assets\n",
      "\u001b[34m\u001b[1mwandb\u001b[0m: Adding directory to artifact (/home/jovyan/MSC_Thesis/MSc_Thesis_2023/wandb/run-20231101_212949-tpd4yg53/files/model-best)... Done. 5.1s\n"
     ]
    },
    {
     "name": "stdout",
     "output_type": "stream",
     "text": [
      "37/37 [==============================] - 582s 16s/step - loss: 0.8969 - mean_squared_error: 0.8969 - mean_absolute_error: 0.7047 - mean_squared_logarithmic_error: 0.1398 - val_loss: 1.2364 - val_mean_squared_error: 1.2364 - val_mean_absolute_error: 0.8815 - val_mean_squared_logarithmic_error: 0.1655\n",
      "Epoch 14/75\n",
      "37/37 [==============================] - ETA: 0s - loss: 0.8599 - mean_squared_error: 0.8599 - mean_absolute_error: 0.6907 - mean_squared_logarithmic_error: 0.1318 "
     ]
    },
    {
     "name": "stderr",
     "output_type": "stream",
     "text": [
      "WARNING:absl:Found untraced functions such as _jit_compiled_convolution_op, _jit_compiled_convolution_op, _jit_compiled_convolution_op, _jit_compiled_convolution_op, _jit_compiled_convolution_op while saving (showing 5 of 9). These functions will not be directly callable after loading.\n"
     ]
    },
    {
     "name": "stdout",
     "output_type": "stream",
     "text": [
      "INFO:tensorflow:Assets written to: /home/jovyan/MSC_Thesis/MSc_Thesis_2023/wandb/run-20231101_212949-tpd4yg53/files/model-best/assets\n"
     ]
    },
    {
     "name": "stderr",
     "output_type": "stream",
     "text": [
      "INFO:tensorflow:Assets written to: /home/jovyan/MSC_Thesis/MSc_Thesis_2023/wandb/run-20231101_212949-tpd4yg53/files/model-best/assets\n",
      "\u001b[34m\u001b[1mwandb\u001b[0m: Adding directory to artifact (/home/jovyan/MSC_Thesis/MSc_Thesis_2023/wandb/run-20231101_212949-tpd4yg53/files/model-best)... Done. 5.2s\n"
     ]
    },
    {
     "name": "stdout",
     "output_type": "stream",
     "text": [
      "37/37 [==============================] - 580s 16s/step - loss: 0.8599 - mean_squared_error: 0.8599 - mean_absolute_error: 0.6907 - mean_squared_logarithmic_error: 0.1318 - val_loss: 1.2286 - val_mean_squared_error: 1.2286 - val_mean_absolute_error: 0.8780 - val_mean_squared_logarithmic_error: 0.1618\n",
      "Epoch 15/75\n",
      "37/37 [==============================] - ETA: 0s - loss: 0.8288 - mean_squared_error: 0.8288 - mean_absolute_error: 0.6793 - mean_squared_logarithmic_error: 0.1270 "
     ]
    },
    {
     "name": "stderr",
     "output_type": "stream",
     "text": [
      "WARNING:absl:Found untraced functions such as _jit_compiled_convolution_op, _jit_compiled_convolution_op, _jit_compiled_convolution_op, _jit_compiled_convolution_op, _jit_compiled_convolution_op while saving (showing 5 of 9). These functions will not be directly callable after loading.\n"
     ]
    },
    {
     "name": "stdout",
     "output_type": "stream",
     "text": [
      "INFO:tensorflow:Assets written to: /home/jovyan/MSC_Thesis/MSc_Thesis_2023/wandb/run-20231101_212949-tpd4yg53/files/model-best/assets\n"
     ]
    },
    {
     "name": "stderr",
     "output_type": "stream",
     "text": [
      "INFO:tensorflow:Assets written to: /home/jovyan/MSC_Thesis/MSc_Thesis_2023/wandb/run-20231101_212949-tpd4yg53/files/model-best/assets\n",
      "\u001b[34m\u001b[1mwandb\u001b[0m: Adding directory to artifact (/home/jovyan/MSC_Thesis/MSc_Thesis_2023/wandb/run-20231101_212949-tpd4yg53/files/model-best)... Done. 5.0s\n"
     ]
    },
    {
     "name": "stdout",
     "output_type": "stream",
     "text": [
      "37/37 [==============================] - 580s 16s/step - loss: 0.8288 - mean_squared_error: 0.8288 - mean_absolute_error: 0.6793 - mean_squared_logarithmic_error: 0.1270 - val_loss: 1.1275 - val_mean_squared_error: 1.1275 - val_mean_absolute_error: 0.8362 - val_mean_squared_logarithmic_error: 0.1431\n",
      "Epoch 16/75\n",
      "37/37 [==============================] - 566s 15s/step - loss: 0.8299 - mean_squared_error: 0.8299 - mean_absolute_error: 0.6801 - mean_squared_logarithmic_error: 0.1266 - val_loss: 1.1779 - val_mean_squared_error: 1.1779 - val_mean_absolute_error: 0.8585 - val_mean_squared_logarithmic_error: 0.1407\n",
      "Epoch 17/75\n",
      "37/37 [==============================] - ETA: 0s - loss: 0.8275 - mean_squared_error: 0.8275 - mean_absolute_error: 0.6762 - mean_squared_logarithmic_error: 0.1255 "
     ]
    },
    {
     "name": "stderr",
     "output_type": "stream",
     "text": [
      "WARNING:absl:Found untraced functions such as _jit_compiled_convolution_op, _jit_compiled_convolution_op, _jit_compiled_convolution_op, _jit_compiled_convolution_op, _jit_compiled_convolution_op while saving (showing 5 of 9). These functions will not be directly callable after loading.\n"
     ]
    },
    {
     "name": "stdout",
     "output_type": "stream",
     "text": [
      "INFO:tensorflow:Assets written to: /home/jovyan/MSC_Thesis/MSc_Thesis_2023/wandb/run-20231101_212949-tpd4yg53/files/model-best/assets\n"
     ]
    },
    {
     "name": "stderr",
     "output_type": "stream",
     "text": [
      "INFO:tensorflow:Assets written to: /home/jovyan/MSC_Thesis/MSc_Thesis_2023/wandb/run-20231101_212949-tpd4yg53/files/model-best/assets\n",
      "\u001b[34m\u001b[1mwandb\u001b[0m: Adding directory to artifact (/home/jovyan/MSC_Thesis/MSc_Thesis_2023/wandb/run-20231101_212949-tpd4yg53/files/model-best)... Done. 5.1s\n"
     ]
    },
    {
     "name": "stdout",
     "output_type": "stream",
     "text": [
      "37/37 [==============================] - 581s 16s/step - loss: 0.8275 - mean_squared_error: 0.8275 - mean_absolute_error: 0.6762 - mean_squared_logarithmic_error: 0.1255 - val_loss: 0.9375 - val_mean_squared_error: 0.9375 - val_mean_absolute_error: 0.7489 - val_mean_squared_logarithmic_error: 0.1220\n",
      "Epoch 18/75\n",
      "37/37 [==============================] - 567s 15s/step - loss: 0.7848 - mean_squared_error: 0.7848 - mean_absolute_error: 0.6593 - mean_squared_logarithmic_error: 0.1239 - val_loss: 1.1851 - val_mean_squared_error: 1.1851 - val_mean_absolute_error: 0.8615 - val_mean_squared_logarithmic_error: 0.1524\n",
      "Epoch 19/75\n",
      "37/37 [==============================] - 566s 15s/step - loss: 0.7877 - mean_squared_error: 0.7877 - mean_absolute_error: 0.6572 - mean_squared_logarithmic_error: 0.1210 - val_loss: 1.6435 - val_mean_squared_error: 1.6435 - val_mean_absolute_error: 1.0361 - val_mean_squared_logarithmic_error: 0.2033\n",
      "Epoch 20/75\n",
      "37/37 [==============================] - 567s 15s/step - loss: 0.7776 - mean_squared_error: 0.7776 - mean_absolute_error: 0.6551 - mean_squared_logarithmic_error: 0.1181 - val_loss: 1.2847 - val_mean_squared_error: 1.2847 - val_mean_absolute_error: 0.8992 - val_mean_squared_logarithmic_error: 0.1639\n",
      "Epoch 21/75\n",
      "37/37 [==============================] - 566s 15s/step - loss: 0.7527 - mean_squared_error: 0.7527 - mean_absolute_error: 0.6486 - mean_squared_logarithmic_error: 0.1176 - val_loss: 1.2333 - val_mean_squared_error: 1.2333 - val_mean_absolute_error: 0.8804 - val_mean_squared_logarithmic_error: 0.1534\n",
      "Epoch 22/75\n",
      "37/37 [==============================] - 568s 15s/step - loss: 0.7340 - mean_squared_error: 0.7340 - mean_absolute_error: 0.6395 - mean_squared_logarithmic_error: 0.1148 - val_loss: 1.0828 - val_mean_squared_error: 1.0828 - val_mean_absolute_error: 0.8196 - val_mean_squared_logarithmic_error: 0.1410\n",
      "Epoch 23/75\n",
      "37/37 [==============================] - 567s 15s/step - loss: 0.7224 - mean_squared_error: 0.7224 - mean_absolute_error: 0.6302 - mean_squared_logarithmic_error: 0.1120 - val_loss: 1.1129 - val_mean_squared_error: 1.1129 - val_mean_absolute_error: 0.8321 - val_mean_squared_logarithmic_error: 0.1415\n",
      "Epoch 24/75\n",
      "37/37 [==============================] - 567s 15s/step - loss: 0.6991 - mean_squared_error: 0.6991 - mean_absolute_error: 0.6260 - mean_squared_logarithmic_error: 0.1094 - val_loss: 1.0869 - val_mean_squared_error: 1.0869 - val_mean_absolute_error: 0.8233 - val_mean_squared_logarithmic_error: 0.1365\n",
      "Epoch 25/75\n",
      "37/37 [==============================] - 567s 15s/step - loss: 0.6986 - mean_squared_error: 0.6986 - mean_absolute_error: 0.6234 - mean_squared_logarithmic_error: 0.1078 - val_loss: 1.1600 - val_mean_squared_error: 1.1600 - val_mean_absolute_error: 0.8561 - val_mean_squared_logarithmic_error: 0.1439\n",
      "Epoch 26/75\n",
      "37/37 [==============================] - 566s 15s/step - loss: 0.6806 - mean_squared_error: 0.6806 - mean_absolute_error: 0.6138 - mean_squared_logarithmic_error: 0.1061 - val_loss: 1.0863 - val_mean_squared_error: 1.0863 - val_mean_absolute_error: 0.8232 - val_mean_squared_logarithmic_error: 0.1331\n",
      "Epoch 27/75\n",
      "37/37 [==============================] - 567s 15s/step - loss: 0.7990 - mean_squared_error: 0.7990 - mean_absolute_error: 0.6598 - mean_squared_logarithmic_error: 0.1217 - val_loss: 1.3340 - val_mean_squared_error: 1.3340 - val_mean_absolute_error: 0.9246 - val_mean_squared_logarithmic_error: 0.1666\n",
      "Epoch 28/75\n",
      "37/37 [==============================] - 567s 15s/step - loss: 0.7261 - mean_squared_error: 0.7261 - mean_absolute_error: 0.6317 - mean_squared_logarithmic_error: 0.1166 - val_loss: 1.1252 - val_mean_squared_error: 1.1252 - val_mean_absolute_error: 0.8392 - val_mean_squared_logarithmic_error: 0.1423\n",
      "Epoch 29/75\n",
      "37/37 [==============================] - 567s 15s/step - loss: 0.7045 - mean_squared_error: 0.7045 - mean_absolute_error: 0.6220 - mean_squared_logarithmic_error: 0.1134 - val_loss: 1.3669 - val_mean_squared_error: 1.3669 - val_mean_absolute_error: 0.9381 - val_mean_squared_logarithmic_error: 0.1671\n",
      "Epoch 30/75\n",
      "37/37 [==============================] - 568s 15s/step - loss: 0.6816 - mean_squared_error: 0.6816 - mean_absolute_error: 0.6109 - mean_squared_logarithmic_error: 0.1081 - val_loss: 1.5242 - val_mean_squared_error: 1.5242 - val_mean_absolute_error: 0.9969 - val_mean_squared_logarithmic_error: 0.1856\n",
      "Epoch 31/75\n",
      "37/37 [==============================] - 566s 15s/step - loss: 0.6681 - mean_squared_error: 0.6681 - mean_absolute_error: 0.6073 - mean_squared_logarithmic_error: 0.1076 - val_loss: 1.3278 - val_mean_squared_error: 1.3278 - val_mean_absolute_error: 0.9223 - val_mean_squared_logarithmic_error: 0.1613\n",
      "Epoch 32/75\n",
      "37/37 [==============================] - 567s 15s/step - loss: 0.6701 - mean_squared_error: 0.6701 - mean_absolute_error: 0.6144 - mean_squared_logarithmic_error: 0.1060 - val_loss: 1.1530 - val_mean_squared_error: 1.1530 - val_mean_absolute_error: 0.8519 - val_mean_squared_logarithmic_error: 0.1415\n",
      "Epoch 33/75\n",
      "37/37 [==============================] - 567s 15s/step - loss: 0.6552 - mean_squared_error: 0.6552 - mean_absolute_error: 0.6035 - mean_squared_logarithmic_error: 0.1028 - val_loss: 1.2770 - val_mean_squared_error: 1.2770 - val_mean_absolute_error: 0.9034 - val_mean_squared_logarithmic_error: 0.1567\n",
      "Epoch 34/75\n",
      "37/37 [==============================] - 566s 15s/step - loss: 0.6600 - mean_squared_error: 0.6600 - mean_absolute_error: 0.6023 - mean_squared_logarithmic_error: 0.1024 - val_loss: 1.1438 - val_mean_squared_error: 1.1438 - val_mean_absolute_error: 0.8468 - val_mean_squared_logarithmic_error: 0.1408\n",
      "Epoch 35/75\n",
      "37/37 [==============================] - 566s 15s/step - loss: 0.6453 - mean_squared_error: 0.6453 - mean_absolute_error: 0.6001 - mean_squared_logarithmic_error: 0.1006 - val_loss: 1.1715 - val_mean_squared_error: 1.1715 - val_mean_absolute_error: 0.8604 - val_mean_squared_logarithmic_error: 0.1430\n",
      "Epoch 36/75\n",
      "37/37 [==============================] - 567s 15s/step - loss: 0.6170 - mean_squared_error: 0.6170 - mean_absolute_error: 0.5871 - mean_squared_logarithmic_error: 0.0967 - val_loss: 1.1834 - val_mean_squared_error: 1.1834 - val_mean_absolute_error: 0.8624 - val_mean_squared_logarithmic_error: 0.1435\n",
      "Epoch 37/75\n",
      "37/37 [==============================] - 567s 15s/step - loss: 0.6180 - mean_squared_error: 0.6180 - mean_absolute_error: 0.5878 - mean_squared_logarithmic_error: 0.0964 - val_loss: 1.2667 - val_mean_squared_error: 1.2667 - val_mean_absolute_error: 0.8978 - val_mean_squared_logarithmic_error: 0.1535\n",
      "Epoch 38/75\n",
      "37/37 [==============================] - 567s 15s/step - loss: 0.6033 - mean_squared_error: 0.6033 - mean_absolute_error: 0.5782 - mean_squared_logarithmic_error: 0.0958 - val_loss: 1.1342 - val_mean_squared_error: 1.1342 - val_mean_absolute_error: 0.8445 - val_mean_squared_logarithmic_error: 0.1414\n",
      "Epoch 39/75\n",
      "37/37 [==============================] - 567s 15s/step - loss: 0.5832 - mean_squared_error: 0.5832 - mean_absolute_error: 0.5709 - mean_squared_logarithmic_error: 0.0914 - val_loss: 1.1537 - val_mean_squared_error: 1.1537 - val_mean_absolute_error: 0.8519 - val_mean_squared_logarithmic_error: 0.1428\n",
      "Epoch 40/75\n",
      "37/37 [==============================] - 567s 15s/step - loss: 0.5969 - mean_squared_error: 0.5969 - mean_absolute_error: 0.5756 - mean_squared_logarithmic_error: 0.0925 - val_loss: 1.3131 - val_mean_squared_error: 1.3131 - val_mean_absolute_error: 0.9174 - val_mean_squared_logarithmic_error: 0.1625\n",
      "Epoch 41/75\n",
      "37/37 [==============================] - 568s 15s/step - loss: 0.5616 - mean_squared_error: 0.5616 - mean_absolute_error: 0.5578 - mean_squared_logarithmic_error: 0.0886 - val_loss: 1.4116 - val_mean_squared_error: 1.4116 - val_mean_absolute_error: 0.9565 - val_mean_squared_logarithmic_error: 0.1743\n",
      "Epoch 42/75\n",
      "37/37 [==============================] - 567s 15s/step - loss: 0.5845 - mean_squared_error: 0.5845 - mean_absolute_error: 0.5680 - mean_squared_logarithmic_error: 0.0892 - val_loss: 1.2675 - val_mean_squared_error: 1.2675 - val_mean_absolute_error: 0.9000 - val_mean_squared_logarithmic_error: 0.1588\n",
      "Epoch 43/75\n",
      "37/37 [==============================] - 566s 15s/step - loss: 0.5828 - mean_squared_error: 0.5828 - mean_absolute_error: 0.5719 - mean_squared_logarithmic_error: 0.0900 - val_loss: 1.1788 - val_mean_squared_error: 1.1788 - val_mean_absolute_error: 0.8647 - val_mean_squared_logarithmic_error: 0.1462\n",
      "Epoch 44/75\n",
      "37/37 [==============================] - 564s 15s/step - loss: 0.5835 - mean_squared_error: 0.5835 - mean_absolute_error: 0.5725 - mean_squared_logarithmic_error: 0.0911 - val_loss: 1.1830 - val_mean_squared_error: 1.1830 - val_mean_absolute_error: 0.8651 - val_mean_squared_logarithmic_error: 0.1463\n",
      "Epoch 45/75\n",
      "37/37 [==============================] - 559s 15s/step - loss: 0.5654 - mean_squared_error: 0.5654 - mean_absolute_error: 0.5590 - mean_squared_logarithmic_error: 0.0875 - val_loss: 1.1075 - val_mean_squared_error: 1.1075 - val_mean_absolute_error: 0.8342 - val_mean_squared_logarithmic_error: 0.1410\n",
      "Epoch 46/75\n",
      "37/37 [==============================] - 558s 15s/step - loss: 0.5616 - mean_squared_error: 0.5616 - mean_absolute_error: 0.5615 - mean_squared_logarithmic_error: 0.0871 - val_loss: 1.2606 - val_mean_squared_error: 1.2606 - val_mean_absolute_error: 0.8965 - val_mean_squared_logarithmic_error: 0.1588\n",
      "Epoch 47/75\n",
      "37/37 [==============================] - 560s 15s/step - loss: 0.5566 - mean_squared_error: 0.5566 - mean_absolute_error: 0.5583 - mean_squared_logarithmic_error: 0.0864 - val_loss: 0.9621 - val_mean_squared_error: 0.9621 - val_mean_absolute_error: 0.7665 - val_mean_squared_logarithmic_error: 0.1297\n",
      "Epoch 48/75\n",
      "37/37 [==============================] - 568s 15s/step - loss: 0.5487 - mean_squared_error: 0.5487 - mean_absolute_error: 0.5544 - mean_squared_logarithmic_error: 0.0848 - val_loss: 1.0041 - val_mean_squared_error: 1.0041 - val_mean_absolute_error: 0.7857 - val_mean_squared_logarithmic_error: 0.1343\n",
      "Epoch 49/75\n",
      "37/37 [==============================] - 569s 15s/step - loss: 0.5596 - mean_squared_error: 0.5596 - mean_absolute_error: 0.5582 - mean_squared_logarithmic_error: 0.0877 - val_loss: 1.3667 - val_mean_squared_error: 1.3667 - val_mean_absolute_error: 0.9399 - val_mean_squared_logarithmic_error: 0.1683\n",
      "Epoch 50/75\n",
      "37/37 [==============================] - 565s 15s/step - loss: 0.5478 - mean_squared_error: 0.5478 - mean_absolute_error: 0.5526 - mean_squared_logarithmic_error: 0.0864 - val_loss: 1.1668 - val_mean_squared_error: 1.1668 - val_mean_absolute_error: 0.8608 - val_mean_squared_logarithmic_error: 0.1471\n",
      "Epoch 51/75\n",
      "37/37 [==============================] - 564s 15s/step - loss: 0.5553 - mean_squared_error: 0.5553 - mean_absolute_error: 0.5593 - mean_squared_logarithmic_error: 0.0866 - val_loss: 1.2038 - val_mean_squared_error: 1.2038 - val_mean_absolute_error: 0.8747 - val_mean_squared_logarithmic_error: 0.1477\n",
      "Epoch 52/75\n",
      "37/37 [==============================] - 564s 15s/step - loss: 0.5255 - mean_squared_error: 0.5255 - mean_absolute_error: 0.5390 - mean_squared_logarithmic_error: 0.0819 - val_loss: 0.9410 - val_mean_squared_error: 0.9410 - val_mean_absolute_error: 0.7588 - val_mean_squared_logarithmic_error: 0.1240\n",
      "Epoch 53/75\n",
      "37/37 [==============================] - 564s 15s/step - loss: 0.5331 - mean_squared_error: 0.5331 - mean_absolute_error: 0.5443 - mean_squared_logarithmic_error: 0.0835 - val_loss: 1.1696 - val_mean_squared_error: 1.1696 - val_mean_absolute_error: 0.8611 - val_mean_squared_logarithmic_error: 0.1462\n",
      "Epoch 54/75\n",
      "37/37 [==============================] - 561s 15s/step - loss: 0.5333 - mean_squared_error: 0.5333 - mean_absolute_error: 0.5425 - mean_squared_logarithmic_error: 0.0827 - val_loss: 1.0577 - val_mean_squared_error: 1.0577 - val_mean_absolute_error: 0.8133 - val_mean_squared_logarithmic_error: 0.1357\n",
      "Epoch 55/75\n",
      "37/37 [==============================] - 560s 15s/step - loss: 0.5189 - mean_squared_error: 0.5189 - mean_absolute_error: 0.5356 - mean_squared_logarithmic_error: 0.0810 - val_loss: 1.1617 - val_mean_squared_error: 1.1617 - val_mean_absolute_error: 0.8558 - val_mean_squared_logarithmic_error: 0.1415\n",
      "Epoch 56/75\n",
      "37/37 [==============================] - 561s 15s/step - loss: 0.5181 - mean_squared_error: 0.5181 - mean_absolute_error: 0.5418 - mean_squared_logarithmic_error: 0.0803 - val_loss: 1.1534 - val_mean_squared_error: 1.1534 - val_mean_absolute_error: 0.8550 - val_mean_squared_logarithmic_error: 0.1410\n",
      "Epoch 57/75\n",
      "37/37 [==============================] - 561s 15s/step - loss: 0.5164 - mean_squared_error: 0.5164 - mean_absolute_error: 0.5360 - mean_squared_logarithmic_error: 0.0804 - val_loss: 1.2427 - val_mean_squared_error: 1.2427 - val_mean_absolute_error: 0.8909 - val_mean_squared_logarithmic_error: 0.1500\n",
      "Epoch 58/75\n",
      "37/37 [==============================] - 562s 15s/step - loss: 0.5161 - mean_squared_error: 0.5161 - mean_absolute_error: 0.5353 - mean_squared_logarithmic_error: 0.0809 - val_loss: 1.1247 - val_mean_squared_error: 1.1247 - val_mean_absolute_error: 0.8388 - val_mean_squared_logarithmic_error: 0.1452\n",
      "Epoch 59/75\n",
      "37/37 [==============================] - 562s 15s/step - loss: 0.5135 - mean_squared_error: 0.5135 - mean_absolute_error: 0.5356 - mean_squared_logarithmic_error: 0.0797 - val_loss: 1.1492 - val_mean_squared_error: 1.1492 - val_mean_absolute_error: 0.8495 - val_mean_squared_logarithmic_error: 0.1486\n",
      "Epoch 60/75\n",
      "37/37 [==============================] - 565s 15s/step - loss: 0.4958 - mean_squared_error: 0.4958 - mean_absolute_error: 0.5254 - mean_squared_logarithmic_error: 0.0779 - val_loss: 1.0830 - val_mean_squared_error: 1.0830 - val_mean_absolute_error: 0.8221 - val_mean_squared_logarithmic_error: 0.1409\n",
      "Epoch 61/75\n",
      "37/37 [==============================] - 564s 15s/step - loss: 0.4898 - mean_squared_error: 0.4898 - mean_absolute_error: 0.5222 - mean_squared_logarithmic_error: 0.0768 - val_loss: 1.1549 - val_mean_squared_error: 1.1549 - val_mean_absolute_error: 0.8541 - val_mean_squared_logarithmic_error: 0.1450\n",
      "Epoch 62/75\n",
      "37/37 [==============================] - 563s 15s/step - loss: 0.4952 - mean_squared_error: 0.4952 - mean_absolute_error: 0.5275 - mean_squared_logarithmic_error: 0.0781 - val_loss: 1.0339 - val_mean_squared_error: 1.0339 - val_mean_absolute_error: 0.8016 - val_mean_squared_logarithmic_error: 0.1299\n",
      "Epoch 63/75\n",
      "37/37 [==============================] - ETA: 0s - loss: 0.4831 - mean_squared_error: 0.4831 - mean_absolute_error: 0.5164 - mean_squared_logarithmic_error: 0.0754 "
     ]
    },
    {
     "name": "stderr",
     "output_type": "stream",
     "text": [
      "WARNING:absl:Found untraced functions such as _jit_compiled_convolution_op, _jit_compiled_convolution_op, _jit_compiled_convolution_op, _jit_compiled_convolution_op, _jit_compiled_convolution_op while saving (showing 5 of 9). These functions will not be directly callable after loading.\n"
     ]
    },
    {
     "name": "stdout",
     "output_type": "stream",
     "text": [
      "INFO:tensorflow:Assets written to: /home/jovyan/MSC_Thesis/MSc_Thesis_2023/wandb/run-20231101_212949-tpd4yg53/files/model-best/assets\n"
     ]
    },
    {
     "name": "stderr",
     "output_type": "stream",
     "text": [
      "INFO:tensorflow:Assets written to: /home/jovyan/MSC_Thesis/MSc_Thesis_2023/wandb/run-20231101_212949-tpd4yg53/files/model-best/assets\n",
      "\u001b[34m\u001b[1mwandb\u001b[0m: Adding directory to artifact (/home/jovyan/MSC_Thesis/MSc_Thesis_2023/wandb/run-20231101_212949-tpd4yg53/files/model-best)... Done. 5.1s\n"
     ]
    },
    {
     "name": "stdout",
     "output_type": "stream",
     "text": [
      "37/37 [==============================] - 579s 16s/step - loss: 0.4831 - mean_squared_error: 0.4831 - mean_absolute_error: 0.5164 - mean_squared_logarithmic_error: 0.0754 - val_loss: 0.8744 - val_mean_squared_error: 0.8744 - val_mean_absolute_error: 0.7264 - val_mean_squared_logarithmic_error: 0.1164\n",
      "Epoch 64/75\n",
      "37/37 [==============================] - 564s 15s/step - loss: 0.4756 - mean_squared_error: 0.4756 - mean_absolute_error: 0.5169 - mean_squared_logarithmic_error: 0.0752 - val_loss: 1.0459 - val_mean_squared_error: 1.0459 - val_mean_absolute_error: 0.8074 - val_mean_squared_logarithmic_error: 0.1344\n",
      "Epoch 65/75\n",
      "37/37 [==============================] - 563s 15s/step - loss: 0.4819 - mean_squared_error: 0.4819 - mean_absolute_error: 0.5199 - mean_squared_logarithmic_error: 0.0746 - val_loss: 1.1338 - val_mean_squared_error: 1.1338 - val_mean_absolute_error: 0.8448 - val_mean_squared_logarithmic_error: 0.1415\n",
      "Epoch 66/75\n",
      "37/37 [==============================] - 564s 15s/step - loss: 0.4780 - mean_squared_error: 0.4780 - mean_absolute_error: 0.5161 - mean_squared_logarithmic_error: 0.0746 - val_loss: 0.9063 - val_mean_squared_error: 0.9063 - val_mean_absolute_error: 0.7403 - val_mean_squared_logarithmic_error: 0.1193\n",
      "Epoch 67/75\n",
      "37/37 [==============================] - 564s 15s/step - loss: 0.4871 - mean_squared_error: 0.4871 - mean_absolute_error: 0.5208 - mean_squared_logarithmic_error: 0.0749 - val_loss: 1.2057 - val_mean_squared_error: 1.2057 - val_mean_absolute_error: 0.8746 - val_mean_squared_logarithmic_error: 0.1464\n",
      "Epoch 68/75\n",
      "37/37 [==============================] - 564s 15s/step - loss: 0.4711 - mean_squared_error: 0.4711 - mean_absolute_error: 0.5129 - mean_squared_logarithmic_error: 0.0739 - val_loss: 0.9005 - val_mean_squared_error: 0.9005 - val_mean_absolute_error: 0.7404 - val_mean_squared_logarithmic_error: 0.1170\n",
      "Epoch 69/75\n",
      "37/37 [==============================] - 564s 15s/step - loss: 0.4726 - mean_squared_error: 0.4726 - mean_absolute_error: 0.5142 - mean_squared_logarithmic_error: 0.0734 - val_loss: 1.0480 - val_mean_squared_error: 1.0480 - val_mean_absolute_error: 0.8114 - val_mean_squared_logarithmic_error: 0.1330\n",
      "Epoch 70/75\n",
      "37/37 [==============================] - ETA: 0s - loss: 0.4796 - mean_squared_error: 0.4796 - mean_absolute_error: 0.5212 - mean_squared_logarithmic_error: 0.0742 "
     ]
    },
    {
     "name": "stderr",
     "output_type": "stream",
     "text": [
      "WARNING:absl:Found untraced functions such as _jit_compiled_convolution_op, _jit_compiled_convolution_op, _jit_compiled_convolution_op, _jit_compiled_convolution_op, _jit_compiled_convolution_op while saving (showing 5 of 9). These functions will not be directly callable after loading.\n"
     ]
    },
    {
     "name": "stdout",
     "output_type": "stream",
     "text": [
      "INFO:tensorflow:Assets written to: /home/jovyan/MSC_Thesis/MSc_Thesis_2023/wandb/run-20231101_212949-tpd4yg53/files/model-best/assets\n"
     ]
    },
    {
     "name": "stderr",
     "output_type": "stream",
     "text": [
      "INFO:tensorflow:Assets written to: /home/jovyan/MSC_Thesis/MSc_Thesis_2023/wandb/run-20231101_212949-tpd4yg53/files/model-best/assets\n",
      "\u001b[34m\u001b[1mwandb\u001b[0m: Adding directory to artifact (/home/jovyan/MSC_Thesis/MSc_Thesis_2023/wandb/run-20231101_212949-tpd4yg53/files/model-best)... Done. 5.0s\n"
     ]
    },
    {
     "name": "stdout",
     "output_type": "stream",
     "text": [
      "37/37 [==============================] - 578s 16s/step - loss: 0.4796 - mean_squared_error: 0.4796 - mean_absolute_error: 0.5212 - mean_squared_logarithmic_error: 0.0742 - val_loss: 0.7862 - val_mean_squared_error: 0.7862 - val_mean_absolute_error: 0.6844 - val_mean_squared_logarithmic_error: 0.1075\n",
      "Epoch 71/75\n",
      "37/37 [==============================] - 564s 15s/step - loss: 0.4629 - mean_squared_error: 0.4629 - mean_absolute_error: 0.5128 - mean_squared_logarithmic_error: 0.0735 - val_loss: 0.8998 - val_mean_squared_error: 0.8998 - val_mean_absolute_error: 0.7397 - val_mean_squared_logarithmic_error: 0.1198\n",
      "Epoch 72/75\n",
      "37/37 [==============================] - 566s 15s/step - loss: 0.4739 - mean_squared_error: 0.4739 - mean_absolute_error: 0.5151 - mean_squared_logarithmic_error: 0.0734 - val_loss: 0.8783 - val_mean_squared_error: 0.8783 - val_mean_absolute_error: 0.7301 - val_mean_squared_logarithmic_error: 0.1178\n",
      "Epoch 73/75\n",
      "37/37 [==============================] - 565s 15s/step - loss: 0.4773 - mean_squared_error: 0.4773 - mean_absolute_error: 0.5186 - mean_squared_logarithmic_error: 0.0749 - val_loss: 0.8777 - val_mean_squared_error: 0.8777 - val_mean_absolute_error: 0.7252 - val_mean_squared_logarithmic_error: 0.1194\n",
      "Epoch 74/75\n",
      "37/37 [==============================] - 564s 15s/step - loss: 0.4653 - mean_squared_error: 0.4653 - mean_absolute_error: 0.5093 - mean_squared_logarithmic_error: 0.0725 - val_loss: 0.8271 - val_mean_squared_error: 0.8271 - val_mean_absolute_error: 0.7006 - val_mean_squared_logarithmic_error: 0.1125\n",
      "Epoch 75/75\n",
      "37/37 [==============================] - 561s 15s/step - loss: 0.4493 - mean_squared_error: 0.4493 - mean_absolute_error: 0.5042 - mean_squared_logarithmic_error: 0.0724 - val_loss: 0.8149 - val_mean_squared_error: 0.8149 - val_mean_absolute_error: 0.6956 - val_mean_squared_logarithmic_error: 0.1125\n"
     ]
    }
   ],
   "source": [
    "es = tf.keras.callbacks.EarlyStopping(monitor='loss', patience=5)\n",
    "history = model.fit(X_train, y_train,\n",
    "            validation_data = (X_test, y_test),\n",
    "            callbacks=[WandbCallback(),es],\n",
    "            # callbacks=[es],\n",
    "            epochs=config[\"epochs\"],\n",
    "            batch_size=config[\"batch_size\"],\n",
    "            verbose=1)"
   ]
  },
  {
   "cell_type": "code",
   "execution_count": 19,
   "id": "9061f1b0-03ac-467e-954a-8a6acc6733c5",
   "metadata": {},
   "outputs": [],
   "source": [
    "def run_prediction(patch_src_read,f_name):\n",
    "    # print(patch_src_read.shape)\n",
    "    img_array = image.img_to_array(patch_src_read[:,:,0:12])\n",
    "    img_batch = np.expand_dims(img_array, axis=0)\n",
    "    prediction = unet_encoder.predict(img_batch)\n",
    "    print(prediction.shape)\n",
    "    print(prediction.min())\n",
    "    print(prediction.max())\n",
    "\n",
    "    # plt.imshow(prediction[0][:,:,0])\n",
    "    # plt.imsave(os.path.join(self.output_eval_dir,f_name+\".png\"),prediction[0][:,:,0],cmap=cm.gray)\n",
    "    # self.pred_val.append(prediction[0])\n",
    "    # self.test_patches.append(img_batch)\n",
    "    return prediction"
   ]
  },
  {
   "cell_type": "code",
   "execution_count": 20,
   "id": "9d6608ad-db94-43fd-b13e-d5c80d221993",
   "metadata": {},
   "outputs": [],
   "source": [
    "target_file_path = \"Input/Target/concat/target_yield.shp\"\n",
    "patch_name_list = list()\n",
    "patch_geom_list = list()\n",
    "output_eval_dir = \"Output/Evaluation/unet_segmented/model_BSize_256_NEpochs_10_2023-10-30 15:48:34.412397\"\n",
    "def read_test():\n",
    "    test_file_list = glob.glob(os.path.join(test_path,\"*.tif\"))\n",
    "    target_gdf = gpd.read_file(target_file_path)\n",
    "    print(\"Total Number of Patches:\",len(test_file_list))\n",
    "    pred_df = dict()\n",
    "    count = 0 \n",
    "\n",
    "    for file in test_file_list:\n",
    "\n",
    "        patch_src = rio.open(file)\n",
    "        f_name = file.split(\"/\")[-1].split(\".\")[0]\n",
    "        patch_src_read = reshape_as_image(patch_src.read()) #Change if want to include mask layer\n",
    "        rec= target_gdf.query(f\"patch_name == '{f_name}'\")\n",
    "        query = rec[\"ykg_by_e7\"]\n",
    "        if len(query) != 1:\n",
    "            # print(\"patch has no target value, skipping patch : {}\".format(f_name))\n",
    "            continue\n",
    "        # self.test_patches.append(patch_src_read)  \n",
    "\n",
    "        # patch_name_list.append(f_name)\n",
    "        # patch_geom_list.append(rec[\"geometry\"].iloc[0])\n",
    "\n",
    "        prediction = run_prediction(patch_src_read,f_name)\n",
    "        # meta = patch_src.meta.copy()\n",
    "        # meta.update(\n",
    "        #     dtype=rio.float32,\n",
    "        #     count=1)\n",
    "        # outpath = output_eval_dir+\"/\"+f_name+\".tif\"\n",
    "        # with rio.open(outpath, 'w', **meta) as outds:\n",
    "        #     outds.write_band(1,prediction)\n",
    "        # self.true_val.append(float(query))\n",
    "        patch_src.close()\n",
    "        return prediction\n",
    "        count+=1\n",
    "        if count == 1:\n",
    "            break\n",
    "\n",
    "\n"
   ]
  },
  {
   "cell_type": "code",
   "execution_count": 21,
   "id": "a755a1b1-50f6-4c68-9474-ee2261955698",
   "metadata": {},
   "outputs": [
    {
     "name": "stdout",
     "output_type": "stream",
     "text": [
      "Total Number of Patches: 2013\n",
      "1/1 [==============================] - 0s 25ms/step\n",
      "(1, 16, 16, 1024)\n",
      "0.0\n",
      "1.6201233\n"
     ]
    }
   ],
   "source": [
    "pred = read_test()"
   ]
  },
  {
   "cell_type": "code",
   "execution_count": 22,
   "id": "d821d84b-9f92-48cf-b54a-39a3a0c53e10",
   "metadata": {},
   "outputs": [
    {
     "data": {
      "text/plain": [
       "(1, 16, 16, 1024)"
      ]
     },
     "execution_count": 22,
     "metadata": {},
     "output_type": "execute_result"
    }
   ],
   "source": [
    "pred.shape"
   ]
  }
 ],
 "metadata": {
  "kernelspec": {
   "display_name": "Python",
   "language": "python",
   "name": "python3"
  },
  "language_info": {
   "codemirror_mode": {
    "name": "ipython",
    "version": 3
   },
   "file_extension": ".py",
   "mimetype": "text/x-python",
   "name": "python",
   "nbconvert_exporter": "python",
   "pygments_lexer": "ipython3",
   "version": "3.8.10"
  }
 },
 "nbformat": 4,
 "nbformat_minor": 5
}
