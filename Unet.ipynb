{
 "cells": [
  {
   "cell_type": "code",
   "execution_count": 1,
   "id": "6a10d0b2-93fa-4423-8880-ad8726cd475e",
   "metadata": {},
   "outputs": [],
   "source": [
    "import tensorflow as tf\n",
    "from tensorflow import keras\n",
    "from tensorflow.keras import layers\n",
    "import tensorflow_datasets as tfds\n",
    "import matplotlib.pyplot as plt\n",
    "import numpy as np\n",
    "import geopandas as gpd\n",
    "import rasterio as rio\n",
    "from rasterio.plot import reshape_as_image\n",
    "from tensorflow.keras.callbacks import EarlyStopping, ModelCheckpoint, ReduceLROnPlateau, CSVLogger, TensorBoard\n",
    "from sklearn.model_selection import train_test_split\n",
    "import glob,os,sys,cv2\n",
    "from datetime import datetime\n",
    "\n",
    "import wandb\n",
    "from wandb.keras import WandbCallback\n",
    "\n",
    "os.environ['CUDA_VISIBLE_DEVICES'] = '-1'\n",
    "training_path = \"Input/sentinel/test_data_from_drive/patches_all/normalised_train\"\n",
    "target_file_path = \"Input/Target/concat/target_yield.shp\"\n",
    "patch_dim = (256, 256, 13)\n"
   ]
  },
  {
   "cell_type": "code",
   "execution_count": 2,
   "id": "a9c81b1d-01e5-4743-a988-f2cc75a3050b",
   "metadata": {},
   "outputs": [
    {
     "name": "stderr",
     "output_type": "stream",
     "text": [
      "2023-11-03 18:50:41.762989: E tensorflow/stream_executor/cuda/cuda_driver.cc:271] failed call to cuInit: CUDA_ERROR_NO_DEVICE: no CUDA-capable device is detected\n",
      "ERROR:wandb.jupyter:Failed to detect the name of this notebook, you can set it manually with the WANDB_NOTEBOOK_NAME environment variable to enable code saving.\n",
      "\u001b[34m\u001b[1mwandb\u001b[0m: Currently logged in as: \u001b[33maarun-vishwanath\u001b[0m (\u001b[33mmsc-thesis\u001b[0m). Use \u001b[1m`wandb login --relogin`\u001b[0m to force relogin\n"
     ]
    },
    {
     "data": {
      "text/html": [
       "wandb version 0.15.12 is available!  To upgrade, please run:\n",
       " $ pip install wandb --upgrade"
      ],
      "text/plain": [
       "<IPython.core.display.HTML object>"
      ]
     },
     "metadata": {},
     "output_type": "display_data"
    },
    {
     "data": {
      "text/html": [
       "Tracking run with wandb version 0.13.10"
      ],
      "text/plain": [
       "<IPython.core.display.HTML object>"
      ]
     },
     "metadata": {},
     "output_type": "display_data"
    },
    {
     "data": {
      "text/html": [
       "Run data is saved locally in <code>/home/jovyan/MSC_Thesis/MSc_Thesis_2023/wandb/run-20231103_185046-qvs9115i</code>"
      ],
      "text/plain": [
       "<IPython.core.display.HTML object>"
      ]
     },
     "metadata": {},
     "output_type": "display_data"
    },
    {
     "data": {
      "text/html": [
       "Syncing run <strong><a href='https://wandb.ai/msc-thesis/unet_segmentation/runs/qvs9115i' target=\"_blank\">astral-resonance-4</a></strong> to <a href='https://wandb.ai/msc-thesis/unet_segmentation' target=\"_blank\">Weights & Biases</a> (<a href='https://wandb.me/run' target=\"_blank\">docs</a>)<br/>"
      ],
      "text/plain": [
       "<IPython.core.display.HTML object>"
      ]
     },
     "metadata": {},
     "output_type": "display_data"
    },
    {
     "data": {
      "text/html": [
       " View project at <a href='https://wandb.ai/msc-thesis/unet_segmentation' target=\"_blank\">https://wandb.ai/msc-thesis/unet_segmentation</a>"
      ],
      "text/plain": [
       "<IPython.core.display.HTML object>"
      ]
     },
     "metadata": {},
     "output_type": "display_data"
    },
    {
     "data": {
      "text/html": [
       " View run at <a href='https://wandb.ai/msc-thesis/unet_segmentation/runs/qvs9115i' target=\"_blank\">https://wandb.ai/msc-thesis/unet_segmentation/runs/qvs9115i</a>"
      ],
      "text/plain": [
       "<IPython.core.display.HTML object>"
      ]
     },
     "metadata": {},
     "output_type": "display_data"
    }
   ],
   "source": [
    "metrics = [tf.keras.metrics.BinaryIoU(target_class_ids = (0, 1),\n",
    "                            threshold=0.5,\n",
    "                            name=None,\n",
    "                            dtype=None),tf.keras.metrics.BinaryAccuracy(\n",
    "                            name='binary_accuracy', dtype=None, threshold=0.5\n",
    "                        )]\n",
    "\n",
    "\n",
    "config = {\n",
    "\"epochs\":30,\n",
    "\"batch_size\":350,\n",
    "\"loss_function\":'binary_crossentropy',\n",
    "# \"metrics\":[mse,rmse,mae,mape,msle,cos_sim,log_cos],\n",
    "\"metrics\":metrics,\n",
    "\"learning_rate\":1e-4\n",
    "# \"optimizer\":'adam'\n",
    "}\n",
    "wandb.init(project=\"unet_segmentation\", entity=\"msc-thesis\",config=config)\n",
    "now = datetime.now()\n",
    "date_time = now.strftime(\"%d_%m_%Y_%H_%M_%S\")\n",
    "\n",
    "wandb.run.name = wandb.run.id+\"_\"+date_time"
   ]
  },
  {
   "cell_type": "code",
   "execution_count": 3,
   "id": "8e265cae-e649-4f37-82c5-db97379973a3",
   "metadata": {},
   "outputs": [],
   "source": [
    "def double_conv_block(x, n_filters):\n",
    "    # Conv2D then ReLU activation\n",
    "    x = layers.Conv2D(n_filters, 3, padding = \"same\", activation = \"relu\", kernel_initializer = \"he_normal\")(x)\n",
    "    # Conv2D then ReLU activation\n",
    "    x = layers.Conv2D(n_filters, 3, padding = \"same\", activation = \"relu\", kernel_initializer = \"he_normal\")(x)\n",
    "    return x\n",
    "\n",
    "def downsample_block(x, n_filters):\n",
    "    f = double_conv_block(x, n_filters)\n",
    "    p = layers.MaxPool2D(2)(f)\n",
    "    p = layers.Dropout(0.3)(p)\n",
    "    return f, p\n",
    "\n",
    "def upsample_block(x, conv_features, n_filters):\n",
    "    # upsample\n",
    "    x = layers.Conv2DTranspose(n_filters, 3, 2, padding=\"same\")(x)\n",
    "    # concatenate\n",
    "    x = layers.concatenate([x, conv_features])\n",
    "    # dropout\n",
    "    x = layers.Dropout(0.3)(x)\n",
    "    # Conv2D twice with ReLU activation\n",
    "    x = double_conv_block(x, n_filters)\n",
    "    return x"
   ]
  },
  {
   "cell_type": "code",
   "execution_count": 4,
   "id": "b692c632-848f-4cb1-9b9d-a78154414fb8",
   "metadata": {},
   "outputs": [
    {
     "name": "stdout",
     "output_type": "stream",
     "text": [
      "Total Number of Patches: 12361\n",
      "Any Null values?  False\n",
      "x shape :(12361, 256, 256, 12), y shape: (12361, 256, 256, 1)\n"
     ]
    }
   ],
   "source": [
    "def read_training():\n",
    "    training_file_list = glob.glob(os.path.join(training_path,\"*.tif\"))\n",
    "    target_gdf = gpd.read_file(target_file_path)\n",
    "    print(\"Total Number of Patches:\",len(training_file_list))\n",
    "    ignore_patch_list = list()\n",
    "    x = list()\n",
    "    y = list()\n",
    "    X_train = list()\n",
    "    X_test = list()\n",
    "    y_train = list()\n",
    "    y_test = list()\n",
    "    count = 0 \n",
    "    for file in training_file_list:\n",
    "\n",
    "        patch_src = rio.open(file)\n",
    "        f_name = file.split(\"/\")[-1].split(\".\")[0]\n",
    "        patch_src_read = reshape_as_image(patch_src.read()) ## Change the index here to add or remove the mask layer\n",
    "        # print(0)\n",
    "        if patch_src_read.shape != patch_dim:\n",
    "            ignore_patch_list.append(f_name)\n",
    "            # print(\"Patch Dimensions Mismatch, skipping patch : {}\".format(f_name))\n",
    "            continue\n",
    "\n",
    "        # print(1)\n",
    "        if np.isnan(patch_src_read).any():\n",
    "            # print(\"Has Nan values, skipping patch : {}\".format(f_name))\n",
    "            continue\n",
    "\n",
    "        # print(2)\n",
    "        query = target_gdf.query(f\"patch_name == '{f_name}'\")[\"ykg_by_e7\"]\n",
    "        if len(query) != 1:\n",
    "            # print(\"patch has no target value, skipping patch : {}\".format(f_name))\n",
    "            continue\n",
    "        # print(patch_src_read[:,:,0:12].shape)\n",
    "        # print(patch_src_read[:,:,12].shape)\n",
    "\n",
    "        x.append(patch_src_read[:,:,0:12])\n",
    "        y.append(patch_src_read[:,:,12])\n",
    "        # y.append(float(query))\n",
    "\n",
    "        patch_src.close()\n",
    "        # print(count)\n",
    "        count +=1\n",
    "        # if count > 100:\n",
    "        #     break\n",
    "\n",
    "    # self.y = self.scaler.fit_transform(np.array(self.y).reshape(-1, 1))\n",
    "    y = np.array(y)\n",
    "    y = np.expand_dims(y,-1)\n",
    "    x = np.array(x)\n",
    "    \n",
    "    # x = (x-np.min(x))/(np.max(x)-np.min(x))\n",
    "    print(\"Any Null values? \",np.isnan(x).any())\n",
    "    # print(self.y)\n",
    "    # self.x = np.nan_to_num(self.x, nan=0)# Check for different value for no data\n",
    "    print(f\"x shape :{x.shape}, y shape: {y.shape}\")\n",
    "    # print(np.nanmin(self.x),np.nanmax(self.x))\n",
    "    X_train, X_test, y_train, y_test = train_test_split(x, y, test_size=0.25)\n",
    "    return X_train, X_test, y_train, y_test\n",
    "    #Also, split the training into train and val\n",
    "    # For testing, keep a part of the dataset as seperate (final month)\n",
    "\n",
    "X_train, X_test, y_train, y_test = read_training()"
   ]
  },
  {
   "cell_type": "code",
   "execution_count": 5,
   "id": "babaf29d-46f0-4307-ba1c-89da3929effe",
   "metadata": {},
   "outputs": [
    {
     "data": {
      "text/plain": [
       "1.0"
      ]
     },
     "execution_count": 5,
     "metadata": {},
     "output_type": "execute_result"
    }
   ],
   "source": [
    "X_test.max()"
   ]
  },
  {
   "cell_type": "code",
   "execution_count": 6,
   "id": "dfa471f6-a3ea-4630-b92b-f8cbb665de0c",
   "metadata": {},
   "outputs": [],
   "source": [
    "def build_unet_model():\n",
    "    # inputs\n",
    "    inputs = layers.Input(shape=(256,256,12))\n",
    "\n",
    "    # encoder: contracting path - downsample\n",
    "    # 1 - downsample\n",
    "    f1, p1 = downsample_block(inputs, 64)\n",
    "    # 2 - downsample\n",
    "    f2, p2 = downsample_block(p1, 128)\n",
    "    # 3 - downsample\n",
    "    f3, p3 = downsample_block(p2, 256)\n",
    "    # 4 - downsample\n",
    "    f4, p4 = downsample_block(p3, 512)\n",
    "\n",
    "    # 5 - bottleneck\n",
    "    bottleneck = double_conv_block(p4, 1024)\n",
    "    \n",
    "    # flat = layers.Flatten()\n",
    "    # model.add(layers.Dense(64, activation='relu')) # Add another dense layer\n",
    "    # model.add(Dropout(0.5))\n",
    "    # model.add(layers.Dense(32, activation='relu'))\n",
    "    # model.add(layers.Dense(16, activation='relu'))\n",
    "    # model.add(layers.Dense(8, activation='relu'))\n",
    "    # model.add(layers.Dense(4, activation='relu'))\n",
    "    # model.add(layers.Dense(1,activation='linear'))\n",
    "    \n",
    "    # decoder: expanding path - upsample\n",
    "    # 6 - upsample\n",
    "    u6 = upsample_block(bottleneck, f4, 512)\n",
    "    # 7 - upsample\n",
    "    u7 = upsample_block(u6, f3, 256)\n",
    "    # 8 - upsample\n",
    "    u8 = upsample_block(u7, f2, 128)\n",
    "    # 9 - upsample\n",
    "    u9 = upsample_block(u8, f1, 64)\n",
    "\n",
    "    # outputs\n",
    "    # outputs = layers.Conv2D(1, 1, padding=\"same\", activation = \"softmax\")(u9)\n",
    "    outputs = layers.Conv2D(1, 1, padding=\"same\", activation = \"sigmoid\")(u9)\n",
    "\n",
    "    # unet model with Keras Functional API\n",
    "    unet_model = tf.keras.Model(inputs, outputs, name=\"U-Net\")\n",
    "\n",
    "    return unet_model\n",
    "\n",
    "\n",
    "unet_model = build_unet_model()"
   ]
  },
  {
   "cell_type": "code",
   "execution_count": 7,
   "id": "994e60ef-cd77-4291-b340-e34c4fcd587d",
   "metadata": {},
   "outputs": [
    {
     "data": {
      "text/plain": [
       "<keras.engine.functional.Functional at 0x7f45784eb7f0>"
      ]
     },
     "execution_count": 7,
     "metadata": {},
     "output_type": "execute_result"
    }
   ],
   "source": [
    "unet_model"
   ]
  },
  {
   "cell_type": "code",
   "execution_count": 8,
   "id": "b02d7a5b-7cc8-4b2f-8ab0-b256d594028d",
   "metadata": {},
   "outputs": [
    {
     "name": "stdout",
     "output_type": "stream",
     "text": [
      "Model: \"U-Net\"\n",
      "__________________________________________________________________________________________________\n",
      " Layer (type)                   Output Shape         Param #     Connected to                     \n",
      "==================================================================================================\n",
      " input_1 (InputLayer)           [(None, 256, 256, 1  0           []                               \n",
      "                                2)]                                                               \n",
      "                                                                                                  \n",
      " conv2d (Conv2D)                (None, 256, 256, 64  6976        ['input_1[0][0]']                \n",
      "                                )                                                                 \n",
      "                                                                                                  \n",
      " conv2d_1 (Conv2D)              (None, 256, 256, 64  36928       ['conv2d[0][0]']                 \n",
      "                                )                                                                 \n",
      "                                                                                                  \n",
      " max_pooling2d (MaxPooling2D)   (None, 128, 128, 64  0           ['conv2d_1[0][0]']               \n",
      "                                )                                                                 \n",
      "                                                                                                  \n",
      " dropout (Dropout)              (None, 128, 128, 64  0           ['max_pooling2d[0][0]']          \n",
      "                                )                                                                 \n",
      "                                                                                                  \n",
      " conv2d_2 (Conv2D)              (None, 128, 128, 12  73856       ['dropout[0][0]']                \n",
      "                                8)                                                                \n",
      "                                                                                                  \n",
      " conv2d_3 (Conv2D)              (None, 128, 128, 12  147584      ['conv2d_2[0][0]']               \n",
      "                                8)                                                                \n",
      "                                                                                                  \n",
      " max_pooling2d_1 (MaxPooling2D)  (None, 64, 64, 128)  0          ['conv2d_3[0][0]']               \n",
      "                                                                                                  \n",
      " dropout_1 (Dropout)            (None, 64, 64, 128)  0           ['max_pooling2d_1[0][0]']        \n",
      "                                                                                                  \n",
      " conv2d_4 (Conv2D)              (None, 64, 64, 256)  295168      ['dropout_1[0][0]']              \n",
      "                                                                                                  \n",
      " conv2d_5 (Conv2D)              (None, 64, 64, 256)  590080      ['conv2d_4[0][0]']               \n",
      "                                                                                                  \n",
      " max_pooling2d_2 (MaxPooling2D)  (None, 32, 32, 256)  0          ['conv2d_5[0][0]']               \n",
      "                                                                                                  \n",
      " dropout_2 (Dropout)            (None, 32, 32, 256)  0           ['max_pooling2d_2[0][0]']        \n",
      "                                                                                                  \n",
      " conv2d_6 (Conv2D)              (None, 32, 32, 512)  1180160     ['dropout_2[0][0]']              \n",
      "                                                                                                  \n",
      " conv2d_7 (Conv2D)              (None, 32, 32, 512)  2359808     ['conv2d_6[0][0]']               \n",
      "                                                                                                  \n",
      " max_pooling2d_3 (MaxPooling2D)  (None, 16, 16, 512)  0          ['conv2d_7[0][0]']               \n",
      "                                                                                                  \n",
      " dropout_3 (Dropout)            (None, 16, 16, 512)  0           ['max_pooling2d_3[0][0]']        \n",
      "                                                                                                  \n",
      " conv2d_8 (Conv2D)              (None, 16, 16, 1024  4719616     ['dropout_3[0][0]']              \n",
      "                                )                                                                 \n",
      "                                                                                                  \n",
      " conv2d_9 (Conv2D)              (None, 16, 16, 1024  9438208     ['conv2d_8[0][0]']               \n",
      "                                )                                                                 \n",
      "                                                                                                  \n",
      " conv2d_transpose (Conv2DTransp  (None, 32, 32, 512)  4719104    ['conv2d_9[0][0]']               \n",
      " ose)                                                                                             \n",
      "                                                                                                  \n",
      " concatenate (Concatenate)      (None, 32, 32, 1024  0           ['conv2d_transpose[0][0]',       \n",
      "                                )                                 'conv2d_7[0][0]']               \n",
      "                                                                                                  \n",
      " dropout_4 (Dropout)            (None, 32, 32, 1024  0           ['concatenate[0][0]']            \n",
      "                                )                                                                 \n",
      "                                                                                                  \n",
      " conv2d_10 (Conv2D)             (None, 32, 32, 512)  4719104     ['dropout_4[0][0]']              \n",
      "                                                                                                  \n",
      " conv2d_11 (Conv2D)             (None, 32, 32, 512)  2359808     ['conv2d_10[0][0]']              \n",
      "                                                                                                  \n",
      " conv2d_transpose_1 (Conv2DTran  (None, 64, 64, 256)  1179904    ['conv2d_11[0][0]']              \n",
      " spose)                                                                                           \n",
      "                                                                                                  \n",
      " concatenate_1 (Concatenate)    (None, 64, 64, 512)  0           ['conv2d_transpose_1[0][0]',     \n",
      "                                                                  'conv2d_5[0][0]']               \n",
      "                                                                                                  \n",
      " dropout_5 (Dropout)            (None, 64, 64, 512)  0           ['concatenate_1[0][0]']          \n",
      "                                                                                                  \n",
      " conv2d_12 (Conv2D)             (None, 64, 64, 256)  1179904     ['dropout_5[0][0]']              \n",
      "                                                                                                  \n",
      " conv2d_13 (Conv2D)             (None, 64, 64, 256)  590080      ['conv2d_12[0][0]']              \n",
      "                                                                                                  \n",
      " conv2d_transpose_2 (Conv2DTran  (None, 128, 128, 12  295040     ['conv2d_13[0][0]']              \n",
      " spose)                         8)                                                                \n",
      "                                                                                                  \n",
      " concatenate_2 (Concatenate)    (None, 128, 128, 25  0           ['conv2d_transpose_2[0][0]',     \n",
      "                                6)                                'conv2d_3[0][0]']               \n",
      "                                                                                                  \n",
      " dropout_6 (Dropout)            (None, 128, 128, 25  0           ['concatenate_2[0][0]']          \n",
      "                                6)                                                                \n",
      "                                                                                                  \n",
      " conv2d_14 (Conv2D)             (None, 128, 128, 12  295040      ['dropout_6[0][0]']              \n",
      "                                8)                                                                \n",
      "                                                                                                  \n",
      " conv2d_15 (Conv2D)             (None, 128, 128, 12  147584      ['conv2d_14[0][0]']              \n",
      "                                8)                                                                \n",
      "                                                                                                  \n",
      " conv2d_transpose_3 (Conv2DTran  (None, 256, 256, 64  73792      ['conv2d_15[0][0]']              \n",
      " spose)                         )                                                                 \n",
      "                                                                                                  \n",
      " concatenate_3 (Concatenate)    (None, 256, 256, 12  0           ['conv2d_transpose_3[0][0]',     \n",
      "                                8)                                'conv2d_1[0][0]']               \n",
      "                                                                                                  \n",
      " dropout_7 (Dropout)            (None, 256, 256, 12  0           ['concatenate_3[0][0]']          \n",
      "                                8)                                                                \n",
      "                                                                                                  \n",
      " conv2d_16 (Conv2D)             (None, 256, 256, 64  73792       ['dropout_7[0][0]']              \n",
      "                                )                                                                 \n",
      "                                                                                                  \n",
      " conv2d_17 (Conv2D)             (None, 256, 256, 64  36928       ['conv2d_16[0][0]']              \n",
      "                                )                                                                 \n",
      "                                                                                                  \n",
      " conv2d_18 (Conv2D)             (None, 256, 256, 1)  65          ['conv2d_17[0][0]']              \n",
      "                                                                                                  \n",
      "==================================================================================================\n",
      "Total params: 34,518,529\n",
      "Trainable params: 34,518,529\n",
      "Non-trainable params: 0\n",
      "__________________________________________________________________________________________________\n"
     ]
    }
   ],
   "source": [
    "unet_model.summary()"
   ]
  },
  {
   "cell_type": "code",
   "execution_count": 9,
   "id": "f1b90660-8f92-4792-aa81-2cf736025493",
   "metadata": {},
   "outputs": [],
   "source": [
    "def tf_parse(x,y):\n",
    "    def f(x, y):\n",
    "        return x, y\n",
    "    images, masks = tf.numpy_function(f, [x, y], [tf.float32, tf.float32])\n",
    "    images.set_shape([256, 256, 12])\n",
    "    masks.set_shape([256, 256, 1])\n",
    "    return images, masks\n",
    "\n",
    "\n",
    "def tf_dataset(x,y,batch=8):\n",
    "    dataset = tf.data.Dataset.from_tensor_slices((x,y))\n",
    "    dataset = dataset.map(tf_parse)\n",
    "    dataset = dataset.batch(batch)\n",
    "    dataset = dataset.prefetch(tf.data.AUTOTUNE)\n",
    "    # break\n",
    "    return dataset\n",
    "\n",
    "train_dataset = tf_dataset(X_train,y_train,batch=config[\"batch_size\"])\n",
    "validation_dataset = tf_dataset(X_test,y_test,batch=config[\"batch_size\"])"
   ]
  },
  {
   "cell_type": "code",
   "execution_count": 10,
   "id": "24fdf53f-3ce0-4a14-bc28-0e1eb4064f6a",
   "metadata": {},
   "outputs": [
    {
     "name": "stdout",
     "output_type": "stream",
     "text": [
      "batch size: 350\n"
     ]
    }
   ],
   "source": [
    "# iterating once\n",
    "for one_batch_x, one_batch_y in train_dataset:\n",
    "    print('batch size:', one_batch_x.shape[0])\n",
    "    break"
   ]
  },
  {
   "cell_type": "code",
   "execution_count": 23,
   "id": "60a7c20c-1a73-4610-9197-d069f47018d7",
   "metadata": {},
   "outputs": [],
   "source": [
    "# for i,j in train_dataset:\n",
    "#     i = i[0].numpy()\n",
    "#     j = j[0].numpy()\n",
    "#     j = np.squeeze(j,axis=-1)\n",
    "#     print(i.shape,j.shape)\n",
    "#     i=i*255\n",
    "#     j = j*255.0\n",
    "#     cv2.imwrite(\"img.png\",i[:,:,3:6])\n",
    "    \n",
    "#     cv2.imwrite(\"mask.png\",j)\n",
    "#     # break"
   ]
  },
  {
   "cell_type": "code",
   "execution_count": 11,
   "id": "4ecf4566-86e3-40a7-8840-92dd6d877f54",
   "metadata": {},
   "outputs": [],
   "source": [
    "unet_model.compile(optimizer=tf.keras.optimizers.Adam(config[\"learning_rate\"]),\n",
    "                   loss=config[\"loss_function\"], metrics=config[\"metrics\"])\n",
    "\n",
    "callbacks = [\n",
    "    ModelCheckpoint(\"unet_multi_output/model_BSize_\"+str(config[\"batch_size\"])+\"_NEpochs_\"+str(config[\"epochs\"])+\"_\"+str(datetime.now())+\".h5\"),\n",
    "    ReduceLROnPlateau(monitor='val_loss', factor=0.1, patience=2),\n",
    "    CSVLogger(\"unet_multi_output/data_BSize_\"+str(config[\"batch_size\"])+\"_NEpochs_\"+str(config[\"epochs\"])+\"_\"+str(datetime.now())+\".csv\"),\n",
    "    # TensorBoard(),\n",
    "    EarlyStopping(monitor='val_loss', patience=2, restore_best_weights=False)\n",
    "]"
   ]
  },
  {
   "cell_type": "code",
   "execution_count": 15,
   "id": "f758a99b-f605-48b1-8914-7118abad6351",
   "metadata": {},
   "outputs": [
    {
     "data": {
      "text/plain": [
       "<wandb.integration.keras.keras.WandbCallback at 0x7f45783cdd90>"
      ]
     },
     "execution_count": 15,
     "metadata": {},
     "output_type": "execute_result"
    }
   ],
   "source": [
    "WandbCallback()"
   ]
  },
  {
   "cell_type": "code",
   "execution_count": null,
   "id": "f53b16cd-5485-4ff4-be10-bd6d9db14ecf",
   "metadata": {},
   "outputs": [
    {
     "name": "stdout",
     "output_type": "stream",
     "text": [
      "Epoch 1/30\n",
      "27/27 [==============================] - ETA: 0s - loss: 0.5773 - binary_io_u: 0.3888 - binary_accuracy: 0.7656  "
     ]
    },
    {
     "name": "stderr",
     "output_type": "stream",
     "text": [
      "WARNING:absl:Found untraced functions such as _jit_compiled_convolution_op, _jit_compiled_convolution_op, _jit_compiled_convolution_op, _jit_compiled_convolution_op, _jit_compiled_convolution_op while saving (showing 5 of 23). These functions will not be directly callable after loading.\n"
     ]
    },
    {
     "name": "stdout",
     "output_type": "stream",
     "text": [
      "INFO:tensorflow:Assets written to: /home/jovyan/MSC_Thesis/MSc_Thesis_2023/wandb/run-20231103_185046-qvs9115i/files/model-best/assets\n"
     ]
    },
    {
     "name": "stderr",
     "output_type": "stream",
     "text": [
      "INFO:tensorflow:Assets written to: /home/jovyan/MSC_Thesis/MSc_Thesis_2023/wandb/run-20231103_185046-qvs9115i/files/model-best/assets\n",
      "\u001b[34m\u001b[1mwandb\u001b[0m: Adding directory to artifact (/home/jovyan/MSC_Thesis/MSc_Thesis_2023/wandb/run-20231103_185046-qvs9115i/files/model-best)... Done. 2.6s\n"
     ]
    },
    {
     "name": "stdout",
     "output_type": "stream",
     "text": [
      "27/27 [==============================] - 7026s 260s/step - loss: 0.5773 - binary_io_u: 0.3888 - binary_accuracy: 0.7656 - val_loss: 0.5629 - val_binary_io_u: 0.3847 - val_binary_accuracy: 0.7792 - lr: 1.0000e-04\n",
      "Epoch 2/30\n",
      "27/27 [==============================] - ETA: 0s - loss: 0.5429 - binary_io_u: 0.3848 - binary_accuracy: 0.7807  "
     ]
    },
    {
     "name": "stderr",
     "output_type": "stream",
     "text": [
      "WARNING:absl:Found untraced functions such as _jit_compiled_convolution_op, _jit_compiled_convolution_op, _jit_compiled_convolution_op, _jit_compiled_convolution_op, _jit_compiled_convolution_op while saving (showing 5 of 23). These functions will not be directly callable after loading.\n"
     ]
    },
    {
     "name": "stdout",
     "output_type": "stream",
     "text": [
      "INFO:tensorflow:Assets written to: /home/jovyan/MSC_Thesis/MSc_Thesis_2023/wandb/run-20231103_185046-qvs9115i/files/model-best/assets\n"
     ]
    },
    {
     "name": "stderr",
     "output_type": "stream",
     "text": [
      "INFO:tensorflow:Assets written to: /home/jovyan/MSC_Thesis/MSc_Thesis_2023/wandb/run-20231103_185046-qvs9115i/files/model-best/assets\n",
      "\u001b[34m\u001b[1mwandb\u001b[0m: Adding directory to artifact (/home/jovyan/MSC_Thesis/MSc_Thesis_2023/wandb/run-20231103_185046-qvs9115i/files/model-best)... Done. 2.8s\n"
     ]
    },
    {
     "name": "stdout",
     "output_type": "stream",
     "text": [
      "27/27 [==============================] - 6939s 257s/step - loss: 0.5429 - binary_io_u: 0.3848 - binary_accuracy: 0.7807 - val_loss: 0.5537 - val_binary_io_u: 0.3847 - val_binary_accuracy: 0.7792 - lr: 1.0000e-04\n",
      "Epoch 3/30\n",
      "27/27 [==============================] - ETA: 0s - loss: 0.5316 - binary_io_u: 0.3848 - binary_accuracy: 0.7807  "
     ]
    },
    {
     "name": "stderr",
     "output_type": "stream",
     "text": [
      "WARNING:absl:Found untraced functions such as _jit_compiled_convolution_op, _jit_compiled_convolution_op, _jit_compiled_convolution_op, _jit_compiled_convolution_op, _jit_compiled_convolution_op while saving (showing 5 of 23). These functions will not be directly callable after loading.\n"
     ]
    },
    {
     "name": "stdout",
     "output_type": "stream",
     "text": [
      "INFO:tensorflow:Assets written to: /home/jovyan/MSC_Thesis/MSc_Thesis_2023/wandb/run-20231103_185046-qvs9115i/files/model-best/assets\n"
     ]
    },
    {
     "name": "stderr",
     "output_type": "stream",
     "text": [
      "INFO:tensorflow:Assets written to: /home/jovyan/MSC_Thesis/MSc_Thesis_2023/wandb/run-20231103_185046-qvs9115i/files/model-best/assets\n",
      "\u001b[34m\u001b[1mwandb\u001b[0m: Adding directory to artifact (/home/jovyan/MSC_Thesis/MSc_Thesis_2023/wandb/run-20231103_185046-qvs9115i/files/model-best)... Done. 2.6s\n"
     ]
    },
    {
     "name": "stdout",
     "output_type": "stream",
     "text": [
      "27/27 [==============================] - 7034s 261s/step - loss: 0.5316 - binary_io_u: 0.3848 - binary_accuracy: 0.7807 - val_loss: 0.5467 - val_binary_io_u: 0.3847 - val_binary_accuracy: 0.7792 - lr: 1.0000e-04\n",
      "Epoch 4/30\n",
      "27/27 [==============================] - ETA: 0s - loss: 0.5086 - binary_io_u: 0.3848 - binary_accuracy: 0.7807  "
     ]
    },
    {
     "name": "stderr",
     "output_type": "stream",
     "text": [
      "WARNING:absl:Found untraced functions such as _jit_compiled_convolution_op, _jit_compiled_convolution_op, _jit_compiled_convolution_op, _jit_compiled_convolution_op, _jit_compiled_convolution_op while saving (showing 5 of 23). These functions will not be directly callable after loading.\n"
     ]
    },
    {
     "name": "stdout",
     "output_type": "stream",
     "text": [
      "INFO:tensorflow:Assets written to: /home/jovyan/MSC_Thesis/MSc_Thesis_2023/wandb/run-20231103_185046-qvs9115i/files/model-best/assets\n"
     ]
    },
    {
     "name": "stderr",
     "output_type": "stream",
     "text": [
      "INFO:tensorflow:Assets written to: /home/jovyan/MSC_Thesis/MSc_Thesis_2023/wandb/run-20231103_185046-qvs9115i/files/model-best/assets\n",
      "\u001b[34m\u001b[1mwandb\u001b[0m: Adding directory to artifact (/home/jovyan/MSC_Thesis/MSc_Thesis_2023/wandb/run-20231103_185046-qvs9115i/files/model-best)... Done. 2.9s\n"
     ]
    },
    {
     "name": "stdout",
     "output_type": "stream",
     "text": [
      "27/27 [==============================] - 6987s 259s/step - loss: 0.5086 - binary_io_u: 0.3848 - binary_accuracy: 0.7807 - val_loss: 0.5190 - val_binary_io_u: 0.3847 - val_binary_accuracy: 0.7792 - lr: 1.0000e-04\n",
      "Epoch 5/30\n",
      "27/27 [==============================] - ETA: 0s - loss: 0.5115 - binary_io_u: 0.3848 - binary_accuracy: 0.7807  "
     ]
    },
    {
     "name": "stderr",
     "output_type": "stream",
     "text": [
      "WARNING:absl:Found untraced functions such as _jit_compiled_convolution_op, _jit_compiled_convolution_op, _jit_compiled_convolution_op, _jit_compiled_convolution_op, _jit_compiled_convolution_op while saving (showing 5 of 23). These functions will not be directly callable after loading.\n"
     ]
    },
    {
     "name": "stdout",
     "output_type": "stream",
     "text": [
      "INFO:tensorflow:Assets written to: /home/jovyan/MSC_Thesis/MSc_Thesis_2023/wandb/run-20231103_185046-qvs9115i/files/model-best/assets\n"
     ]
    },
    {
     "name": "stderr",
     "output_type": "stream",
     "text": [
      "INFO:tensorflow:Assets written to: /home/jovyan/MSC_Thesis/MSc_Thesis_2023/wandb/run-20231103_185046-qvs9115i/files/model-best/assets\n",
      "\u001b[34m\u001b[1mwandb\u001b[0m: Adding directory to artifact (/home/jovyan/MSC_Thesis/MSc_Thesis_2023/wandb/run-20231103_185046-qvs9115i/files/model-best)... Done. 2.5s\n"
     ]
    },
    {
     "name": "stdout",
     "output_type": "stream",
     "text": [
      "27/27 [==============================] - 7015s 260s/step - loss: 0.5115 - binary_io_u: 0.3848 - binary_accuracy: 0.7807 - val_loss: 0.4998 - val_binary_io_u: 0.3847 - val_binary_accuracy: 0.7792 - lr: 1.0000e-04\n",
      "Epoch 6/30\n",
      "27/27 [==============================] - ETA: 0s - loss: 0.4842 - binary_io_u: 0.3848 - binary_accuracy: 0.7807  "
     ]
    },
    {
     "name": "stderr",
     "output_type": "stream",
     "text": [
      "WARNING:absl:Found untraced functions such as _jit_compiled_convolution_op, _jit_compiled_convolution_op, _jit_compiled_convolution_op, _jit_compiled_convolution_op, _jit_compiled_convolution_op while saving (showing 5 of 23). These functions will not be directly callable after loading.\n"
     ]
    },
    {
     "name": "stdout",
     "output_type": "stream",
     "text": [
      "INFO:tensorflow:Assets written to: /home/jovyan/MSC_Thesis/MSc_Thesis_2023/wandb/run-20231103_185046-qvs9115i/files/model-best/assets\n"
     ]
    },
    {
     "name": "stderr",
     "output_type": "stream",
     "text": [
      "INFO:tensorflow:Assets written to: /home/jovyan/MSC_Thesis/MSc_Thesis_2023/wandb/run-20231103_185046-qvs9115i/files/model-best/assets\n",
      "\u001b[34m\u001b[1mwandb\u001b[0m: Adding directory to artifact (/home/jovyan/MSC_Thesis/MSc_Thesis_2023/wandb/run-20231103_185046-qvs9115i/files/model-best)... Done. 2.5s\n"
     ]
    },
    {
     "name": "stdout",
     "output_type": "stream",
     "text": [
      "27/27 [==============================] - 7028s 261s/step - loss: 0.4842 - binary_io_u: 0.3848 - binary_accuracy: 0.7807 - val_loss: 0.4650 - val_binary_io_u: 0.3847 - val_binary_accuracy: 0.7792 - lr: 1.0000e-04\n",
      "Epoch 7/30\n",
      "27/27 [==============================] - ETA: 0s - loss: 0.4547 - binary_io_u: 0.3853 - binary_accuracy: 0.7808  "
     ]
    },
    {
     "name": "stderr",
     "output_type": "stream",
     "text": [
      "WARNING:absl:Found untraced functions such as _jit_compiled_convolution_op, _jit_compiled_convolution_op, _jit_compiled_convolution_op, _jit_compiled_convolution_op, _jit_compiled_convolution_op while saving (showing 5 of 23). These functions will not be directly callable after loading.\n"
     ]
    },
    {
     "name": "stdout",
     "output_type": "stream",
     "text": [
      "INFO:tensorflow:Assets written to: /home/jovyan/MSC_Thesis/MSc_Thesis_2023/wandb/run-20231103_185046-qvs9115i/files/model-best/assets\n"
     ]
    },
    {
     "name": "stderr",
     "output_type": "stream",
     "text": [
      "INFO:tensorflow:Assets written to: /home/jovyan/MSC_Thesis/MSc_Thesis_2023/wandb/run-20231103_185046-qvs9115i/files/model-best/assets\n",
      "\u001b[34m\u001b[1mwandb\u001b[0m: Adding directory to artifact (/home/jovyan/MSC_Thesis/MSc_Thesis_2023/wandb/run-20231103_185046-qvs9115i/files/model-best)... Done. 2.6s\n"
     ]
    },
    {
     "name": "stdout",
     "output_type": "stream",
     "text": [
      "27/27 [==============================] - 7089s 263s/step - loss: 0.4547 - binary_io_u: 0.3853 - binary_accuracy: 0.7808 - val_loss: 0.4353 - val_binary_io_u: 0.3931 - val_binary_accuracy: 0.7812 - lr: 1.0000e-04\n",
      "Epoch 8/30\n",
      "27/27 [==============================] - ETA: 0s - loss: 0.4374 - binary_io_u: 0.4402 - binary_accuracy: 0.7931  "
     ]
    },
    {
     "name": "stderr",
     "output_type": "stream",
     "text": [
      "WARNING:absl:Found untraced functions such as _jit_compiled_convolution_op, _jit_compiled_convolution_op, _jit_compiled_convolution_op, _jit_compiled_convolution_op, _jit_compiled_convolution_op while saving (showing 5 of 23). These functions will not be directly callable after loading.\n"
     ]
    },
    {
     "name": "stdout",
     "output_type": "stream",
     "text": [
      "INFO:tensorflow:Assets written to: /home/jovyan/MSC_Thesis/MSc_Thesis_2023/wandb/run-20231103_185046-qvs9115i/files/model-best/assets\n"
     ]
    },
    {
     "name": "stderr",
     "output_type": "stream",
     "text": [
      "INFO:tensorflow:Assets written to: /home/jovyan/MSC_Thesis/MSc_Thesis_2023/wandb/run-20231103_185046-qvs9115i/files/model-best/assets\n",
      "\u001b[34m\u001b[1mwandb\u001b[0m: Adding directory to artifact (/home/jovyan/MSC_Thesis/MSc_Thesis_2023/wandb/run-20231103_185046-qvs9115i/files/model-best)... Done. 2.7s\n"
     ]
    },
    {
     "name": "stdout",
     "output_type": "stream",
     "text": [
      "27/27 [==============================] - 7028s 261s/step - loss: 0.4374 - binary_io_u: 0.4402 - binary_accuracy: 0.7931 - val_loss: 0.4204 - val_binary_io_u: 0.5153 - val_binary_accuracy: 0.8099 - lr: 1.0000e-04\n",
      "Epoch 9/30\n",
      "20/27 [=====================>........] - ETA: 29:59 - loss: 0.4248 - binary_io_u: 0.5231 - binary_accuracy: 0.8105"
     ]
    }
   ],
   "source": [
    "model_history = unet_model.fit(train_dataset,\n",
    "                              validation_data = validation_dataset,\n",
    "                              epochs=config[\"epochs\"],\n",
    "                              callbacks=[WandbCallback(),callbacks])\n",
    "                            "
   ]
  },
  {
   "cell_type": "code",
   "execution_count": 14,
   "id": "8ecaa337-f265-404e-be87-3dac18726c9f",
   "metadata": {},
   "outputs": [
    {
     "data": {
      "text/plain": [
       "<keras.callbacks.History at 0x7f45785903d0>"
      ]
     },
     "execution_count": 14,
     "metadata": {},
     "output_type": "execute_result"
    }
   ],
   "source": [
    "model_history"
   ]
  },
  {
   "cell_type": "code",
   "execution_count": null,
   "id": "4f365d29-95e5-4936-9170-94f9b31b3c41",
   "metadata": {},
   "outputs": [],
   "source": [
    "def create_mask(pred_mask):\n",
    "    pred_mask = tf.argmax(pred_mask, axis=-1)\n",
    "    pred_mask = pred_mask[..., tf.newaxis]\n",
    "    return pred_mask[0]\n",
    "\n",
    "def show_predictions(dataset=None, num=1):\n",
    "if dataset:\n",
    "for image, mask in dataset.take(num):\n",
    "pred_mask = unet_model.predict(image)\n",
    "display([image[0], mask[0], create_mask(pred_mask)])\n",
    "else:\n",
    "display([sample_image, sample_mask,\n",
    "    create_mask(model.predict(sample_image[tf.newaxis, ...]))])\n",
    "count = 0\n",
    "for i in test_batches:\n",
    "   count +=1\n",
    "print(\"number of batches:\", count)"
   ]
  }
 ],
 "metadata": {
  "kernelspec": {
   "display_name": "Python",
   "language": "python",
   "name": "python3"
  },
  "language_info": {
   "codemirror_mode": {
    "name": "ipython",
    "version": 3
   },
   "file_extension": ".py",
   "mimetype": "text/x-python",
   "name": "python",
   "nbconvert_exporter": "python",
   "pygments_lexer": "ipython3",
   "version": "3.8.10"
  }
 },
 "nbformat": 4,
 "nbformat_minor": 5
}
