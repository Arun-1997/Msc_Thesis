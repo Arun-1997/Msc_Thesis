{
 "cells": [
  {
   "cell_type": "code",
   "execution_count": 1,
   "id": "9543d578-8bb4-4a8f-903a-5baba7a173e3",
   "metadata": {},
   "outputs": [],
   "source": [
    "import glob,os\n",
    "import rasterio as rio\n",
    "import geopandas as gpd\n",
    "import numpy as np\n",
    "from rasterio.plot import reshape_as_image\n",
    "from sklearn.preprocessing import MinMaxScaler\n",
    "\n",
    "training_path = \"Input/sentinel/test_data_from_drive/patches_all/test/\"\n",
    "training_normalised_path = \"Input/sentinel/test_data_from_drive/patches_all/normalised_test/\"\n",
    "target_file_path = \"Input/Target/concat/target_yield.shp\"\n",
    "patch_dim = (256, 256, 12)\n"
   ]
  },
  {
   "cell_type": "code",
   "execution_count": 2,
   "id": "c7cf2cad-ec62-4d6f-97c7-643171488f0d",
   "metadata": {},
   "outputs": [
    {
     "name": "stdout",
     "output_type": "stream",
     "text": [
      "Total Number of Patches: 2677\n"
     ]
    }
   ],
   "source": [
    "training_file_list = glob.glob(os.path.join(training_path,\"*.tif\"))\n",
    "target_gdf = gpd.read_file(target_file_path)\n",
    "print(\"Total Number of Patches:\",len(training_file_list))\n",
    "ignore_patch_list = list()\n",
    "count = 0\n",
    "for file in training_file_list:\n",
    "    patch_src = rio.open(file)\n",
    "\n",
    "    patch_src_read_norm = list()\n",
    "    f_name = file.split(\"/\")[-1].split(\".\")[0]\n",
    "    patch_src_read = reshape_as_image(patch_src.read()[0:12]) ## Change the index here to add or remove the mask layer\n",
    "    # print(0)\n",
    "    if patch_src_read.shape != patch_dim:\n",
    "        ignore_patch_list.append(f_name)\n",
    "        # print(\"Patch Dimensions Mismatch, skipping patch : {}\".format(f_name))\n",
    "        continue\n",
    "    # print(1)\n",
    "    if np.isnan(patch_src_read).any():\n",
    "        # print(\"Has Nan values, skipping patch : {}\".format(f_name))\n",
    "        continue\n",
    "    # print(2)\n",
    "    query = target_gdf.query(f\"patch_name == '{f_name}'\")[\"ykg_by_e7\"]\n",
    "    if len(query) != 1:\n",
    "        # print(\"patch has no target value, skipping patch : {}\".format(f_name))\n",
    "        continue\n",
    "    \n",
    "    for band_no in range(0,12):\n",
    "        scaler = MinMaxScaler(feature_range=(0, 1))\n",
    "        scaler.fit(patch_src_read[:,:,band_no])\n",
    "        patch_src_read_norm.append(scaler.transform(patch_src_read[:,:,band_no]))\n",
    "    patch_src_read_norm.append(patch_src.read()[12,:,:])\n",
    "    patch_src_read_norm = np.array(patch_src_read_norm)\n",
    "    # print(patch_src_read_norm.shape)\n",
    "    # print(\"Minimum: \",patch_src_read_norm.min())\n",
    "    # print(\"Maximum: \",patch_src_read_norm.max())\n",
    "    patch_src.close()\n",
    "    # print(count)\n",
    "    outpath = training_normalised_path+\"/\"+f_name+\".tif\"\n",
    "    meta = patch_src.meta.copy()\n",
    "    with rio.open(outpath, 'w', **meta) as outds:\n",
    "        outds.write(patch_src_read_norm)\n",
    "    count +=1\n",
    "    # if count > 5:\n",
    "    #     break\n",
    "\n",
    "# # self.y = self.scaler.fit_transform(np.array(self.y).reshape(-1, 1))\n",
    "# y = np.array(y)\n",
    "# y = np.expand_dims(y,-1)\n",
    "# x = np.array(x)\n",
    "\n",
    "# x = (x-np.min(x))/(np.max(x)-np.min(x))\n",
    "# print(\"Any Null values? \",np.isnan(x).any())\n",
    "# # print(self.y)\n",
    "# # self.x = np.nan_to_num(self.x, nan=0)# Check for different value for no data\n",
    "# print(f\"x shape :{x.shape}, y shape: {y.shape}\")\n",
    "# # print(np.nanmin(self.x),np.nanmax(self.x))\n",
    "# X_train, X_test, y_train, y_test = train_test_split(x, y, test_size=0.25)\n",
    "# return X_train, X_test, y_train, y_test\n",
    "# #Also, split the training into train and val\n",
    "# # For testing, keep a part of the dataset as seperate (final month)\n",
    "\n",
    "# X_train, X_test, y_train, y_test = read_training()"
   ]
  }
 ],
 "metadata": {
  "kernelspec": {
   "display_name": "Python",
   "language": "python",
   "name": "python3"
  },
  "language_info": {
   "codemirror_mode": {
    "name": "ipython",
    "version": 3
   },
   "file_extension": ".py",
   "mimetype": "text/x-python",
   "name": "python",
   "nbconvert_exporter": "python",
   "pygments_lexer": "ipython3",
   "version": "3.8.10"
  }
 },
 "nbformat": 4,
 "nbformat_minor": 5
}
