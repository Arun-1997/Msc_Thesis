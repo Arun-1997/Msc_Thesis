{
 "cells": [
  {
   "cell_type": "code",
   "execution_count": 3,
   "id": "671ade6d-1b20-41f4-873e-370e03daa92c",
   "metadata": {},
   "outputs": [],
   "source": [
    "import geopandas as gpd\n",
    "import matplotlib.pyplot as plt\n",
    "import numpy as np\n",
    "import pandas as pd\n",
    "\n",
    "# model_id = \"aanaxs4g\"\n",
    "model_id = \"leuo8izn\"\n",
    "# model_id = \"ezb3xkqf\"\n",
    "# gradCAM_file_name = \"egknzmgs_gradCAM\" # gradCAM model\n",
    "# gradCAM_file_name = \"8urp1dmm_gradCAM\" # gradCAM model\n",
    "\n",
    "# model_id = \"egknzmgs\" #\n",
    "# model_id = \"8urp1dmm\"\n",
    "model_id_1 = \"vosvg9hw\"\n",
    "# model_id_1 = \"vdv48shg\"\n",
    "ev_gdf_all_1 = gpd.read_file(\"Output/Evaluation/\"+model_id_1+\".shp\")"
   ]
  },
  {
   "cell_type": "code",
   "execution_count": 4,
   "id": "0dfb7a55-7301-4c86-a6b6-3cda1b3d1b30",
   "metadata": {},
   "outputs": [],
   "source": [
    "ev_gdf_all = gpd.read_file(\"Output/Evaluation/\"+model_id+\".shp\")\n",
    "ev_gdf_all[\"year\"] = ev_gdf_all[\"patch_name\"].str.split(\"_\").str[1]\n",
    "\n",
    "ev_gdf_all_1 = gpd.read_file(\"Output/Evaluation/\"+model_id_1+\".shp\")\n",
    "ev_gdf_all_1[\"year\"] = ev_gdf_all_1[\"patch_name\"].str.split(\"_\").str[1]"
   ]
  },
  {
   "cell_type": "code",
   "execution_count": 5,
   "id": "eaf1f7f0-34db-42cd-bfe7-add853d12fde",
   "metadata": {},
   "outputs": [
    {
     "data": {
      "text/html": [
       "<div>\n",
       "<style scoped>\n",
       "    .dataframe tbody tr th:only-of-type {\n",
       "        vertical-align: middle;\n",
       "    }\n",
       "\n",
       "    .dataframe tbody tr th {\n",
       "        vertical-align: top;\n",
       "    }\n",
       "\n",
       "    .dataframe thead th {\n",
       "        text-align: right;\n",
       "    }\n",
       "</style>\n",
       "<table border=\"1\" class=\"dataframe\">\n",
       "  <thead>\n",
       "    <tr style=\"text-align: right;\">\n",
       "      <th></th>\n",
       "      <th>patch_name</th>\n",
       "      <th>true_val</th>\n",
       "      <th>leuo8izn</th>\n",
       "      <th>geometry</th>\n",
       "      <th>year</th>\n",
       "    </tr>\n",
       "  </thead>\n",
       "  <tbody>\n",
       "    <tr>\n",
       "      <th>0</th>\n",
       "      <td>Indiana_2020_july_3328-2816</td>\n",
       "      <td>3.800568</td>\n",
       "      <td>4.359397</td>\n",
       "      <td>POLYGON ((-86.16658 40.10565, -86.30456 40.105...</td>\n",
       "      <td>2020</td>\n",
       "    </tr>\n",
       "    <tr>\n",
       "      <th>1</th>\n",
       "      <td>Indiana_2020_july_3072-3584</td>\n",
       "      <td>0.847230</td>\n",
       "      <td>0.613615</td>\n",
       "      <td>POLYGON ((-86.30456 39.69170, -86.44254 39.691...</td>\n",
       "      <td>2020</td>\n",
       "    </tr>\n",
       "    <tr>\n",
       "      <th>2</th>\n",
       "      <td>Indiana_2019_july_2048-1024</td>\n",
       "      <td>1.534634</td>\n",
       "      <td>1.528363</td>\n",
       "      <td>POLYGON ((-86.85649 41.07151, -86.99447 41.071...</td>\n",
       "      <td>2019</td>\n",
       "    </tr>\n",
       "    <tr>\n",
       "      <th>3</th>\n",
       "      <td>Indiana_2020_july_2048-4608</td>\n",
       "      <td>1.180629</td>\n",
       "      <td>0.908209</td>\n",
       "      <td>POLYGON ((-86.85649 39.13978, -86.99447 39.139...</td>\n",
       "      <td>2020</td>\n",
       "    </tr>\n",
       "    <tr>\n",
       "      <th>4</th>\n",
       "      <td>Indiana_2018_july_4096-2560</td>\n",
       "      <td>3.304477</td>\n",
       "      <td>3.486326</td>\n",
       "      <td>POLYGON ((-85.75264 40.24363, -85.89062 40.243...</td>\n",
       "      <td>2018</td>\n",
       "    </tr>\n",
       "  </tbody>\n",
       "</table>\n",
       "</div>"
      ],
      "text/plain": [
       "                    patch_name  true_val  leuo8izn  \\\n",
       "0  Indiana_2020_july_3328-2816  3.800568  4.359397   \n",
       "1  Indiana_2020_july_3072-3584  0.847230  0.613615   \n",
       "2  Indiana_2019_july_2048-1024  1.534634  1.528363   \n",
       "3  Indiana_2020_july_2048-4608  1.180629  0.908209   \n",
       "4  Indiana_2018_july_4096-2560  3.304477  3.486326   \n",
       "\n",
       "                                            geometry  year  \n",
       "0  POLYGON ((-86.16658 40.10565, -86.30456 40.105...  2020  \n",
       "1  POLYGON ((-86.30456 39.69170, -86.44254 39.691...  2020  \n",
       "2  POLYGON ((-86.85649 41.07151, -86.99447 41.071...  2019  \n",
       "3  POLYGON ((-86.85649 39.13978, -86.99447 39.139...  2020  \n",
       "4  POLYGON ((-85.75264 40.24363, -85.89062 40.243...  2018  "
      ]
     },
     "execution_count": 5,
     "metadata": {},
     "output_type": "execute_result"
    }
   ],
   "source": [
    "ev_gdf_all.head()"
   ]
  },
  {
   "cell_type": "code",
   "execution_count": 7,
   "id": "c1f53e50-7739-4679-8937-e5243b0b675c",
   "metadata": {},
   "outputs": [],
   "source": [
    "ev_gdf = ev_gdf_all.query(\"year == '2021'\")"
   ]
  },
  {
   "cell_type": "code",
   "execution_count": 8,
   "id": "1059c3a5-4e16-498f-9c2d-9c488f82b914",
   "metadata": {},
   "outputs": [
    {
     "data": {
      "text/plain": [
       "(346, 5)"
      ]
     },
     "execution_count": 8,
     "metadata": {},
     "output_type": "execute_result"
    }
   ],
   "source": [
    "ev_gdf.shape"
   ]
  },
  {
   "cell_type": "code",
   "execution_count": 9,
   "id": "7f5b4a9d-0f95-4395-808f-f38588068d19",
   "metadata": {},
   "outputs": [],
   "source": [
    "vmin = np.min(np.array(ev_gdf.loc[:,[\"true_val\",model_id]]))\n",
    "vmax = np.max(np.array(ev_gdf.loc[:,[\"true_val\",model_id]]))"
   ]
  },
  {
   "cell_type": "code",
   "execution_count": 10,
   "id": "2a08c324-a00d-4726-8e2b-7ef6263722dd",
   "metadata": {},
   "outputs": [
    {
     "data": {
      "text/html": [
       "<div>\n",
       "<style scoped>\n",
       "    .dataframe tbody tr th:only-of-type {\n",
       "        vertical-align: middle;\n",
       "    }\n",
       "\n",
       "    .dataframe tbody tr th {\n",
       "        vertical-align: top;\n",
       "    }\n",
       "\n",
       "    .dataframe thead th {\n",
       "        text-align: right;\n",
       "    }\n",
       "</style>\n",
       "<table border=\"1\" class=\"dataframe\">\n",
       "  <thead>\n",
       "    <tr style=\"text-align: right;\">\n",
       "      <th></th>\n",
       "      <th>patch_name</th>\n",
       "      <th>true_val</th>\n",
       "      <th>leuo8izn</th>\n",
       "      <th>geometry</th>\n",
       "      <th>year</th>\n",
       "    </tr>\n",
       "  </thead>\n",
       "  <tbody>\n",
       "    <tr>\n",
       "      <th>2</th>\n",
       "      <td>Indiana_2019_july_2048-1024</td>\n",
       "      <td>1.534634</td>\n",
       "      <td>1.528363</td>\n",
       "      <td>POLYGON ((-86.85649 41.07151, -86.99447 41.071...</td>\n",
       "      <td>2019</td>\n",
       "    </tr>\n",
       "    <tr>\n",
       "      <th>11</th>\n",
       "      <td>Indiana_2019_july_3840-1280</td>\n",
       "      <td>2.202356</td>\n",
       "      <td>2.078225</td>\n",
       "      <td>POLYGON ((-85.89062 40.93353, -86.02860 40.933...</td>\n",
       "      <td>2019</td>\n",
       "    </tr>\n",
       "    <tr>\n",
       "      <th>29</th>\n",
       "      <td>Indiana_2019_july_4352-2304</td>\n",
       "      <td>3.174352</td>\n",
       "      <td>3.842772</td>\n",
       "      <td>POLYGON ((-85.61466 40.38161, -85.75264 40.381...</td>\n",
       "      <td>2019</td>\n",
       "    </tr>\n",
       "    <tr>\n",
       "      <th>35</th>\n",
       "      <td>Indiana_2019_july_3328-1280</td>\n",
       "      <td>2.660635</td>\n",
       "      <td>2.530378</td>\n",
       "      <td>POLYGON ((-86.16658 40.93353, -86.30456 40.933...</td>\n",
       "      <td>2019</td>\n",
       "    </tr>\n",
       "    <tr>\n",
       "      <th>38</th>\n",
       "      <td>Indiana_2019_july_768-6656</td>\n",
       "      <td>1.633590</td>\n",
       "      <td>1.329525</td>\n",
       "      <td>POLYGON ((-87.54639 38.03593, -87.68438 38.035...</td>\n",
       "      <td>2019</td>\n",
       "    </tr>\n",
       "    <tr>\n",
       "      <th>...</th>\n",
       "      <td>...</td>\n",
       "      <td>...</td>\n",
       "      <td>...</td>\n",
       "      <td>...</td>\n",
       "      <td>...</td>\n",
       "    </tr>\n",
       "    <tr>\n",
       "      <th>1969</th>\n",
       "      <td>Indiana_2019_july_1536-6400</td>\n",
       "      <td>0.690642</td>\n",
       "      <td>0.626445</td>\n",
       "      <td>POLYGON ((-87.13245 38.17391, -87.27043 38.173...</td>\n",
       "      <td>2019</td>\n",
       "    </tr>\n",
       "    <tr>\n",
       "      <th>1981</th>\n",
       "      <td>Indiana_2019_july_4352-4096</td>\n",
       "      <td>3.288410</td>\n",
       "      <td>3.087340</td>\n",
       "      <td>POLYGON ((-85.61466 39.41574, -85.75264 39.415...</td>\n",
       "      <td>2019</td>\n",
       "    </tr>\n",
       "    <tr>\n",
       "      <th>1986</th>\n",
       "      <td>Indiana_2019_july_1280-1024</td>\n",
       "      <td>1.202248</td>\n",
       "      <td>1.253053</td>\n",
       "      <td>POLYGON ((-87.27043 41.07151, -87.40841 41.071...</td>\n",
       "      <td>2019</td>\n",
       "    </tr>\n",
       "    <tr>\n",
       "      <th>1990</th>\n",
       "      <td>Indiana_2019_july_1536-4352</td>\n",
       "      <td>2.522891</td>\n",
       "      <td>3.103359</td>\n",
       "      <td>POLYGON ((-87.13245 39.27776, -87.27043 39.277...</td>\n",
       "      <td>2019</td>\n",
       "    </tr>\n",
       "    <tr>\n",
       "      <th>1992</th>\n",
       "      <td>Indiana_2019_july_512-6656</td>\n",
       "      <td>2.133508</td>\n",
       "      <td>2.023262</td>\n",
       "      <td>POLYGON ((-87.68438 38.03593, -87.82236 38.035...</td>\n",
       "      <td>2019</td>\n",
       "    </tr>\n",
       "  </tbody>\n",
       "</table>\n",
       "<p>418 rows × 5 columns</p>\n",
       "</div>"
      ],
      "text/plain": [
       "                       patch_name  true_val  leuo8izn  \\\n",
       "2     Indiana_2019_july_2048-1024  1.534634  1.528363   \n",
       "11    Indiana_2019_july_3840-1280  2.202356  2.078225   \n",
       "29    Indiana_2019_july_4352-2304  3.174352  3.842772   \n",
       "35    Indiana_2019_july_3328-1280  2.660635  2.530378   \n",
       "38     Indiana_2019_july_768-6656  1.633590  1.329525   \n",
       "...                           ...       ...       ...   \n",
       "1969  Indiana_2019_july_1536-6400  0.690642  0.626445   \n",
       "1981  Indiana_2019_july_4352-4096  3.288410  3.087340   \n",
       "1986  Indiana_2019_july_1280-1024  1.202248  1.253053   \n",
       "1990  Indiana_2019_july_1536-4352  2.522891  3.103359   \n",
       "1992   Indiana_2019_july_512-6656  2.133508  2.023262   \n",
       "\n",
       "                                               geometry  year  \n",
       "2     POLYGON ((-86.85649 41.07151, -86.99447 41.071...  2019  \n",
       "11    POLYGON ((-85.89062 40.93353, -86.02860 40.933...  2019  \n",
       "29    POLYGON ((-85.61466 40.38161, -85.75264 40.381...  2019  \n",
       "35    POLYGON ((-86.16658 40.93353, -86.30456 40.933...  2019  \n",
       "38    POLYGON ((-87.54639 38.03593, -87.68438 38.035...  2019  \n",
       "...                                                 ...   ...  \n",
       "1969  POLYGON ((-87.13245 38.17391, -87.27043 38.173...  2019  \n",
       "1981  POLYGON ((-85.61466 39.41574, -85.75264 39.415...  2019  \n",
       "1986  POLYGON ((-87.27043 41.07151, -87.40841 41.071...  2019  \n",
       "1990  POLYGON ((-87.13245 39.27776, -87.27043 39.277...  2019  \n",
       "1992  POLYGON ((-87.68438 38.03593, -87.82236 38.035...  2019  \n",
       "\n",
       "[418 rows x 5 columns]"
      ]
     },
     "execution_count": 10,
     "metadata": {},
     "output_type": "execute_result"
    }
   ],
   "source": [
    "ev_gdf_all.query(\"year == '2019'\")"
   ]
  },
  {
   "cell_type": "code",
   "execution_count": 11,
   "id": "b244a83c-9df7-4bd2-beeb-7b15e8221a50",
   "metadata": {},
   "outputs": [
    {
     "name": "stdout",
     "output_type": "stream",
     "text": [
      "4.605705352387404\n"
     ]
    },
    {
     "data": {
      "image/png": "[encoded data removed]",
      "text/plain": [
       "<Figure size 2000x1000 with 20 Axes>"
      ]
     },
     "metadata": {},
     "output_type": "display_data"
    }
   ],
   "source": [
    "fig,ax = plt.subplots(2,5,figsize=(20,10))\n",
    "\n",
    "year_list = ['2017','2018','2019','2020','2021']\n",
    "ev_gdf_all[\"diff\"] = ev_gdf_all[\"true_val\"] - ev_gdf_all[model_id]\n",
    "ev_gdf_all_1[\"diff\"] = ev_gdf_all_1[\"true_val\"] - ev_gdf_all_1[model_id_1]\n",
    "\n",
    "\n",
    "# vmin = np.min(np.array(ev_gdf_all_1[\"diff\"]))\n",
    "vmax = np.max(np.array(ev_gdf_all_1[\"diff\"]))\n",
    "vmin = -vmax\n",
    "print(vmax)\n",
    "for i in range(len(year_list)):\n",
    "    ev_gdf = ev_gdf_all.query(\"year == '\"+year_list[i]+\"'\")\n",
    "    ev_gdf_1 = ev_gdf_all_1.query(\"year == '\"+year_list[i]+\"'\")\n",
    "    # ax[i,0].set_title(\"True Values\")\n",
    "    # ev_gdf.plot(column='true_val',ax=ax[i,0],legend=True,vmin=vmin,vmax=vmax,)\n",
    "    # ax[i,1].set_title(\"Predicted Values (Masked)\")\n",
    "    # ev_gdf.plot(column=model_id,ax=ax[i,1],legend = True,vmin=vmin,vmax=vmax)\n",
    "    \n",
    "    # ax[i,1].set_title(\"Predicted Values (No Mask)\")\n",
    "    # ev_gdf_1.plot(column=model_id_1,ax=ax[i,3],legend = True,vmin=vmin,vmax=vmax)\n",
    "    ev_gdf_1.plot(column = \"diff\",ax=ax[0,i],legend = True,cmap=\"RdBu\",vmin=vmin,vmax=vmax)\n",
    "    ev_gdf.plot(column = \"diff\",ax=ax[1,i],legend = True,cmap=\"RdBu\",vmin=vmin,vmax=vmax)\n",
    "    \n",
    "plt.tight_layout()\n",
    "plt.savefig(\"Output/Evaluation/true_pred_diff_\"+model_id+\".png\")"
   ]
  },
  {
   "cell_type": "code",
   "execution_count": 12,
   "id": "0c6a2cd0-6267-48a0-9826-3ffde50bf1d9",
   "metadata": {},
   "outputs": [
    {
     "data": {
      "text/html": [
       "<div>\n",
       "<style scoped>\n",
       "    .dataframe tbody tr th:only-of-type {\n",
       "        vertical-align: middle;\n",
       "    }\n",
       "\n",
       "    .dataframe tbody tr th {\n",
       "        vertical-align: top;\n",
       "    }\n",
       "\n",
       "    .dataframe thead th {\n",
       "        text-align: right;\n",
       "    }\n",
       "</style>\n",
       "<table border=\"1\" class=\"dataframe\">\n",
       "  <thead>\n",
       "    <tr style=\"text-align: right;\">\n",
       "      <th></th>\n",
       "      <th>true_val</th>\n",
       "      <th>leuo8izn</th>\n",
       "      <th>diff</th>\n",
       "    </tr>\n",
       "  </thead>\n",
       "  <tbody>\n",
       "    <tr>\n",
       "      <th>true_val</th>\n",
       "      <td>1.000000</td>\n",
       "      <td>0.988559</td>\n",
       "      <td>0.053549</td>\n",
       "    </tr>\n",
       "    <tr>\n",
       "      <th>leuo8izn</th>\n",
       "      <td>0.988559</td>\n",
       "      <td>1.000000</td>\n",
       "      <td>-0.097683</td>\n",
       "    </tr>\n",
       "    <tr>\n",
       "      <th>diff</th>\n",
       "      <td>0.053549</td>\n",
       "      <td>-0.097683</td>\n",
       "      <td>1.000000</td>\n",
       "    </tr>\n",
       "  </tbody>\n",
       "</table>\n",
       "</div>"
      ],
      "text/plain": [
       "          true_val  leuo8izn      diff\n",
       "true_val  1.000000  0.988559  0.053549\n",
       "leuo8izn  0.988559  1.000000 -0.097683\n",
       "diff      0.053549 -0.097683  1.000000"
      ]
     },
     "execution_count": 12,
     "metadata": {},
     "output_type": "execute_result"
    }
   ],
   "source": [
    "ev_gdf.corr()"
   ]
  },
  {
   "cell_type": "code",
   "execution_count": 13,
   "id": "2bdc5c14-f8a1-4846-98c5-35b3b8ed0d46",
   "metadata": {},
   "outputs": [
    {
     "data": {
      "image/png": "[encoded data removed]",
      "text/plain": [
       "<Figure size 400x400 with 1 Axes>"
      ]
     },
     "metadata": {},
     "output_type": "display_data"
    }
   ],
   "source": [
    "true_value = ev_gdf[\"true_val\"]\n",
    "predicted_value = ev_gdf[model_id]\n",
    "plt.figure(figsize=(4,4))\n",
    "plt.scatter(true_value, predicted_value, c='crimson',s=5)\n",
    "plt.yscale('log')\n",
    "plt.xscale('log')\n",
    "\n",
    "p1 = max(max(predicted_value), max(true_value))\n",
    "p2 = min(min(predicted_value), min(true_value))\n",
    "plt.plot([p1, p2], [p1, p2], 'b-')\n",
    "plt.xlabel('True Values', fontsize=8)\n",
    "plt.ylabel('Predictions', fontsize=8)\n",
    "plt.axis('equal')\n",
    "plt.show()"
   ]
  },
  {
   "cell_type": "code",
   "execution_count": 14,
   "id": "b23781d0-dc03-4fba-aa99-8a81023dbe93",
   "metadata": {},
   "outputs": [],
   "source": [
    "# pd.plotting.scatter_matrix(ev_gdf_1)"
   ]
  },
  {
   "cell_type": "code",
   "execution_count": 15,
   "id": "678bb180-4b57-4463-9175-e6cc8847aa9d",
   "metadata": {},
   "outputs": [
    {
     "data": {
      "image/png": "[encoded data removed]",
      "text/plain": [
       "<Figure size 400x400 with 1 Axes>"
      ]
     },
     "metadata": {},
     "output_type": "display_data"
    }
   ],
   "source": [
    "model_id_1 = \"ezb3xkqf\"\n",
    "# model_id_1 = \"vosvg9hw\"\n",
    "ev_gdf_1 = gpd.read_file(\"Output/Evaluation/\"+model_id_1+\".shp\")\n",
    "true_value1 = ev_gdf_1[\"true_val\"]\n",
    "predicted_value1 = ev_gdf_1[model_id_1]\n",
    "plt.figure(figsize=(4,4))\n",
    "plt.scatter(true_value1, predicted_value1, c='crimson',s=5)\n",
    "plt.yscale('log')\n",
    "plt.xscale('log')\n",
    "\n",
    "p1 = max(max(predicted_value1), max(true_value1))\n",
    "p2 = min(min(predicted_value1), min(true_value1))\n",
    "plt.plot([p1, p2], [p1, p2], 'b-')\n",
    "plt.xlabel('True Values', fontsize=8)\n",
    "plt.ylabel('Predictions', fontsize=8)\n",
    "plt.axis('equal')\n",
    "plt.show()"
   ]
  },
  {
   "cell_type": "code",
   "execution_count": 16,
   "id": "17f8d265-1737-41f2-8846-a5a11d69d246",
   "metadata": {},
   "outputs": [
    {
     "data": {
      "text/html": [
       "<div>\n",
       "<style scoped>\n",
       "    .dataframe tbody tr th:only-of-type {\n",
       "        vertical-align: middle;\n",
       "    }\n",
       "\n",
       "    .dataframe tbody tr th {\n",
       "        vertical-align: top;\n",
       "    }\n",
       "\n",
       "    .dataframe thead th {\n",
       "        text-align: right;\n",
       "    }\n",
       "</style>\n",
       "<table border=\"1\" class=\"dataframe\">\n",
       "  <thead>\n",
       "    <tr style=\"text-align: right;\">\n",
       "      <th></th>\n",
       "      <th>true_val</th>\n",
       "      <th>ezb3xkqf</th>\n",
       "    </tr>\n",
       "  </thead>\n",
       "  <tbody>\n",
       "    <tr>\n",
       "      <th>true_val</th>\n",
       "      <td>1.000000</td>\n",
       "      <td>0.729162</td>\n",
       "    </tr>\n",
       "    <tr>\n",
       "      <th>ezb3xkqf</th>\n",
       "      <td>0.729162</td>\n",
       "      <td>1.000000</td>\n",
       "    </tr>\n",
       "  </tbody>\n",
       "</table>\n",
       "</div>"
      ],
      "text/plain": [
       "          true_val  ezb3xkqf\n",
       "true_val  1.000000  0.729162\n",
       "ezb3xkqf  0.729162  1.000000"
      ]
     },
     "execution_count": 16,
     "metadata": {},
     "output_type": "execute_result"
    }
   ],
   "source": [
    "ev_gdf_1.corr()"
   ]
  },
  {
   "cell_type": "code",
   "execution_count": 17,
   "id": "28ed4ffe-c29e-4988-960a-fe51bbe6f2aa",
   "metadata": {},
   "outputs": [],
   "source": [
    "model_id2 = \"leuo8izn\"\n",
    "ev_gdf_2 = gpd.read_file(\"Output/Evaluation/\"+model_id2+\".shp\")\n",
    "true_value2 = ev_gdf_2[\"true_val\"]\n",
    "predicted_value2 = ev_gdf_2[model_id2]"
   ]
  },
  {
   "cell_type": "code",
   "execution_count": 19,
   "id": "747fa16c-7cb4-44f3-ae39-4b7f1e8612a0",
   "metadata": {},
   "outputs": [],
   "source": [
    "# fig,ax = plt.subplots(1,3,figsize=(12,5))\n",
    "\n",
    "# ax[0].set_title(\"True Values\")\n",
    "# ev_gdf_0.plot(column='true_val',ax=ax[0],legend=True,vmin=vmin,vmax=vmax,)\n",
    "# ax[1].set_title(\"Predicted Values\")\n",
    "# ev_gdf_0.plot(column=model_id0,ax=ax[1],legend = True,vmin=vmin,vmax=vmax)\n",
    "# ax[2].set_title(\"Difference Map\")\n",
    "# ev_gdf_0[\"diff\"] = ev_gdf_0[\"true_val\"] - ev_gdf_0[model_id0]\n",
    "# ev_gdf_0.plot(column = \"diff\",ax=ax[2],legend = True,cmap=\"bwr\")"
   ]
  },
  {
   "cell_type": "code",
   "execution_count": 21,
   "id": "4c97fca5-b8ee-43bc-8dbb-6767a9e758d7",
   "metadata": {},
   "outputs": [],
   "source": [
    "# fig,ax = plt.subplots(1,2,figsize=(12,4))\n",
    "# ax[0].set_title(\"Difference Map (with Mask)\")\n",
    "\n",
    "# ev_gdf_0[\"diff\"] = ev_gdf_0[\"true_val\"] - ev_gdf_0[model_id0]\n",
    "# ev_gdf_0.plot(column = \"diff\",ax=ax[0],legend = True,cmap=\"bwr\",vmin=-2,vmax=4)\n",
    "\n",
    "# ax[1].set_title(\"Difference Map (without Mask)\")\n",
    "# ev_gdf[\"diff\"] = ev_gdf[\"true_val\"] - ev_gdf[model_id]\n",
    "# ev_gdf.plot(column = \"diff\",ax=ax[1],legend = True,cmap=\"bwr\",vmin=-2,vmax=4)\n",
    "\n",
    "\n",
    "# plt.savefig(\"Output/Evaluation/difference_plot.png\")"
   ]
  },
  {
   "cell_type": "code",
   "execution_count": 23,
   "id": "a24cac8f-dd16-4491-8d58-a4501447498f",
   "metadata": {},
   "outputs": [],
   "source": [
    "# 'diff == \"'+str(ev_gdf_0[\"diff\"].min())+'\"'"
   ]
  },
  {
   "cell_type": "code",
   "execution_count": 24,
   "id": "bff7c0d7-4d01-4373-9014-ccdcf8999edc",
   "metadata": {},
   "outputs": [
    {
     "name": "stdout",
     "output_type": "stream",
     "text": [
      "Train X Shape :  (12411, 12)\n",
      "Train Y Shape :  (12411, 1)\n",
      "Test X Shape :  (2013, 12)\n",
      "Test Y Shape :  (2013, 1)\n"
     ]
    }
   ],
   "source": [
    "from sklearn.linear_model import LinearRegression\n",
    "from sklearn.metrics import mean_squared_error\n",
    "nomask_train_df = pd.read_csv(\"Output/saliency_maps_analysis/nomask/bands_mean_per_patch_train.csv\")\n",
    "nomask_test_df = pd.read_csv(\"Output/saliency_maps_analysis/nomask/bands_mean_per_patch_test.csv\")\n",
    "nomask_train_df.columns = [\"patch_name\",\"1\",\"2\",\"3\",\"4\",\"5\",\"6\",\"7\",\"8\",\"9\",\"10\",\"11\",\"12\"]\n",
    "nomask_test_df.columns = [\"patch_name\",\"1\",\"2\",\"3\",\"4\",\"5\",\"6\",\"7\",\"8\",\"9\",\"10\",\"11\",\"12\"]\n",
    "\n",
    "\n",
    "target_df = gpd.read_file(\"Input/Target/concat/target_yield.shp\")\n",
    "nomask_train_df_merged = target_df.merge(nomask_train_df, on=\"patch_name\")\n",
    "nomask_test_df_merged = target_df.merge(nomask_test_df, on=\"patch_name\")\n",
    "nomask_train_x = nomask_train_df_merged.loc[:,[\"1\",\"2\",\"3\",\"4\",\"5\",\"6\",\"7\",\"8\",\"9\",\"10\",\"11\",\"12\"]]\n",
    "nomask_train_y = nomask_train_df_merged.loc[:,[\"ykg_by_e7\"]]\n",
    "nomask_test_x = nomask_test_df_merged.loc[:,[\"1\",\"2\",\"3\",\"4\",\"5\",\"6\",\"7\",\"8\",\"9\",\"10\",\"11\",\"12\"]]\n",
    "nomask_test_y = nomask_test_df_merged.loc[:,[\"ykg_by_e7\"]]\n",
    "print(\"Train X Shape : \",nomask_train_x.shape)\n",
    "print(\"Train Y Shape : \",nomask_train_y.shape)\n",
    "print(\"Test X Shape : \",nomask_test_x.shape)\n",
    "print(\"Test Y Shape : \",nomask_test_y.shape)"
   ]
  },
  {
   "cell_type": "code",
   "execution_count": 25,
   "id": "98e9d36f-000b-4e81-a911-f25f0e052e45",
   "metadata": {},
   "outputs": [
    {
     "data": {
      "text/plain": [
       "0.6177576277411003"
      ]
     },
     "execution_count": 25,
     "metadata": {},
     "output_type": "execute_result"
    }
   ],
   "source": [
    "reg2 = LinearRegression().fit(nomask_train_x, nomask_train_y)\n",
    "reg2.score(nomask_train_x, nomask_train_y)"
   ]
  },
  {
   "cell_type": "code",
   "execution_count": 26,
   "id": "50d2a68c-6363-4a76-b1a0-4f40fa7536f0",
   "metadata": {},
   "outputs": [
    {
     "name": "stdout",
     "output_type": "stream",
     "text": [
      "Linear Regression Intercept:  [-0.868054]\n"
     ]
    },
    {
     "data": {
      "image/png": "[encoded data removed]",
      "text/plain": [
       "<Figure size 640x480 with 1 Axes>"
      ]
     },
     "metadata": {},
     "output_type": "display_data"
    }
   ],
   "source": [
    "print(\"Linear Regression Intercept: \",reg2.intercept_)\n",
    "importance = reg2.coef_.reshape(-1)\n",
    "bands = [\"Band \"+str(x+1) for x in range(len(importance))]\n",
    "# fig = plt.figure(1, [12, 5])\n",
    "plt.bar(bands, importance,width=0.8)\n",
    "plt.xticks(bands,rotation=\"vertical\")\n",
    "plt.show()"
   ]
  },
  {
   "cell_type": "code",
   "execution_count": 27,
   "id": "1f0dfd6a-ffc4-40e6-acee-95e530e5eaff",
   "metadata": {},
   "outputs": [],
   "source": [
    "nomask_pred_y = reg2.predict(nomask_test_x)\n",
    "nomask_test_df_merged[\"ols_pred_yield\"] = nomask_pred_y\n",
    "nomask_test_df_merged[\"ols_diff\"] = nomask_test_df_merged[\"ykg_by_e7\"] - nomask_test_df_merged[\"ols_pred_yield\"]"
   ]
  },
  {
   "cell_type": "code",
   "execution_count": 28,
   "id": "7680d7ee-97a2-4993-a8cb-f863180668f5",
   "metadata": {},
   "outputs": [
    {
     "data": {
      "image/png": "[encoded data removed]",
      "text/plain": [
       "<Figure size 1000x300 with 3 Axes>"
      ]
     },
     "metadata": {},
     "output_type": "display_data"
    }
   ],
   "source": [
    "fig,ax = plt.subplots(1,3,figsize=(10,3))\n",
    "ax[0].set_title(\"Linear Regression Model\")\n",
    "ax[1].set_title(\"CNN model (without mask)\")\n",
    "ax[2].set_title(\"CNN model (with mask)\")\n",
    "\n",
    "true_value0 = nomask_test_df_merged[\"ykg_by_e7\"]\n",
    "predicted_value0 = nomask_test_df_merged[\"ols_pred_yield\"]\n",
    "\n",
    "ax[0].scatter(true_value0, predicted_value0, c='crimson',s=5)\n",
    "ax[0].set_yscale('log')\n",
    "ax[0].set_xscale('log')\n",
    "\n",
    "p1_0 = max(max(predicted_value0), max(true_value0))\n",
    "p2_0 = min(min(predicted_value0), min(true_value0))\n",
    "ax[0].plot([p1_0, p2_0], [p1_0, p2_0], 'b-')\n",
    "ax[0].set_xlabel('True Values', fontsize=8)\n",
    "ax[0].set_ylabel('Predictions', fontsize=8)\n",
    "ax[0].axis('equal')\n",
    "\n",
    "\n",
    "\n",
    "model_id_1 = \"ezb3xkqf\"\n",
    "ev_gdf_1 = gpd.read_file(\"Output/Evaluation/\"+model_id_1+\".shp\")\n",
    "true_value1 = ev_gdf_1[\"true_val\"]\n",
    "predicted_value1 = ev_gdf_1[model_id_1]\n",
    "# plt.figure(figsize=(4,4))\n",
    "ax[1].scatter(true_value1, predicted_value1, c='crimson',s=2)\n",
    "ax[1].set_yscale('log')\n",
    "ax[1].set_xscale('log')\n",
    "\n",
    "p1 = max(max(predicted_value1), max(true_value1))\n",
    "p2 = min(min(predicted_value1), min(true_value1))\n",
    "ax[1].plot([p1, p2], [p1, p2], 'b-')\n",
    "ax[1].set_xlabel('True Values', fontsize=8)\n",
    "# ax[1].set_ylabel('Predictions', fontsize=8)\n",
    "ax[1].axis('equal')\n",
    "\n",
    "\n",
    "model_id2 = \"leuo8izn\"\n",
    "ev_gdf_2 = gpd.read_file(\"Output/Evaluation/\"+model_id2+\".shp\")\n",
    "true_value2 = ev_gdf_2[\"true_val\"]\n",
    "predicted_value2 = ev_gdf_2[model_id2]\n",
    "\n",
    "ax[2].scatter(true_value2, predicted_value2, c='crimson',s=2)\n",
    "ax[2].set_yscale('log')\n",
    "ax[2].set_xscale('log')\n",
    "\n",
    "p1_0 = max(max(predicted_value2), max(true_value2))\n",
    "p2_0 = min(min(predicted_value2), min(true_value2))\n",
    "ax[2].plot([p1_0, p2_0], [p1_0, p2_0], 'b-')\n",
    "ax[2].set_xlabel('True Values', fontsize=8)\n",
    "# ax[2].set_ylabel('Predictions', fontsize=8)\n",
    "ax[2].axis('equal')\n",
    "\n",
    "# plt.savefig(\"Output/Evaluation/true_v.png\")\n",
    "plt.show()\n",
    "\n"
   ]
  },
  {
   "cell_type": "code",
   "execution_count": 61,
   "id": "7cd19c4e-9d8a-46bd-ab5f-2074e9a51661",
   "metadata": {},
   "outputs": [
    {
     "data": {
      "text/plain": [
       "0.03162277660168379"
      ]
     },
     "execution_count": 61,
     "metadata": {},
     "output_type": "execute_result"
    }
   ],
   "source": [
    "import math\n",
    "math.pow(10,-1.5)"
   ]
  },
  {
   "cell_type": "code",
   "execution_count": 62,
   "id": "b2df9a37-c840-4f28-b5c5-26cfe1fe2bec",
   "metadata": {},
   "outputs": [
    {
     "data": {
      "text/html": [
       "<div>\n",
       "<style scoped>\n",
       "    .dataframe tbody tr th:only-of-type {\n",
       "        vertical-align: middle;\n",
       "    }\n",
       "\n",
       "    .dataframe tbody tr th {\n",
       "        vertical-align: top;\n",
       "    }\n",
       "\n",
       "    .dataframe thead th {\n",
       "        text-align: right;\n",
       "    }\n",
       "</style>\n",
       "<table border=\"1\" class=\"dataframe\">\n",
       "  <thead>\n",
       "    <tr style=\"text-align: right;\">\n",
       "      <th></th>\n",
       "      <th>patch_name</th>\n",
       "      <th>true_val</th>\n",
       "      <th>leuo8izn</th>\n",
       "      <th>geometry</th>\n",
       "      <th>year</th>\n",
       "      <th>diff</th>\n",
       "    </tr>\n",
       "  </thead>\n",
       "  <tbody>\n",
       "    <tr>\n",
       "      <th>51</th>\n",
       "      <td>Indiana_2018_july_2304-512</td>\n",
       "      <td>0.001822</td>\n",
       "      <td>0.055051</td>\n",
       "      <td>POLYGON ((-86.71851 41.34748, -86.85649 41.347...</td>\n",
       "      <td>2018</td>\n",
       "      <td>-0.053229</td>\n",
       "    </tr>\n",
       "    <tr>\n",
       "      <th>186</th>\n",
       "      <td>Indiana_2017_july_3072-4864</td>\n",
       "      <td>0.001083</td>\n",
       "      <td>0.047094</td>\n",
       "      <td>POLYGON ((-86.30456 39.00180, -86.44254 39.001...</td>\n",
       "      <td>2017</td>\n",
       "      <td>-0.046011</td>\n",
       "    </tr>\n",
       "    <tr>\n",
       "      <th>343</th>\n",
       "      <td>Indiana_2019_july_3328-3584</td>\n",
       "      <td>0.027003</td>\n",
       "      <td>0.081695</td>\n",
       "      <td>POLYGON ((-86.16658 39.69170, -86.30456 39.691...</td>\n",
       "      <td>2019</td>\n",
       "      <td>-0.054692</td>\n",
       "    </tr>\n",
       "    <tr>\n",
       "      <th>621</th>\n",
       "      <td>Indiana_2019_july_3072-4864</td>\n",
       "      <td>0.001485</td>\n",
       "      <td>0.037976</td>\n",
       "      <td>POLYGON ((-86.30456 39.00180, -86.44254 39.001...</td>\n",
       "      <td>2019</td>\n",
       "      <td>-0.036491</td>\n",
       "    </tr>\n",
       "    <tr>\n",
       "      <th>718</th>\n",
       "      <td>Indiana_2019_july_2304-4608</td>\n",
       "      <td>0.010428</td>\n",
       "      <td>0.049053</td>\n",
       "      <td>POLYGON ((-86.71851 39.13978, -86.85649 39.139...</td>\n",
       "      <td>2019</td>\n",
       "      <td>-0.038625</td>\n",
       "    </tr>\n",
       "    <tr>\n",
       "      <th>773</th>\n",
       "      <td>Indiana_2020_july_3072-4864</td>\n",
       "      <td>0.002022</td>\n",
       "      <td>0.039445</td>\n",
       "      <td>POLYGON ((-86.30456 39.00180, -86.44254 39.001...</td>\n",
       "      <td>2020</td>\n",
       "      <td>-0.037423</td>\n",
       "    </tr>\n",
       "    <tr>\n",
       "      <th>902</th>\n",
       "      <td>Indiana_2020_july_2304-512</td>\n",
       "      <td>0.002270</td>\n",
       "      <td>0.045447</td>\n",
       "      <td>POLYGON ((-86.71851 41.34748, -86.85649 41.347...</td>\n",
       "      <td>2020</td>\n",
       "      <td>-0.043177</td>\n",
       "    </tr>\n",
       "    <tr>\n",
       "      <th>1083</th>\n",
       "      <td>Indiana_2021_july_3072-4864</td>\n",
       "      <td>0.000938</td>\n",
       "      <td>0.071127</td>\n",
       "      <td>POLYGON ((-86.30456 39.00180, -86.44254 39.001...</td>\n",
       "      <td>2021</td>\n",
       "      <td>-0.070189</td>\n",
       "    </tr>\n",
       "    <tr>\n",
       "      <th>1312</th>\n",
       "      <td>Indiana_2018_july_3072-4864</td>\n",
       "      <td>0.001979</td>\n",
       "      <td>0.025540</td>\n",
       "      <td>POLYGON ((-86.30456 39.00180, -86.44254 39.001...</td>\n",
       "      <td>2018</td>\n",
       "      <td>-0.023561</td>\n",
       "    </tr>\n",
       "    <tr>\n",
       "      <th>1338</th>\n",
       "      <td>Indiana_2017_july_2304-512</td>\n",
       "      <td>0.002485</td>\n",
       "      <td>0.023517</td>\n",
       "      <td>POLYGON ((-86.71851 41.34748, -86.85649 41.347...</td>\n",
       "      <td>2017</td>\n",
       "      <td>-0.021032</td>\n",
       "    </tr>\n",
       "    <tr>\n",
       "      <th>1405</th>\n",
       "      <td>Indiana_2018_july_2304-4608</td>\n",
       "      <td>0.012552</td>\n",
       "      <td>0.028118</td>\n",
       "      <td>POLYGON ((-86.71851 39.13978, -86.85649 39.139...</td>\n",
       "      <td>2018</td>\n",
       "      <td>-0.015566</td>\n",
       "    </tr>\n",
       "    <tr>\n",
       "      <th>1539</th>\n",
       "      <td>Indiana_2021_july_3584-1792</td>\n",
       "      <td>0.013536</td>\n",
       "      <td>0.036663</td>\n",
       "      <td>POLYGON ((-86.02860 40.65757, -86.16658 40.657...</td>\n",
       "      <td>2021</td>\n",
       "      <td>-0.023127</td>\n",
       "    </tr>\n",
       "    <tr>\n",
       "      <th>1623</th>\n",
       "      <td>Indiana_2019_july_3584-3328</td>\n",
       "      <td>0.022593</td>\n",
       "      <td>0.013197</td>\n",
       "      <td>POLYGON ((-86.02860 39.82968, -86.16658 39.829...</td>\n",
       "      <td>2019</td>\n",
       "      <td>0.009396</td>\n",
       "    </tr>\n",
       "  </tbody>\n",
       "</table>\n",
       "</div>"
      ],
      "text/plain": [
       "                       patch_name  true_val  leuo8izn  \\\n",
       "51     Indiana_2018_july_2304-512  0.001822  0.055051   \n",
       "186   Indiana_2017_july_3072-4864  0.001083  0.047094   \n",
       "343   Indiana_2019_july_3328-3584  0.027003  0.081695   \n",
       "621   Indiana_2019_july_3072-4864  0.001485  0.037976   \n",
       "718   Indiana_2019_july_2304-4608  0.010428  0.049053   \n",
       "773   Indiana_2020_july_3072-4864  0.002022  0.039445   \n",
       "902    Indiana_2020_july_2304-512  0.002270  0.045447   \n",
       "1083  Indiana_2021_july_3072-4864  0.000938  0.071127   \n",
       "1312  Indiana_2018_july_3072-4864  0.001979  0.025540   \n",
       "1338   Indiana_2017_july_2304-512  0.002485  0.023517   \n",
       "1405  Indiana_2018_july_2304-4608  0.012552  0.028118   \n",
       "1539  Indiana_2021_july_3584-1792  0.013536  0.036663   \n",
       "1623  Indiana_2019_july_3584-3328  0.022593  0.013197   \n",
       "\n",
       "                                               geometry  year      diff  \n",
       "51    POLYGON ((-86.71851 41.34748, -86.85649 41.347...  2018 -0.053229  \n",
       "186   POLYGON ((-86.30456 39.00180, -86.44254 39.001...  2017 -0.046011  \n",
       "343   POLYGON ((-86.16658 39.69170, -86.30456 39.691...  2019 -0.054692  \n",
       "621   POLYGON ((-86.30456 39.00180, -86.44254 39.001...  2019 -0.036491  \n",
       "718   POLYGON ((-86.71851 39.13978, -86.85649 39.139...  2019 -0.038625  \n",
       "773   POLYGON ((-86.30456 39.00180, -86.44254 39.001...  2020 -0.037423  \n",
       "902   POLYGON ((-86.71851 41.34748, -86.85649 41.347...  2020 -0.043177  \n",
       "1083  POLYGON ((-86.30456 39.00180, -86.44254 39.001...  2021 -0.070189  \n",
       "1312  POLYGON ((-86.30456 39.00180, -86.44254 39.001...  2018 -0.023561  \n",
       "1338  POLYGON ((-86.71851 41.34748, -86.85649 41.347...  2017 -0.021032  \n",
       "1405  POLYGON ((-86.71851 39.13978, -86.85649 39.139...  2018 -0.015566  \n",
       "1539  POLYGON ((-86.02860 40.65757, -86.16658 40.657...  2021 -0.023127  \n",
       "1623  POLYGON ((-86.02860 39.82968, -86.16658 39.829...  2019  0.009396  "
      ]
     },
     "execution_count": 62,
     "metadata": {},
     "output_type": "execute_result"
    }
   ],
   "source": [
    "ev_gdf_all_2[ev_gdf_all_2[\"true_val\"] < 0.031]"
   ]
  },
  {
   "cell_type": "code",
   "execution_count": 30,
   "id": "fbf81df9-bcb0-4d56-825a-e411a857ee33",
   "metadata": {},
   "outputs": [
    {
     "name": "stdout",
     "output_type": "stream",
     "text": [
      "1.0935994782797915\n",
      "0.6411094098612322\n",
      "0.05561332109146605\n"
     ]
    }
   ],
   "source": [
    "from sklearn.metrics import mean_squared_error\n",
    "print(mean_squared_error(true_value0, predicted_value0))\n",
    "print(mean_squared_error(true_value1, predicted_value1))\n",
    "print(mean_squared_error(true_value2, predicted_value2))\n"
   ]
  },
  {
   "cell_type": "code",
   "execution_count": 31,
   "id": "158e79ac-92d0-46e7-b7ed-de9ba8aa849b",
   "metadata": {},
   "outputs": [
    {
     "data": {
      "text/html": [
       "<div>\n",
       "<style scoped>\n",
       "    .dataframe tbody tr th:only-of-type {\n",
       "        vertical-align: middle;\n",
       "    }\n",
       "\n",
       "    .dataframe tbody tr th {\n",
       "        vertical-align: top;\n",
       "    }\n",
       "\n",
       "    .dataframe thead th {\n",
       "        text-align: right;\n",
       "    }\n",
       "</style>\n",
       "<table border=\"1\" class=\"dataframe\">\n",
       "  <thead>\n",
       "    <tr style=\"text-align: right;\">\n",
       "      <th></th>\n",
       "      <th>true_val</th>\n",
       "      <th>leuo8izn</th>\n",
       "    </tr>\n",
       "  </thead>\n",
       "  <tbody>\n",
       "    <tr>\n",
       "      <th>true_val</th>\n",
       "      <td>1.000000</td>\n",
       "      <td>0.982565</td>\n",
       "    </tr>\n",
       "    <tr>\n",
       "      <th>leuo8izn</th>\n",
       "      <td>0.982565</td>\n",
       "      <td>1.000000</td>\n",
       "    </tr>\n",
       "  </tbody>\n",
       "</table>\n",
       "</div>"
      ],
      "text/plain": [
       "          true_val  leuo8izn\n",
       "true_val  1.000000  0.982565\n",
       "leuo8izn  0.982565  1.000000"
      ]
     },
     "execution_count": 31,
     "metadata": {},
     "output_type": "execute_result"
    }
   ],
   "source": [
    "ev_gdf_2.corr()"
   ]
  },
  {
   "cell_type": "code",
   "execution_count": 16,
   "id": "d8011630-3618-464f-b4e5-7dfb92482435",
   "metadata": {},
   "outputs": [
    {
     "data": {
      "text/html": [
       "<div>\n",
       "<style scoped>\n",
       "    .dataframe tbody tr th:only-of-type {\n",
       "        vertical-align: middle;\n",
       "    }\n",
       "\n",
       "    .dataframe tbody tr th {\n",
       "        vertical-align: top;\n",
       "    }\n",
       "\n",
       "    .dataframe thead th {\n",
       "        text-align: right;\n",
       "    }\n",
       "</style>\n",
       "<table border=\"1\" class=\"dataframe\">\n",
       "  <thead>\n",
       "    <tr style=\"text-align: right;\">\n",
       "      <th></th>\n",
       "      <th>true_val</th>\n",
       "      <th>ezb3xkqf</th>\n",
       "    </tr>\n",
       "  </thead>\n",
       "  <tbody>\n",
       "    <tr>\n",
       "      <th>true_val</th>\n",
       "      <td>1.000000</td>\n",
       "      <td>0.729162</td>\n",
       "    </tr>\n",
       "    <tr>\n",
       "      <th>ezb3xkqf</th>\n",
       "      <td>0.729162</td>\n",
       "      <td>1.000000</td>\n",
       "    </tr>\n",
       "  </tbody>\n",
       "</table>\n",
       "</div>"
      ],
      "text/plain": [
       "          true_val  ezb3xkqf\n",
       "true_val  1.000000  0.729162\n",
       "ezb3xkqf  0.729162  1.000000"
      ]
     },
     "execution_count": 16,
     "metadata": {},
     "output_type": "execute_result"
    }
   ],
   "source": [
    "ev_gdf_1.corr()"
   ]
  },
  {
   "cell_type": "code",
   "execution_count": 50,
   "id": "aa847934-0710-4c1e-939e-e23ca4ea0227",
   "metadata": {},
   "outputs": [],
   "source": [
    "year_list = ['2017','2018','2019','2020','2021']\n",
    "ev_gdf_all_0 = nomask_test_df_merged\n",
    "ev_gdf_all_2 = ev_gdf_2\n",
    "model_id_1 = \"vosvg9hw\"\n",
    "model_id_2 = \"leuo8izn\"\n",
    "ev_gdf_all_1 = gpd.read_file(\"Output/Evaluation/\"+model_id_1+\".shp\")\n",
    "ev_gdf_all_2 = gpd.read_file(\"Output/Evaluation/\"+model_id_2+\".shp\")\n",
    "\n",
    "ev_gdf_all_1[\"year\"] = ev_gdf_all_1[\"patch_name\"].str.split(\"_\").str[1]\n",
    "ev_gdf_all_2[\"year\"] = ev_gdf_all_2[\"patch_name\"].str.split(\"_\").str[1]\n",
    "\n",
    "ev_gdf_all_0[\"diff\"] = ev_gdf_all_0[\"ykg_by_e7\"] - ev_gdf_all_0[\"ols_pred_yield\"]\n",
    "ev_gdf_all_1[\"diff\"] = ev_gdf_all_1[\"true_val\"] - ev_gdf_all_1[model_id_1]\n",
    "ev_gdf_all_2[\"diff\"] = ev_gdf_all_2[\"true_val\"] - ev_gdf_all_2[model_id_2]"
   ]
  },
  {
   "cell_type": "code",
   "execution_count": 51,
   "id": "66da4de7-979b-4fed-a871-f54c81294e21",
   "metadata": {},
   "outputs": [
    {
     "name": "stdout",
     "output_type": "stream",
     "text": [
      "3.9246659428254755\n",
      "0\n",
      "1\n"
     ]
    },
    {
     "name": "stderr",
     "output_type": "stream",
     "text": [
      "/usr/local/lib/python3.8/dist-packages/geopandas/plotting.py:693: UserWarning: The GeoDataFrame you are attempting to plot is empty. Nothing has been displayed.\n",
      "  warnings.warn(\n"
     ]
    },
    {
     "ename": "ValueError",
     "evalue": "cannot convert float NaN to integer",
     "output_type": "error",
     "traceback": [
      "\u001b[0;31m---------------------------------------------------------------------------\u001b[0m",
      "\u001b[0;31mValueError\u001b[0m                                Traceback (most recent call last)",
      "Cell \u001b[0;32mIn [51], line 23\u001b[0m\n\u001b[1;32m     21\u001b[0m ev_gdf_0\u001b[38;5;241m.\u001b[39mplot(column \u001b[38;5;241m=\u001b[39m \u001b[38;5;124m\"\u001b[39m\u001b[38;5;124mdiff\u001b[39m\u001b[38;5;124m\"\u001b[39m,ax\u001b[38;5;241m=\u001b[39max[\u001b[38;5;241m0\u001b[39m,i],legend \u001b[38;5;241m=\u001b[39m \u001b[38;5;28;01mTrue\u001b[39;00m,cmap\u001b[38;5;241m=\u001b[39m\u001b[38;5;124m\"\u001b[39m\u001b[38;5;124mRdBu\u001b[39m\u001b[38;5;124m\"\u001b[39m,vmin\u001b[38;5;241m=\u001b[39mvmin,vmax\u001b[38;5;241m=\u001b[39mvmax)\n\u001b[1;32m     22\u001b[0m \u001b[38;5;28mprint\u001b[39m(\u001b[38;5;241m1\u001b[39m)\n\u001b[0;32m---> 23\u001b[0m ev_gdf_1\u001b[38;5;241m.\u001b[39mplot(column \u001b[38;5;241m=\u001b[39m \u001b[38;5;124m\"\u001b[39m\u001b[38;5;124mdiff\u001b[39m\u001b[38;5;124m\"\u001b[39m,ax\u001b[38;5;241m=\u001b[39max[\u001b[38;5;241m1\u001b[39m,i],legend \u001b[38;5;241m=\u001b[39m \u001b[38;5;28;01mTrue\u001b[39;00m,cmap\u001b[38;5;241m=\u001b[39m\u001b[38;5;124m\"\u001b[39m\u001b[38;5;124mRdBu\u001b[39m\u001b[38;5;124m\"\u001b[39m,vmin\u001b[38;5;241m=\u001b[39mvmin,vmax\u001b[38;5;241m=\u001b[39mvmax)\n\u001b[1;32m     24\u001b[0m \u001b[38;5;28mprint\u001b[39m(\u001b[38;5;241m2\u001b[39m)\n\u001b[1;32m     25\u001b[0m ev_gdf_2\u001b[38;5;241m.\u001b[39mplot(column \u001b[38;5;241m=\u001b[39m \u001b[38;5;124m\"\u001b[39m\u001b[38;5;124mdiff\u001b[39m\u001b[38;5;124m\"\u001b[39m,ax\u001b[38;5;241m=\u001b[39max[\u001b[38;5;241m2\u001b[39m,i],legend \u001b[38;5;241m=\u001b[39m \u001b[38;5;28;01mTrue\u001b[39;00m,cmap\u001b[38;5;241m=\u001b[39m\u001b[38;5;124m\"\u001b[39m\u001b[38;5;124mRdBu\u001b[39m\u001b[38;5;124m\"\u001b[39m,vmin\u001b[38;5;241m=\u001b[39mvmin,vmax\u001b[38;5;241m=\u001b[39mvmax)\n",
      "File \u001b[0;32m/usr/local/lib/python3.8/dist-packages/geopandas/plotting.py:963\u001b[0m, in \u001b[0;36mGeoplotAccessor.__call__\u001b[0;34m(self, *args, **kwargs)\u001b[0m\n\u001b[1;32m    961\u001b[0m kind \u001b[38;5;241m=\u001b[39m kwargs\u001b[38;5;241m.\u001b[39mpop(\u001b[38;5;124m\"\u001b[39m\u001b[38;5;124mkind\u001b[39m\u001b[38;5;124m\"\u001b[39m, \u001b[38;5;124m\"\u001b[39m\u001b[38;5;124mgeo\u001b[39m\u001b[38;5;124m\"\u001b[39m)\n\u001b[1;32m    962\u001b[0m \u001b[38;5;28;01mif\u001b[39;00m kind \u001b[38;5;241m==\u001b[39m \u001b[38;5;124m\"\u001b[39m\u001b[38;5;124mgeo\u001b[39m\u001b[38;5;124m\"\u001b[39m:\n\u001b[0;32m--> 963\u001b[0m     \u001b[38;5;28;01mreturn\u001b[39;00m \u001b[43mplot_dataframe\u001b[49m\u001b[43m(\u001b[49m\u001b[43mdata\u001b[49m\u001b[43m,\u001b[49m\u001b[43m \u001b[49m\u001b[38;5;241;43m*\u001b[39;49m\u001b[43margs\u001b[49m\u001b[43m,\u001b[49m\u001b[43m \u001b[49m\u001b[38;5;241;43m*\u001b[39;49m\u001b[38;5;241;43m*\u001b[39;49m\u001b[43mkwargs\u001b[49m\u001b[43m)\u001b[49m\n\u001b[1;32m    964\u001b[0m \u001b[38;5;28;01mif\u001b[39;00m kind \u001b[38;5;129;01min\u001b[39;00m \u001b[38;5;28mself\u001b[39m\u001b[38;5;241m.\u001b[39m_pandas_kinds:\n\u001b[1;32m    965\u001b[0m     \u001b[38;5;66;03m# Access pandas plots\u001b[39;00m\n\u001b[1;32m    966\u001b[0m     \u001b[38;5;28;01mreturn\u001b[39;00m PlotAccessor(data)(kind\u001b[38;5;241m=\u001b[39mkind, \u001b[38;5;241m*\u001b[39m\u001b[38;5;241m*\u001b[39mkwargs)\n",
      "File \u001b[0;32m/usr/local/lib/python3.8/dist-packages/geopandas/plotting.py:950\u001b[0m, in \u001b[0;36mplot_dataframe\u001b[0;34m(df, column, cmap, color, ax, cax, categorical, legend, scheme, k, vmin, vmax, markersize, figsize, legend_kwds, categories, classification_kwds, missing_kwds, aspect, **style_kwds)\u001b[0m\n\u001b[1;32m    947\u001b[0m         n_cmap\u001b[38;5;241m.\u001b[39mset_array(np\u001b[38;5;241m.\u001b[39marray([]))\n\u001b[1;32m    948\u001b[0m         ax\u001b[38;5;241m.\u001b[39mget_figure()\u001b[38;5;241m.\u001b[39mcolorbar(n_cmap, \u001b[38;5;241m*\u001b[39m\u001b[38;5;241m*\u001b[39mlegend_kwds)\n\u001b[0;32m--> 950\u001b[0m \u001b[43mplt\u001b[49m\u001b[38;5;241;43m.\u001b[39;49m\u001b[43mdraw\u001b[49m\u001b[43m(\u001b[49m\u001b[43m)\u001b[49m\n\u001b[1;32m    951\u001b[0m \u001b[38;5;28;01mreturn\u001b[39;00m ax\n",
      "File \u001b[0;32m/usr/local/lib/python3.8/dist-packages/matplotlib/pyplot.py:936\u001b[0m, in \u001b[0;36mdraw\u001b[0;34m()\u001b[0m\n\u001b[1;32m    924\u001b[0m \u001b[38;5;28;01mdef\u001b[39;00m \u001b[38;5;21mdraw\u001b[39m():\n\u001b[1;32m    925\u001b[0m     \u001b[38;5;124;03m\"\"\"\u001b[39;00m\n\u001b[1;32m    926\u001b[0m \u001b[38;5;124;03m    Redraw the current figure.\u001b[39;00m\n\u001b[1;32m    927\u001b[0m \n\u001b[0;32m   (...)\u001b[0m\n\u001b[1;32m    934\u001b[0m \u001b[38;5;124;03m    the current figure.\u001b[39;00m\n\u001b[1;32m    935\u001b[0m \u001b[38;5;124;03m    \"\"\"\u001b[39;00m\n\u001b[0;32m--> 936\u001b[0m     \u001b[43mgcf\u001b[49m\u001b[43m(\u001b[49m\u001b[43m)\u001b[49m\u001b[38;5;241;43m.\u001b[39;49m\u001b[43mcanvas\u001b[49m\u001b[38;5;241;43m.\u001b[39;49m\u001b[43mdraw_idle\u001b[49m\u001b[43m(\u001b[49m\u001b[43m)\u001b[49m\n",
      "File \u001b[0;32m/usr/local/lib/python3.8/dist-packages/matplotlib/backend_bases.py:2054\u001b[0m, in \u001b[0;36mFigureCanvasBase.draw_idle\u001b[0;34m(self, *args, **kwargs)\u001b[0m\n\u001b[1;32m   2052\u001b[0m \u001b[38;5;28;01mif\u001b[39;00m \u001b[38;5;129;01mnot\u001b[39;00m \u001b[38;5;28mself\u001b[39m\u001b[38;5;241m.\u001b[39m_is_idle_drawing:\n\u001b[1;32m   2053\u001b[0m     \u001b[38;5;28;01mwith\u001b[39;00m \u001b[38;5;28mself\u001b[39m\u001b[38;5;241m.\u001b[39m_idle_draw_cntx():\n\u001b[0;32m-> 2054\u001b[0m         \u001b[38;5;28;43mself\u001b[39;49m\u001b[38;5;241;43m.\u001b[39;49m\u001b[43mdraw\u001b[49m\u001b[43m(\u001b[49m\u001b[38;5;241;43m*\u001b[39;49m\u001b[43margs\u001b[49m\u001b[43m,\u001b[49m\u001b[43m \u001b[49m\u001b[38;5;241;43m*\u001b[39;49m\u001b[38;5;241;43m*\u001b[39;49m\u001b[43mkwargs\u001b[49m\u001b[43m)\u001b[49m\n",
      "File \u001b[0;32m/usr/local/lib/python3.8/dist-packages/matplotlib/backends/backend_agg.py:408\u001b[0m, in \u001b[0;36mFigureCanvasAgg.draw\u001b[0;34m(self)\u001b[0m\n\u001b[1;32m    404\u001b[0m \u001b[38;5;66;03m# Acquire a lock on the shared font cache.\u001b[39;00m\n\u001b[1;32m    405\u001b[0m \u001b[38;5;28;01mwith\u001b[39;00m RendererAgg\u001b[38;5;241m.\u001b[39mlock, \\\n\u001b[1;32m    406\u001b[0m      (\u001b[38;5;28mself\u001b[39m\u001b[38;5;241m.\u001b[39mtoolbar\u001b[38;5;241m.\u001b[39m_wait_cursor_for_draw_cm() \u001b[38;5;28;01mif\u001b[39;00m \u001b[38;5;28mself\u001b[39m\u001b[38;5;241m.\u001b[39mtoolbar\n\u001b[1;32m    407\u001b[0m       \u001b[38;5;28;01melse\u001b[39;00m nullcontext()):\n\u001b[0;32m--> 408\u001b[0m     \u001b[38;5;28;43mself\u001b[39;49m\u001b[38;5;241;43m.\u001b[39;49m\u001b[43mfigure\u001b[49m\u001b[38;5;241;43m.\u001b[39;49m\u001b[43mdraw\u001b[49m\u001b[43m(\u001b[49m\u001b[38;5;28;43mself\u001b[39;49m\u001b[38;5;241;43m.\u001b[39;49m\u001b[43mrenderer\u001b[49m\u001b[43m)\u001b[49m\n\u001b[1;32m    409\u001b[0m     \u001b[38;5;66;03m# A GUI class may be need to update a window using this draw, so\u001b[39;00m\n\u001b[1;32m    410\u001b[0m     \u001b[38;5;66;03m# don't forget to call the superclass.\u001b[39;00m\n\u001b[1;32m    411\u001b[0m     \u001b[38;5;28msuper\u001b[39m()\u001b[38;5;241m.\u001b[39mdraw()\n",
      "File \u001b[0;32m/usr/local/lib/python3.8/dist-packages/matplotlib/artist.py:74\u001b[0m, in \u001b[0;36m_finalize_rasterization.<locals>.draw_wrapper\u001b[0;34m(artist, renderer, *args, **kwargs)\u001b[0m\n\u001b[1;32m     72\u001b[0m \u001b[38;5;129m@wraps\u001b[39m(draw)\n\u001b[1;32m     73\u001b[0m \u001b[38;5;28;01mdef\u001b[39;00m \u001b[38;5;21mdraw_wrapper\u001b[39m(artist, renderer, \u001b[38;5;241m*\u001b[39margs, \u001b[38;5;241m*\u001b[39m\u001b[38;5;241m*\u001b[39mkwargs):\n\u001b[0;32m---> 74\u001b[0m     result \u001b[38;5;241m=\u001b[39m \u001b[43mdraw\u001b[49m\u001b[43m(\u001b[49m\u001b[43martist\u001b[49m\u001b[43m,\u001b[49m\u001b[43m \u001b[49m\u001b[43mrenderer\u001b[49m\u001b[43m,\u001b[49m\u001b[43m \u001b[49m\u001b[38;5;241;43m*\u001b[39;49m\u001b[43margs\u001b[49m\u001b[43m,\u001b[49m\u001b[43m \u001b[49m\u001b[38;5;241;43m*\u001b[39;49m\u001b[38;5;241;43m*\u001b[39;49m\u001b[43mkwargs\u001b[49m\u001b[43m)\u001b[49m\n\u001b[1;32m     75\u001b[0m     \u001b[38;5;28;01mif\u001b[39;00m renderer\u001b[38;5;241m.\u001b[39m_rasterizing:\n\u001b[1;32m     76\u001b[0m         renderer\u001b[38;5;241m.\u001b[39mstop_rasterizing()\n",
      "File \u001b[0;32m/usr/local/lib/python3.8/dist-packages/matplotlib/artist.py:51\u001b[0m, in \u001b[0;36mallow_rasterization.<locals>.draw_wrapper\u001b[0;34m(artist, renderer)\u001b[0m\n\u001b[1;32m     48\u001b[0m     \u001b[38;5;28;01mif\u001b[39;00m artist\u001b[38;5;241m.\u001b[39mget_agg_filter() \u001b[38;5;129;01mis\u001b[39;00m \u001b[38;5;129;01mnot\u001b[39;00m \u001b[38;5;28;01mNone\u001b[39;00m:\n\u001b[1;32m     49\u001b[0m         renderer\u001b[38;5;241m.\u001b[39mstart_filter()\n\u001b[0;32m---> 51\u001b[0m     \u001b[38;5;28;01mreturn\u001b[39;00m \u001b[43mdraw\u001b[49m\u001b[43m(\u001b[49m\u001b[43martist\u001b[49m\u001b[43m,\u001b[49m\u001b[43m \u001b[49m\u001b[43mrenderer\u001b[49m\u001b[43m)\u001b[49m\n\u001b[1;32m     52\u001b[0m \u001b[38;5;28;01mfinally\u001b[39;00m:\n\u001b[1;32m     53\u001b[0m     \u001b[38;5;28;01mif\u001b[39;00m artist\u001b[38;5;241m.\u001b[39mget_agg_filter() \u001b[38;5;129;01mis\u001b[39;00m \u001b[38;5;129;01mnot\u001b[39;00m \u001b[38;5;28;01mNone\u001b[39;00m:\n",
      "File \u001b[0;32m/usr/local/lib/python3.8/dist-packages/matplotlib/figure.py:3069\u001b[0m, in \u001b[0;36mFigure.draw\u001b[0;34m(self, renderer)\u001b[0m\n\u001b[1;32m   3066\u001b[0m         \u001b[38;5;66;03m# ValueError can occur when resizing a window.\u001b[39;00m\n\u001b[1;32m   3068\u001b[0m \u001b[38;5;28mself\u001b[39m\u001b[38;5;241m.\u001b[39mpatch\u001b[38;5;241m.\u001b[39mdraw(renderer)\n\u001b[0;32m-> 3069\u001b[0m \u001b[43mmimage\u001b[49m\u001b[38;5;241;43m.\u001b[39;49m\u001b[43m_draw_list_compositing_images\u001b[49m\u001b[43m(\u001b[49m\n\u001b[1;32m   3070\u001b[0m \u001b[43m    \u001b[49m\u001b[43mrenderer\u001b[49m\u001b[43m,\u001b[49m\u001b[43m \u001b[49m\u001b[38;5;28;43mself\u001b[39;49m\u001b[43m,\u001b[49m\u001b[43m \u001b[49m\u001b[43martists\u001b[49m\u001b[43m,\u001b[49m\u001b[43m \u001b[49m\u001b[38;5;28;43mself\u001b[39;49m\u001b[38;5;241;43m.\u001b[39;49m\u001b[43msuppressComposite\u001b[49m\u001b[43m)\u001b[49m\n\u001b[1;32m   3072\u001b[0m \u001b[38;5;28;01mfor\u001b[39;00m sfig \u001b[38;5;129;01min\u001b[39;00m \u001b[38;5;28mself\u001b[39m\u001b[38;5;241m.\u001b[39msubfigs:\n\u001b[1;32m   3073\u001b[0m     sfig\u001b[38;5;241m.\u001b[39mdraw(renderer)\n",
      "File \u001b[0;32m/usr/local/lib/python3.8/dist-packages/matplotlib/image.py:131\u001b[0m, in \u001b[0;36m_draw_list_compositing_images\u001b[0;34m(renderer, parent, artists, suppress_composite)\u001b[0m\n\u001b[1;32m    129\u001b[0m \u001b[38;5;28;01mif\u001b[39;00m not_composite \u001b[38;5;129;01mor\u001b[39;00m \u001b[38;5;129;01mnot\u001b[39;00m has_images:\n\u001b[1;32m    130\u001b[0m     \u001b[38;5;28;01mfor\u001b[39;00m a \u001b[38;5;129;01min\u001b[39;00m artists:\n\u001b[0;32m--> 131\u001b[0m         \u001b[43ma\u001b[49m\u001b[38;5;241;43m.\u001b[39;49m\u001b[43mdraw\u001b[49m\u001b[43m(\u001b[49m\u001b[43mrenderer\u001b[49m\u001b[43m)\u001b[49m\n\u001b[1;32m    132\u001b[0m \u001b[38;5;28;01melse\u001b[39;00m:\n\u001b[1;32m    133\u001b[0m     \u001b[38;5;66;03m# Composite any adjacent images together\u001b[39;00m\n\u001b[1;32m    134\u001b[0m     image_group \u001b[38;5;241m=\u001b[39m []\n",
      "File \u001b[0;32m/usr/local/lib/python3.8/dist-packages/matplotlib/artist.py:51\u001b[0m, in \u001b[0;36mallow_rasterization.<locals>.draw_wrapper\u001b[0;34m(artist, renderer)\u001b[0m\n\u001b[1;32m     48\u001b[0m     \u001b[38;5;28;01mif\u001b[39;00m artist\u001b[38;5;241m.\u001b[39mget_agg_filter() \u001b[38;5;129;01mis\u001b[39;00m \u001b[38;5;129;01mnot\u001b[39;00m \u001b[38;5;28;01mNone\u001b[39;00m:\n\u001b[1;32m     49\u001b[0m         renderer\u001b[38;5;241m.\u001b[39mstart_filter()\n\u001b[0;32m---> 51\u001b[0m     \u001b[38;5;28;01mreturn\u001b[39;00m \u001b[43mdraw\u001b[49m\u001b[43m(\u001b[49m\u001b[43martist\u001b[49m\u001b[43m,\u001b[49m\u001b[43m \u001b[49m\u001b[43mrenderer\u001b[49m\u001b[43m)\u001b[49m\n\u001b[1;32m     52\u001b[0m \u001b[38;5;28;01mfinally\u001b[39;00m:\n\u001b[1;32m     53\u001b[0m     \u001b[38;5;28;01mif\u001b[39;00m artist\u001b[38;5;241m.\u001b[39mget_agg_filter() \u001b[38;5;129;01mis\u001b[39;00m \u001b[38;5;129;01mnot\u001b[39;00m \u001b[38;5;28;01mNone\u001b[39;00m:\n",
      "File \u001b[0;32m/usr/local/lib/python3.8/dist-packages/matplotlib/axes/_base.py:3106\u001b[0m, in \u001b[0;36m_AxesBase.draw\u001b[0;34m(self, renderer)\u001b[0m\n\u001b[1;32m   3103\u001b[0m         a\u001b[38;5;241m.\u001b[39mdraw(renderer)\n\u001b[1;32m   3104\u001b[0m     renderer\u001b[38;5;241m.\u001b[39mstop_rasterizing()\n\u001b[0;32m-> 3106\u001b[0m \u001b[43mmimage\u001b[49m\u001b[38;5;241;43m.\u001b[39;49m\u001b[43m_draw_list_compositing_images\u001b[49m\u001b[43m(\u001b[49m\n\u001b[1;32m   3107\u001b[0m \u001b[43m    \u001b[49m\u001b[43mrenderer\u001b[49m\u001b[43m,\u001b[49m\u001b[43m \u001b[49m\u001b[38;5;28;43mself\u001b[39;49m\u001b[43m,\u001b[49m\u001b[43m \u001b[49m\u001b[43martists\u001b[49m\u001b[43m,\u001b[49m\u001b[43m \u001b[49m\u001b[38;5;28;43mself\u001b[39;49m\u001b[38;5;241;43m.\u001b[39;49m\u001b[43mfigure\u001b[49m\u001b[38;5;241;43m.\u001b[39;49m\u001b[43msuppressComposite\u001b[49m\u001b[43m)\u001b[49m\n\u001b[1;32m   3109\u001b[0m renderer\u001b[38;5;241m.\u001b[39mclose_group(\u001b[38;5;124m'\u001b[39m\u001b[38;5;124maxes\u001b[39m\u001b[38;5;124m'\u001b[39m)\n\u001b[1;32m   3110\u001b[0m \u001b[38;5;28mself\u001b[39m\u001b[38;5;241m.\u001b[39mstale \u001b[38;5;241m=\u001b[39m \u001b[38;5;28;01mFalse\u001b[39;00m\n",
      "File \u001b[0;32m/usr/local/lib/python3.8/dist-packages/matplotlib/image.py:131\u001b[0m, in \u001b[0;36m_draw_list_compositing_images\u001b[0;34m(renderer, parent, artists, suppress_composite)\u001b[0m\n\u001b[1;32m    129\u001b[0m \u001b[38;5;28;01mif\u001b[39;00m not_composite \u001b[38;5;129;01mor\u001b[39;00m \u001b[38;5;129;01mnot\u001b[39;00m has_images:\n\u001b[1;32m    130\u001b[0m     \u001b[38;5;28;01mfor\u001b[39;00m a \u001b[38;5;129;01min\u001b[39;00m artists:\n\u001b[0;32m--> 131\u001b[0m         \u001b[43ma\u001b[49m\u001b[38;5;241;43m.\u001b[39;49m\u001b[43mdraw\u001b[49m\u001b[43m(\u001b[49m\u001b[43mrenderer\u001b[49m\u001b[43m)\u001b[49m\n\u001b[1;32m    132\u001b[0m \u001b[38;5;28;01melse\u001b[39;00m:\n\u001b[1;32m    133\u001b[0m     \u001b[38;5;66;03m# Composite any adjacent images together\u001b[39;00m\n\u001b[1;32m    134\u001b[0m     image_group \u001b[38;5;241m=\u001b[39m []\n",
      "File \u001b[0;32m/usr/local/lib/python3.8/dist-packages/matplotlib/artist.py:51\u001b[0m, in \u001b[0;36mallow_rasterization.<locals>.draw_wrapper\u001b[0;34m(artist, renderer)\u001b[0m\n\u001b[1;32m     48\u001b[0m     \u001b[38;5;28;01mif\u001b[39;00m artist\u001b[38;5;241m.\u001b[39mget_agg_filter() \u001b[38;5;129;01mis\u001b[39;00m \u001b[38;5;129;01mnot\u001b[39;00m \u001b[38;5;28;01mNone\u001b[39;00m:\n\u001b[1;32m     49\u001b[0m         renderer\u001b[38;5;241m.\u001b[39mstart_filter()\n\u001b[0;32m---> 51\u001b[0m     \u001b[38;5;28;01mreturn\u001b[39;00m \u001b[43mdraw\u001b[49m\u001b[43m(\u001b[49m\u001b[43martist\u001b[49m\u001b[43m,\u001b[49m\u001b[43m \u001b[49m\u001b[43mrenderer\u001b[49m\u001b[43m)\u001b[49m\n\u001b[1;32m     52\u001b[0m \u001b[38;5;28;01mfinally\u001b[39;00m:\n\u001b[1;32m     53\u001b[0m     \u001b[38;5;28;01mif\u001b[39;00m artist\u001b[38;5;241m.\u001b[39mget_agg_filter() \u001b[38;5;129;01mis\u001b[39;00m \u001b[38;5;129;01mnot\u001b[39;00m \u001b[38;5;28;01mNone\u001b[39;00m:\n",
      "File \u001b[0;32m/usr/local/lib/python3.8/dist-packages/matplotlib/axis.py:1304\u001b[0m, in \u001b[0;36mAxis.draw\u001b[0;34m(self, renderer, *args, **kwargs)\u001b[0m\n\u001b[1;32m   1301\u001b[0m     \u001b[38;5;28;01mreturn\u001b[39;00m\n\u001b[1;32m   1302\u001b[0m renderer\u001b[38;5;241m.\u001b[39mopen_group(\u001b[38;5;18m__name__\u001b[39m, gid\u001b[38;5;241m=\u001b[39m\u001b[38;5;28mself\u001b[39m\u001b[38;5;241m.\u001b[39mget_gid())\n\u001b[0;32m-> 1304\u001b[0m ticks_to_draw \u001b[38;5;241m=\u001b[39m \u001b[38;5;28;43mself\u001b[39;49m\u001b[38;5;241;43m.\u001b[39;49m\u001b[43m_update_ticks\u001b[49m\u001b[43m(\u001b[49m\u001b[43m)\u001b[49m\n\u001b[1;32m   1305\u001b[0m tlb1, tlb2 \u001b[38;5;241m=\u001b[39m \u001b[38;5;28mself\u001b[39m\u001b[38;5;241m.\u001b[39m_get_ticklabel_bboxes(ticks_to_draw, renderer)\n\u001b[1;32m   1307\u001b[0m \u001b[38;5;28;01mfor\u001b[39;00m tick \u001b[38;5;129;01min\u001b[39;00m ticks_to_draw:\n",
      "File \u001b[0;32m/usr/local/lib/python3.8/dist-packages/matplotlib/axis.py:1190\u001b[0m, in \u001b[0;36mAxis._update_ticks\u001b[0;34m(self)\u001b[0m\n\u001b[1;32m   1185\u001b[0m \u001b[38;5;28;01mdef\u001b[39;00m \u001b[38;5;21m_update_ticks\u001b[39m(\u001b[38;5;28mself\u001b[39m):\n\u001b[1;32m   1186\u001b[0m     \u001b[38;5;124;03m\"\"\"\u001b[39;00m\n\u001b[1;32m   1187\u001b[0m \u001b[38;5;124;03m    Update ticks (position and labels) using the current data interval of\u001b[39;00m\n\u001b[1;32m   1188\u001b[0m \u001b[38;5;124;03m    the axes.  Return the list of ticks that will be drawn.\u001b[39;00m\n\u001b[1;32m   1189\u001b[0m \u001b[38;5;124;03m    \"\"\"\u001b[39;00m\n\u001b[0;32m-> 1190\u001b[0m     major_locs \u001b[38;5;241m=\u001b[39m \u001b[38;5;28;43mself\u001b[39;49m\u001b[38;5;241;43m.\u001b[39;49m\u001b[43mget_majorticklocs\u001b[49m\u001b[43m(\u001b[49m\u001b[43m)\u001b[49m\n\u001b[1;32m   1191\u001b[0m     major_labels \u001b[38;5;241m=\u001b[39m \u001b[38;5;28mself\u001b[39m\u001b[38;5;241m.\u001b[39mmajor\u001b[38;5;241m.\u001b[39mformatter\u001b[38;5;241m.\u001b[39mformat_ticks(major_locs)\n\u001b[1;32m   1192\u001b[0m     major_ticks \u001b[38;5;241m=\u001b[39m \u001b[38;5;28mself\u001b[39m\u001b[38;5;241m.\u001b[39mget_major_ticks(\u001b[38;5;28mlen\u001b[39m(major_locs))\n",
      "File \u001b[0;32m/usr/local/lib/python3.8/dist-packages/matplotlib/axis.py:1416\u001b[0m, in \u001b[0;36mAxis.get_majorticklocs\u001b[0;34m(self)\u001b[0m\n\u001b[1;32m   1414\u001b[0m \u001b[38;5;28;01mdef\u001b[39;00m \u001b[38;5;21mget_majorticklocs\u001b[39m(\u001b[38;5;28mself\u001b[39m):\n\u001b[1;32m   1415\u001b[0m     \u001b[38;5;124;03m\"\"\"Return this Axis' major tick locations in data coordinates.\"\"\"\u001b[39;00m\n\u001b[0;32m-> 1416\u001b[0m     \u001b[38;5;28;01mreturn\u001b[39;00m \u001b[38;5;28;43mself\u001b[39;49m\u001b[38;5;241;43m.\u001b[39;49m\u001b[43mmajor\u001b[49m\u001b[38;5;241;43m.\u001b[39;49m\u001b[43mlocator\u001b[49m\u001b[43m(\u001b[49m\u001b[43m)\u001b[49m\n",
      "File \u001b[0;32m/usr/local/lib/python3.8/dist-packages/matplotlib/ticker.py:2143\u001b[0m, in \u001b[0;36mMaxNLocator.__call__\u001b[0;34m(self)\u001b[0m\n\u001b[1;32m   2141\u001b[0m \u001b[38;5;28;01mdef\u001b[39;00m \u001b[38;5;21m__call__\u001b[39m(\u001b[38;5;28mself\u001b[39m):\n\u001b[1;32m   2142\u001b[0m     vmin, vmax \u001b[38;5;241m=\u001b[39m \u001b[38;5;28mself\u001b[39m\u001b[38;5;241m.\u001b[39maxis\u001b[38;5;241m.\u001b[39mget_view_interval()\n\u001b[0;32m-> 2143\u001b[0m     \u001b[38;5;28;01mreturn\u001b[39;00m \u001b[38;5;28;43mself\u001b[39;49m\u001b[38;5;241;43m.\u001b[39;49m\u001b[43mtick_values\u001b[49m\u001b[43m(\u001b[49m\u001b[43mvmin\u001b[49m\u001b[43m,\u001b[49m\u001b[43m \u001b[49m\u001b[43mvmax\u001b[49m\u001b[43m)\u001b[49m\n",
      "File \u001b[0;32m/usr/local/lib/python3.8/dist-packages/matplotlib/ticker.py:2151\u001b[0m, in \u001b[0;36mMaxNLocator.tick_values\u001b[0;34m(self, vmin, vmax)\u001b[0m\n\u001b[1;32m   2148\u001b[0m     vmin \u001b[38;5;241m=\u001b[39m \u001b[38;5;241m-\u001b[39mvmax\n\u001b[1;32m   2149\u001b[0m vmin, vmax \u001b[38;5;241m=\u001b[39m mtransforms\u001b[38;5;241m.\u001b[39mnonsingular(\n\u001b[1;32m   2150\u001b[0m     vmin, vmax, expander\u001b[38;5;241m=\u001b[39m\u001b[38;5;241m1e-13\u001b[39m, tiny\u001b[38;5;241m=\u001b[39m\u001b[38;5;241m1e-14\u001b[39m)\n\u001b[0;32m-> 2151\u001b[0m locs \u001b[38;5;241m=\u001b[39m \u001b[38;5;28;43mself\u001b[39;49m\u001b[38;5;241;43m.\u001b[39;49m\u001b[43m_raw_ticks\u001b[49m\u001b[43m(\u001b[49m\u001b[43mvmin\u001b[49m\u001b[43m,\u001b[49m\u001b[43m \u001b[49m\u001b[43mvmax\u001b[49m\u001b[43m)\u001b[49m\n\u001b[1;32m   2153\u001b[0m prune \u001b[38;5;241m=\u001b[39m \u001b[38;5;28mself\u001b[39m\u001b[38;5;241m.\u001b[39m_prune\n\u001b[1;32m   2154\u001b[0m \u001b[38;5;28;01mif\u001b[39;00m prune \u001b[38;5;241m==\u001b[39m \u001b[38;5;124m'\u001b[39m\u001b[38;5;124mlower\u001b[39m\u001b[38;5;124m'\u001b[39m:\n",
      "File \u001b[0;32m/usr/local/lib/python3.8/dist-packages/matplotlib/ticker.py:2090\u001b[0m, in \u001b[0;36mMaxNLocator._raw_ticks\u001b[0;34m(self, vmin, vmax)\u001b[0m\n\u001b[1;32m   2088\u001b[0m \u001b[38;5;28;01mif\u001b[39;00m \u001b[38;5;28mself\u001b[39m\u001b[38;5;241m.\u001b[39m_nbins \u001b[38;5;241m==\u001b[39m \u001b[38;5;124m'\u001b[39m\u001b[38;5;124mauto\u001b[39m\u001b[38;5;124m'\u001b[39m:\n\u001b[1;32m   2089\u001b[0m     \u001b[38;5;28;01mif\u001b[39;00m \u001b[38;5;28mself\u001b[39m\u001b[38;5;241m.\u001b[39maxis \u001b[38;5;129;01mis\u001b[39;00m \u001b[38;5;129;01mnot\u001b[39;00m \u001b[38;5;28;01mNone\u001b[39;00m:\n\u001b[0;32m-> 2090\u001b[0m         nbins \u001b[38;5;241m=\u001b[39m np\u001b[38;5;241m.\u001b[39mclip(\u001b[38;5;28;43mself\u001b[39;49m\u001b[38;5;241;43m.\u001b[39;49m\u001b[43maxis\u001b[49m\u001b[38;5;241;43m.\u001b[39;49m\u001b[43mget_tick_space\u001b[49m\u001b[43m(\u001b[49m\u001b[43m)\u001b[49m,\n\u001b[1;32m   2091\u001b[0m                         \u001b[38;5;28mmax\u001b[39m(\u001b[38;5;241m1\u001b[39m, \u001b[38;5;28mself\u001b[39m\u001b[38;5;241m.\u001b[39m_min_n_ticks \u001b[38;5;241m-\u001b[39m \u001b[38;5;241m1\u001b[39m), \u001b[38;5;241m9\u001b[39m)\n\u001b[1;32m   2092\u001b[0m     \u001b[38;5;28;01melse\u001b[39;00m:\n\u001b[1;32m   2093\u001b[0m         nbins \u001b[38;5;241m=\u001b[39m \u001b[38;5;241m9\u001b[39m\n",
      "File \u001b[0;32m/usr/local/lib/python3.8/dist-packages/matplotlib/axis.py:2430\u001b[0m, in \u001b[0;36mXAxis.get_tick_space\u001b[0;34m(self)\u001b[0m\n\u001b[1;32m   2428\u001b[0m size \u001b[38;5;241m=\u001b[39m \u001b[38;5;28mself\u001b[39m\u001b[38;5;241m.\u001b[39m_get_tick_label_size(\u001b[38;5;124m'\u001b[39m\u001b[38;5;124mx\u001b[39m\u001b[38;5;124m'\u001b[39m) \u001b[38;5;241m*\u001b[39m \u001b[38;5;241m3\u001b[39m\n\u001b[1;32m   2429\u001b[0m \u001b[38;5;28;01mif\u001b[39;00m size \u001b[38;5;241m>\u001b[39m \u001b[38;5;241m0\u001b[39m:\n\u001b[0;32m-> 2430\u001b[0m     \u001b[38;5;28;01mreturn\u001b[39;00m \u001b[38;5;28;43mint\u001b[39;49m\u001b[43m(\u001b[49m\u001b[43mnp\u001b[49m\u001b[38;5;241;43m.\u001b[39;49m\u001b[43mfloor\u001b[49m\u001b[43m(\u001b[49m\u001b[43mlength\u001b[49m\u001b[43m \u001b[49m\u001b[38;5;241;43m/\u001b[39;49m\u001b[43m \u001b[49m\u001b[43msize\u001b[49m\u001b[43m)\u001b[49m\u001b[43m)\u001b[49m\n\u001b[1;32m   2431\u001b[0m \u001b[38;5;28;01melse\u001b[39;00m:\n\u001b[1;32m   2432\u001b[0m     \u001b[38;5;28;01mreturn\u001b[39;00m \u001b[38;5;241m2\u001b[39m\u001b[38;5;241m*\u001b[39m\u001b[38;5;241m*\u001b[39m\u001b[38;5;241m31\u001b[39m \u001b[38;5;241m-\u001b[39m \u001b[38;5;241m1\u001b[39m\n",
      "\u001b[0;31mValueError\u001b[0m: cannot convert float NaN to integer"
     ]
    },
    {
     "ename": "ValueError",
     "evalue": "cannot convert float NaN to integer",
     "output_type": "error",
     "traceback": [
      "\u001b[0;31m---------------------------------------------------------------------------\u001b[0m",
      "\u001b[0;31mValueError\u001b[0m                                Traceback (most recent call last)",
      "File \u001b[0;32m/usr/local/lib/python3.8/dist-packages/IPython/core/formatters.py:339\u001b[0m, in \u001b[0;36mBaseFormatter.__call__\u001b[0;34m(self, obj)\u001b[0m\n\u001b[1;32m    337\u001b[0m     \u001b[38;5;28;01mpass\u001b[39;00m\n\u001b[1;32m    338\u001b[0m \u001b[38;5;28;01melse\u001b[39;00m:\n\u001b[0;32m--> 339\u001b[0m     \u001b[38;5;28;01mreturn\u001b[39;00m \u001b[43mprinter\u001b[49m\u001b[43m(\u001b[49m\u001b[43mobj\u001b[49m\u001b[43m)\u001b[49m\n\u001b[1;32m    340\u001b[0m \u001b[38;5;66;03m# Finally look for special method names\u001b[39;00m\n\u001b[1;32m    341\u001b[0m method \u001b[38;5;241m=\u001b[39m get_real_method(obj, \u001b[38;5;28mself\u001b[39m\u001b[38;5;241m.\u001b[39mprint_method)\n",
      "File \u001b[0;32m/usr/local/lib/python3.8/dist-packages/IPython/core/pylabtools.py:151\u001b[0m, in \u001b[0;36mprint_figure\u001b[0;34m(fig, fmt, bbox_inches, base64, **kwargs)\u001b[0m\n\u001b[1;32m    148\u001b[0m     \u001b[38;5;28;01mfrom\u001b[39;00m \u001b[38;5;21;01mmatplotlib\u001b[39;00m\u001b[38;5;21;01m.\u001b[39;00m\u001b[38;5;21;01mbackend_bases\u001b[39;00m \u001b[38;5;28;01mimport\u001b[39;00m FigureCanvasBase\n\u001b[1;32m    149\u001b[0m     FigureCanvasBase(fig)\n\u001b[0;32m--> 151\u001b[0m \u001b[43mfig\u001b[49m\u001b[38;5;241;43m.\u001b[39;49m\u001b[43mcanvas\u001b[49m\u001b[38;5;241;43m.\u001b[39;49m\u001b[43mprint_figure\u001b[49m\u001b[43m(\u001b[49m\u001b[43mbytes_io\u001b[49m\u001b[43m,\u001b[49m\u001b[43m \u001b[49m\u001b[38;5;241;43m*\u001b[39;49m\u001b[38;5;241;43m*\u001b[39;49m\u001b[43mkw\u001b[49m\u001b[43m)\u001b[49m\n\u001b[1;32m    152\u001b[0m data \u001b[38;5;241m=\u001b[39m bytes_io\u001b[38;5;241m.\u001b[39mgetvalue()\n\u001b[1;32m    153\u001b[0m \u001b[38;5;28;01mif\u001b[39;00m fmt \u001b[38;5;241m==\u001b[39m \u001b[38;5;124m'\u001b[39m\u001b[38;5;124msvg\u001b[39m\u001b[38;5;124m'\u001b[39m:\n",
      "File \u001b[0;32m/usr/local/lib/python3.8/dist-packages/matplotlib/backend_bases.py:2314\u001b[0m, in \u001b[0;36mFigureCanvasBase.print_figure\u001b[0;34m(self, filename, dpi, facecolor, edgecolor, orientation, format, bbox_inches, pad_inches, bbox_extra_artists, backend, **kwargs)\u001b[0m\n\u001b[1;32m   2308\u001b[0m     renderer \u001b[38;5;241m=\u001b[39m _get_renderer(\n\u001b[1;32m   2309\u001b[0m         \u001b[38;5;28mself\u001b[39m\u001b[38;5;241m.\u001b[39mfigure,\n\u001b[1;32m   2310\u001b[0m         functools\u001b[38;5;241m.\u001b[39mpartial(\n\u001b[1;32m   2311\u001b[0m             print_method, orientation\u001b[38;5;241m=\u001b[39morientation)\n\u001b[1;32m   2312\u001b[0m     )\n\u001b[1;32m   2313\u001b[0m     \u001b[38;5;28;01mwith\u001b[39;00m \u001b[38;5;28mgetattr\u001b[39m(renderer, \u001b[38;5;124m\"\u001b[39m\u001b[38;5;124m_draw_disabled\u001b[39m\u001b[38;5;124m\"\u001b[39m, nullcontext)():\n\u001b[0;32m-> 2314\u001b[0m         \u001b[38;5;28;43mself\u001b[39;49m\u001b[38;5;241;43m.\u001b[39;49m\u001b[43mfigure\u001b[49m\u001b[38;5;241;43m.\u001b[39;49m\u001b[43mdraw\u001b[49m\u001b[43m(\u001b[49m\u001b[43mrenderer\u001b[49m\u001b[43m)\u001b[49m\n\u001b[1;32m   2316\u001b[0m \u001b[38;5;28;01mif\u001b[39;00m bbox_inches:\n\u001b[1;32m   2317\u001b[0m     \u001b[38;5;28;01mif\u001b[39;00m bbox_inches \u001b[38;5;241m==\u001b[39m \u001b[38;5;124m\"\u001b[39m\u001b[38;5;124mtight\u001b[39m\u001b[38;5;124m\"\u001b[39m:\n",
      "File \u001b[0;32m/usr/local/lib/python3.8/dist-packages/matplotlib/artist.py:74\u001b[0m, in \u001b[0;36m_finalize_rasterization.<locals>.draw_wrapper\u001b[0;34m(artist, renderer, *args, **kwargs)\u001b[0m\n\u001b[1;32m     72\u001b[0m \u001b[38;5;129m@wraps\u001b[39m(draw)\n\u001b[1;32m     73\u001b[0m \u001b[38;5;28;01mdef\u001b[39;00m \u001b[38;5;21mdraw_wrapper\u001b[39m(artist, renderer, \u001b[38;5;241m*\u001b[39margs, \u001b[38;5;241m*\u001b[39m\u001b[38;5;241m*\u001b[39mkwargs):\n\u001b[0;32m---> 74\u001b[0m     result \u001b[38;5;241m=\u001b[39m \u001b[43mdraw\u001b[49m\u001b[43m(\u001b[49m\u001b[43martist\u001b[49m\u001b[43m,\u001b[49m\u001b[43m \u001b[49m\u001b[43mrenderer\u001b[49m\u001b[43m,\u001b[49m\u001b[43m \u001b[49m\u001b[38;5;241;43m*\u001b[39;49m\u001b[43margs\u001b[49m\u001b[43m,\u001b[49m\u001b[43m \u001b[49m\u001b[38;5;241;43m*\u001b[39;49m\u001b[38;5;241;43m*\u001b[39;49m\u001b[43mkwargs\u001b[49m\u001b[43m)\u001b[49m\n\u001b[1;32m     75\u001b[0m     \u001b[38;5;28;01mif\u001b[39;00m renderer\u001b[38;5;241m.\u001b[39m_rasterizing:\n\u001b[1;32m     76\u001b[0m         renderer\u001b[38;5;241m.\u001b[39mstop_rasterizing()\n",
      "File \u001b[0;32m/usr/local/lib/python3.8/dist-packages/matplotlib/artist.py:51\u001b[0m, in \u001b[0;36mallow_rasterization.<locals>.draw_wrapper\u001b[0;34m(artist, renderer)\u001b[0m\n\u001b[1;32m     48\u001b[0m     \u001b[38;5;28;01mif\u001b[39;00m artist\u001b[38;5;241m.\u001b[39mget_agg_filter() \u001b[38;5;129;01mis\u001b[39;00m \u001b[38;5;129;01mnot\u001b[39;00m \u001b[38;5;28;01mNone\u001b[39;00m:\n\u001b[1;32m     49\u001b[0m         renderer\u001b[38;5;241m.\u001b[39mstart_filter()\n\u001b[0;32m---> 51\u001b[0m     \u001b[38;5;28;01mreturn\u001b[39;00m \u001b[43mdraw\u001b[49m\u001b[43m(\u001b[49m\u001b[43martist\u001b[49m\u001b[43m,\u001b[49m\u001b[43m \u001b[49m\u001b[43mrenderer\u001b[49m\u001b[43m)\u001b[49m\n\u001b[1;32m     52\u001b[0m \u001b[38;5;28;01mfinally\u001b[39;00m:\n\u001b[1;32m     53\u001b[0m     \u001b[38;5;28;01mif\u001b[39;00m artist\u001b[38;5;241m.\u001b[39mget_agg_filter() \u001b[38;5;129;01mis\u001b[39;00m \u001b[38;5;129;01mnot\u001b[39;00m \u001b[38;5;28;01mNone\u001b[39;00m:\n",
      "File \u001b[0;32m/usr/local/lib/python3.8/dist-packages/matplotlib/figure.py:3069\u001b[0m, in \u001b[0;36mFigure.draw\u001b[0;34m(self, renderer)\u001b[0m\n\u001b[1;32m   3066\u001b[0m         \u001b[38;5;66;03m# ValueError can occur when resizing a window.\u001b[39;00m\n\u001b[1;32m   3068\u001b[0m \u001b[38;5;28mself\u001b[39m\u001b[38;5;241m.\u001b[39mpatch\u001b[38;5;241m.\u001b[39mdraw(renderer)\n\u001b[0;32m-> 3069\u001b[0m \u001b[43mmimage\u001b[49m\u001b[38;5;241;43m.\u001b[39;49m\u001b[43m_draw_list_compositing_images\u001b[49m\u001b[43m(\u001b[49m\n\u001b[1;32m   3070\u001b[0m \u001b[43m    \u001b[49m\u001b[43mrenderer\u001b[49m\u001b[43m,\u001b[49m\u001b[43m \u001b[49m\u001b[38;5;28;43mself\u001b[39;49m\u001b[43m,\u001b[49m\u001b[43m \u001b[49m\u001b[43martists\u001b[49m\u001b[43m,\u001b[49m\u001b[43m \u001b[49m\u001b[38;5;28;43mself\u001b[39;49m\u001b[38;5;241;43m.\u001b[39;49m\u001b[43msuppressComposite\u001b[49m\u001b[43m)\u001b[49m\n\u001b[1;32m   3072\u001b[0m \u001b[38;5;28;01mfor\u001b[39;00m sfig \u001b[38;5;129;01min\u001b[39;00m \u001b[38;5;28mself\u001b[39m\u001b[38;5;241m.\u001b[39msubfigs:\n\u001b[1;32m   3073\u001b[0m     sfig\u001b[38;5;241m.\u001b[39mdraw(renderer)\n",
      "File \u001b[0;32m/usr/local/lib/python3.8/dist-packages/matplotlib/image.py:131\u001b[0m, in \u001b[0;36m_draw_list_compositing_images\u001b[0;34m(renderer, parent, artists, suppress_composite)\u001b[0m\n\u001b[1;32m    129\u001b[0m \u001b[38;5;28;01mif\u001b[39;00m not_composite \u001b[38;5;129;01mor\u001b[39;00m \u001b[38;5;129;01mnot\u001b[39;00m has_images:\n\u001b[1;32m    130\u001b[0m     \u001b[38;5;28;01mfor\u001b[39;00m a \u001b[38;5;129;01min\u001b[39;00m artists:\n\u001b[0;32m--> 131\u001b[0m         \u001b[43ma\u001b[49m\u001b[38;5;241;43m.\u001b[39;49m\u001b[43mdraw\u001b[49m\u001b[43m(\u001b[49m\u001b[43mrenderer\u001b[49m\u001b[43m)\u001b[49m\n\u001b[1;32m    132\u001b[0m \u001b[38;5;28;01melse\u001b[39;00m:\n\u001b[1;32m    133\u001b[0m     \u001b[38;5;66;03m# Composite any adjacent images together\u001b[39;00m\n\u001b[1;32m    134\u001b[0m     image_group \u001b[38;5;241m=\u001b[39m []\n",
      "File \u001b[0;32m/usr/local/lib/python3.8/dist-packages/matplotlib/artist.py:51\u001b[0m, in \u001b[0;36mallow_rasterization.<locals>.draw_wrapper\u001b[0;34m(artist, renderer)\u001b[0m\n\u001b[1;32m     48\u001b[0m     \u001b[38;5;28;01mif\u001b[39;00m artist\u001b[38;5;241m.\u001b[39mget_agg_filter() \u001b[38;5;129;01mis\u001b[39;00m \u001b[38;5;129;01mnot\u001b[39;00m \u001b[38;5;28;01mNone\u001b[39;00m:\n\u001b[1;32m     49\u001b[0m         renderer\u001b[38;5;241m.\u001b[39mstart_filter()\n\u001b[0;32m---> 51\u001b[0m     \u001b[38;5;28;01mreturn\u001b[39;00m \u001b[43mdraw\u001b[49m\u001b[43m(\u001b[49m\u001b[43martist\u001b[49m\u001b[43m,\u001b[49m\u001b[43m \u001b[49m\u001b[43mrenderer\u001b[49m\u001b[43m)\u001b[49m\n\u001b[1;32m     52\u001b[0m \u001b[38;5;28;01mfinally\u001b[39;00m:\n\u001b[1;32m     53\u001b[0m     \u001b[38;5;28;01mif\u001b[39;00m artist\u001b[38;5;241m.\u001b[39mget_agg_filter() \u001b[38;5;129;01mis\u001b[39;00m \u001b[38;5;129;01mnot\u001b[39;00m \u001b[38;5;28;01mNone\u001b[39;00m:\n",
      "File \u001b[0;32m/usr/local/lib/python3.8/dist-packages/matplotlib/axes/_base.py:3106\u001b[0m, in \u001b[0;36m_AxesBase.draw\u001b[0;34m(self, renderer)\u001b[0m\n\u001b[1;32m   3103\u001b[0m         a\u001b[38;5;241m.\u001b[39mdraw(renderer)\n\u001b[1;32m   3104\u001b[0m     renderer\u001b[38;5;241m.\u001b[39mstop_rasterizing()\n\u001b[0;32m-> 3106\u001b[0m \u001b[43mmimage\u001b[49m\u001b[38;5;241;43m.\u001b[39;49m\u001b[43m_draw_list_compositing_images\u001b[49m\u001b[43m(\u001b[49m\n\u001b[1;32m   3107\u001b[0m \u001b[43m    \u001b[49m\u001b[43mrenderer\u001b[49m\u001b[43m,\u001b[49m\u001b[43m \u001b[49m\u001b[38;5;28;43mself\u001b[39;49m\u001b[43m,\u001b[49m\u001b[43m \u001b[49m\u001b[43martists\u001b[49m\u001b[43m,\u001b[49m\u001b[43m \u001b[49m\u001b[38;5;28;43mself\u001b[39;49m\u001b[38;5;241;43m.\u001b[39;49m\u001b[43mfigure\u001b[49m\u001b[38;5;241;43m.\u001b[39;49m\u001b[43msuppressComposite\u001b[49m\u001b[43m)\u001b[49m\n\u001b[1;32m   3109\u001b[0m renderer\u001b[38;5;241m.\u001b[39mclose_group(\u001b[38;5;124m'\u001b[39m\u001b[38;5;124maxes\u001b[39m\u001b[38;5;124m'\u001b[39m)\n\u001b[1;32m   3110\u001b[0m \u001b[38;5;28mself\u001b[39m\u001b[38;5;241m.\u001b[39mstale \u001b[38;5;241m=\u001b[39m \u001b[38;5;28;01mFalse\u001b[39;00m\n",
      "File \u001b[0;32m/usr/local/lib/python3.8/dist-packages/matplotlib/image.py:131\u001b[0m, in \u001b[0;36m_draw_list_compositing_images\u001b[0;34m(renderer, parent, artists, suppress_composite)\u001b[0m\n\u001b[1;32m    129\u001b[0m \u001b[38;5;28;01mif\u001b[39;00m not_composite \u001b[38;5;129;01mor\u001b[39;00m \u001b[38;5;129;01mnot\u001b[39;00m has_images:\n\u001b[1;32m    130\u001b[0m     \u001b[38;5;28;01mfor\u001b[39;00m a \u001b[38;5;129;01min\u001b[39;00m artists:\n\u001b[0;32m--> 131\u001b[0m         \u001b[43ma\u001b[49m\u001b[38;5;241;43m.\u001b[39;49m\u001b[43mdraw\u001b[49m\u001b[43m(\u001b[49m\u001b[43mrenderer\u001b[49m\u001b[43m)\u001b[49m\n\u001b[1;32m    132\u001b[0m \u001b[38;5;28;01melse\u001b[39;00m:\n\u001b[1;32m    133\u001b[0m     \u001b[38;5;66;03m# Composite any adjacent images together\u001b[39;00m\n\u001b[1;32m    134\u001b[0m     image_group \u001b[38;5;241m=\u001b[39m []\n",
      "File \u001b[0;32m/usr/local/lib/python3.8/dist-packages/matplotlib/artist.py:51\u001b[0m, in \u001b[0;36mallow_rasterization.<locals>.draw_wrapper\u001b[0;34m(artist, renderer)\u001b[0m\n\u001b[1;32m     48\u001b[0m     \u001b[38;5;28;01mif\u001b[39;00m artist\u001b[38;5;241m.\u001b[39mget_agg_filter() \u001b[38;5;129;01mis\u001b[39;00m \u001b[38;5;129;01mnot\u001b[39;00m \u001b[38;5;28;01mNone\u001b[39;00m:\n\u001b[1;32m     49\u001b[0m         renderer\u001b[38;5;241m.\u001b[39mstart_filter()\n\u001b[0;32m---> 51\u001b[0m     \u001b[38;5;28;01mreturn\u001b[39;00m \u001b[43mdraw\u001b[49m\u001b[43m(\u001b[49m\u001b[43martist\u001b[49m\u001b[43m,\u001b[49m\u001b[43m \u001b[49m\u001b[43mrenderer\u001b[49m\u001b[43m)\u001b[49m\n\u001b[1;32m     52\u001b[0m \u001b[38;5;28;01mfinally\u001b[39;00m:\n\u001b[1;32m     53\u001b[0m     \u001b[38;5;28;01mif\u001b[39;00m artist\u001b[38;5;241m.\u001b[39mget_agg_filter() \u001b[38;5;129;01mis\u001b[39;00m \u001b[38;5;129;01mnot\u001b[39;00m \u001b[38;5;28;01mNone\u001b[39;00m:\n",
      "File \u001b[0;32m/usr/local/lib/python3.8/dist-packages/matplotlib/axis.py:1304\u001b[0m, in \u001b[0;36mAxis.draw\u001b[0;34m(self, renderer, *args, **kwargs)\u001b[0m\n\u001b[1;32m   1301\u001b[0m     \u001b[38;5;28;01mreturn\u001b[39;00m\n\u001b[1;32m   1302\u001b[0m renderer\u001b[38;5;241m.\u001b[39mopen_group(\u001b[38;5;18m__name__\u001b[39m, gid\u001b[38;5;241m=\u001b[39m\u001b[38;5;28mself\u001b[39m\u001b[38;5;241m.\u001b[39mget_gid())\n\u001b[0;32m-> 1304\u001b[0m ticks_to_draw \u001b[38;5;241m=\u001b[39m \u001b[38;5;28;43mself\u001b[39;49m\u001b[38;5;241;43m.\u001b[39;49m\u001b[43m_update_ticks\u001b[49m\u001b[43m(\u001b[49m\u001b[43m)\u001b[49m\n\u001b[1;32m   1305\u001b[0m tlb1, tlb2 \u001b[38;5;241m=\u001b[39m \u001b[38;5;28mself\u001b[39m\u001b[38;5;241m.\u001b[39m_get_ticklabel_bboxes(ticks_to_draw, renderer)\n\u001b[1;32m   1307\u001b[0m \u001b[38;5;28;01mfor\u001b[39;00m tick \u001b[38;5;129;01min\u001b[39;00m ticks_to_draw:\n",
      "File \u001b[0;32m/usr/local/lib/python3.8/dist-packages/matplotlib/axis.py:1190\u001b[0m, in \u001b[0;36mAxis._update_ticks\u001b[0;34m(self)\u001b[0m\n\u001b[1;32m   1185\u001b[0m \u001b[38;5;28;01mdef\u001b[39;00m \u001b[38;5;21m_update_ticks\u001b[39m(\u001b[38;5;28mself\u001b[39m):\n\u001b[1;32m   1186\u001b[0m     \u001b[38;5;124;03m\"\"\"\u001b[39;00m\n\u001b[1;32m   1187\u001b[0m \u001b[38;5;124;03m    Update ticks (position and labels) using the current data interval of\u001b[39;00m\n\u001b[1;32m   1188\u001b[0m \u001b[38;5;124;03m    the axes.  Return the list of ticks that will be drawn.\u001b[39;00m\n\u001b[1;32m   1189\u001b[0m \u001b[38;5;124;03m    \"\"\"\u001b[39;00m\n\u001b[0;32m-> 1190\u001b[0m     major_locs \u001b[38;5;241m=\u001b[39m \u001b[38;5;28;43mself\u001b[39;49m\u001b[38;5;241;43m.\u001b[39;49m\u001b[43mget_majorticklocs\u001b[49m\u001b[43m(\u001b[49m\u001b[43m)\u001b[49m\n\u001b[1;32m   1191\u001b[0m     major_labels \u001b[38;5;241m=\u001b[39m \u001b[38;5;28mself\u001b[39m\u001b[38;5;241m.\u001b[39mmajor\u001b[38;5;241m.\u001b[39mformatter\u001b[38;5;241m.\u001b[39mformat_ticks(major_locs)\n\u001b[1;32m   1192\u001b[0m     major_ticks \u001b[38;5;241m=\u001b[39m \u001b[38;5;28mself\u001b[39m\u001b[38;5;241m.\u001b[39mget_major_ticks(\u001b[38;5;28mlen\u001b[39m(major_locs))\n",
      "File \u001b[0;32m/usr/local/lib/python3.8/dist-packages/matplotlib/axis.py:1416\u001b[0m, in \u001b[0;36mAxis.get_majorticklocs\u001b[0;34m(self)\u001b[0m\n\u001b[1;32m   1414\u001b[0m \u001b[38;5;28;01mdef\u001b[39;00m \u001b[38;5;21mget_majorticklocs\u001b[39m(\u001b[38;5;28mself\u001b[39m):\n\u001b[1;32m   1415\u001b[0m     \u001b[38;5;124;03m\"\"\"Return this Axis' major tick locations in data coordinates.\"\"\"\u001b[39;00m\n\u001b[0;32m-> 1416\u001b[0m     \u001b[38;5;28;01mreturn\u001b[39;00m \u001b[38;5;28;43mself\u001b[39;49m\u001b[38;5;241;43m.\u001b[39;49m\u001b[43mmajor\u001b[49m\u001b[38;5;241;43m.\u001b[39;49m\u001b[43mlocator\u001b[49m\u001b[43m(\u001b[49m\u001b[43m)\u001b[49m\n",
      "File \u001b[0;32m/usr/local/lib/python3.8/dist-packages/matplotlib/ticker.py:2143\u001b[0m, in \u001b[0;36mMaxNLocator.__call__\u001b[0;34m(self)\u001b[0m\n\u001b[1;32m   2141\u001b[0m \u001b[38;5;28;01mdef\u001b[39;00m \u001b[38;5;21m__call__\u001b[39m(\u001b[38;5;28mself\u001b[39m):\n\u001b[1;32m   2142\u001b[0m     vmin, vmax \u001b[38;5;241m=\u001b[39m \u001b[38;5;28mself\u001b[39m\u001b[38;5;241m.\u001b[39maxis\u001b[38;5;241m.\u001b[39mget_view_interval()\n\u001b[0;32m-> 2143\u001b[0m     \u001b[38;5;28;01mreturn\u001b[39;00m \u001b[38;5;28;43mself\u001b[39;49m\u001b[38;5;241;43m.\u001b[39;49m\u001b[43mtick_values\u001b[49m\u001b[43m(\u001b[49m\u001b[43mvmin\u001b[49m\u001b[43m,\u001b[49m\u001b[43m \u001b[49m\u001b[43mvmax\u001b[49m\u001b[43m)\u001b[49m\n",
      "File \u001b[0;32m/usr/local/lib/python3.8/dist-packages/matplotlib/ticker.py:2151\u001b[0m, in \u001b[0;36mMaxNLocator.tick_values\u001b[0;34m(self, vmin, vmax)\u001b[0m\n\u001b[1;32m   2148\u001b[0m     vmin \u001b[38;5;241m=\u001b[39m \u001b[38;5;241m-\u001b[39mvmax\n\u001b[1;32m   2149\u001b[0m vmin, vmax \u001b[38;5;241m=\u001b[39m mtransforms\u001b[38;5;241m.\u001b[39mnonsingular(\n\u001b[1;32m   2150\u001b[0m     vmin, vmax, expander\u001b[38;5;241m=\u001b[39m\u001b[38;5;241m1e-13\u001b[39m, tiny\u001b[38;5;241m=\u001b[39m\u001b[38;5;241m1e-14\u001b[39m)\n\u001b[0;32m-> 2151\u001b[0m locs \u001b[38;5;241m=\u001b[39m \u001b[38;5;28;43mself\u001b[39;49m\u001b[38;5;241;43m.\u001b[39;49m\u001b[43m_raw_ticks\u001b[49m\u001b[43m(\u001b[49m\u001b[43mvmin\u001b[49m\u001b[43m,\u001b[49m\u001b[43m \u001b[49m\u001b[43mvmax\u001b[49m\u001b[43m)\u001b[49m\n\u001b[1;32m   2153\u001b[0m prune \u001b[38;5;241m=\u001b[39m \u001b[38;5;28mself\u001b[39m\u001b[38;5;241m.\u001b[39m_prune\n\u001b[1;32m   2154\u001b[0m \u001b[38;5;28;01mif\u001b[39;00m prune \u001b[38;5;241m==\u001b[39m \u001b[38;5;124m'\u001b[39m\u001b[38;5;124mlower\u001b[39m\u001b[38;5;124m'\u001b[39m:\n",
      "File \u001b[0;32m/usr/local/lib/python3.8/dist-packages/matplotlib/ticker.py:2090\u001b[0m, in \u001b[0;36mMaxNLocator._raw_ticks\u001b[0;34m(self, vmin, vmax)\u001b[0m\n\u001b[1;32m   2088\u001b[0m \u001b[38;5;28;01mif\u001b[39;00m \u001b[38;5;28mself\u001b[39m\u001b[38;5;241m.\u001b[39m_nbins \u001b[38;5;241m==\u001b[39m \u001b[38;5;124m'\u001b[39m\u001b[38;5;124mauto\u001b[39m\u001b[38;5;124m'\u001b[39m:\n\u001b[1;32m   2089\u001b[0m     \u001b[38;5;28;01mif\u001b[39;00m \u001b[38;5;28mself\u001b[39m\u001b[38;5;241m.\u001b[39maxis \u001b[38;5;129;01mis\u001b[39;00m \u001b[38;5;129;01mnot\u001b[39;00m \u001b[38;5;28;01mNone\u001b[39;00m:\n\u001b[0;32m-> 2090\u001b[0m         nbins \u001b[38;5;241m=\u001b[39m np\u001b[38;5;241m.\u001b[39mclip(\u001b[38;5;28;43mself\u001b[39;49m\u001b[38;5;241;43m.\u001b[39;49m\u001b[43maxis\u001b[49m\u001b[38;5;241;43m.\u001b[39;49m\u001b[43mget_tick_space\u001b[49m\u001b[43m(\u001b[49m\u001b[43m)\u001b[49m,\n\u001b[1;32m   2091\u001b[0m                         \u001b[38;5;28mmax\u001b[39m(\u001b[38;5;241m1\u001b[39m, \u001b[38;5;28mself\u001b[39m\u001b[38;5;241m.\u001b[39m_min_n_ticks \u001b[38;5;241m-\u001b[39m \u001b[38;5;241m1\u001b[39m), \u001b[38;5;241m9\u001b[39m)\n\u001b[1;32m   2092\u001b[0m     \u001b[38;5;28;01melse\u001b[39;00m:\n\u001b[1;32m   2093\u001b[0m         nbins \u001b[38;5;241m=\u001b[39m \u001b[38;5;241m9\u001b[39m\n",
      "File \u001b[0;32m/usr/local/lib/python3.8/dist-packages/matplotlib/axis.py:2430\u001b[0m, in \u001b[0;36mXAxis.get_tick_space\u001b[0;34m(self)\u001b[0m\n\u001b[1;32m   2428\u001b[0m size \u001b[38;5;241m=\u001b[39m \u001b[38;5;28mself\u001b[39m\u001b[38;5;241m.\u001b[39m_get_tick_label_size(\u001b[38;5;124m'\u001b[39m\u001b[38;5;124mx\u001b[39m\u001b[38;5;124m'\u001b[39m) \u001b[38;5;241m*\u001b[39m \u001b[38;5;241m3\u001b[39m\n\u001b[1;32m   2429\u001b[0m \u001b[38;5;28;01mif\u001b[39;00m size \u001b[38;5;241m>\u001b[39m \u001b[38;5;241m0\u001b[39m:\n\u001b[0;32m-> 2430\u001b[0m     \u001b[38;5;28;01mreturn\u001b[39;00m \u001b[38;5;28;43mint\u001b[39;49m\u001b[43m(\u001b[49m\u001b[43mnp\u001b[49m\u001b[38;5;241;43m.\u001b[39;49m\u001b[43mfloor\u001b[49m\u001b[43m(\u001b[49m\u001b[43mlength\u001b[49m\u001b[43m \u001b[49m\u001b[38;5;241;43m/\u001b[39;49m\u001b[43m \u001b[49m\u001b[43msize\u001b[49m\u001b[43m)\u001b[49m\u001b[43m)\u001b[49m\n\u001b[1;32m   2431\u001b[0m \u001b[38;5;28;01melse\u001b[39;00m:\n\u001b[1;32m   2432\u001b[0m     \u001b[38;5;28;01mreturn\u001b[39;00m \u001b[38;5;241m2\u001b[39m\u001b[38;5;241m*\u001b[39m\u001b[38;5;241m*\u001b[39m\u001b[38;5;241m31\u001b[39m \u001b[38;5;241m-\u001b[39m \u001b[38;5;241m1\u001b[39m\n",
      "\u001b[0;31mValueError\u001b[0m: cannot convert float NaN to integer"
     ]
    },
    {
     "data": {
      "text/plain": [
       "<Figure size 3000x1000 with 16 Axes>"
      ]
     },
     "metadata": {},
     "output_type": "display_data"
    }
   ],
   "source": [
    "fig,ax = plt.subplots(3,5,figsize=(30,10))\n",
    "\n",
    "\n",
    "\n",
    "# vmin = np.min(np.array(ev_gdf_all_1[\"diff\"]))\n",
    "vmax = np.max(np.array(ev_gdf_all_0[\"diff\"]))\n",
    "vmin = -vmax\n",
    "print(vmax)\n",
    "for i in range(len(year_list)):\n",
    "    ev_gdf_0 = ev_gdf_all_0.query(\"year == '\"+year_list[i]+\"'\")\n",
    "    ev_gdf_1 = ev_gdf_all_1.query(\"year == '\"+year_list[i]+\"'\")\n",
    "    ev_gdf_2 = ev_gdf_all_2.query(\"year == '\"+year_list[i]+\"'\")\n",
    "    print(0)\n",
    "    # ax[i,0].set_title(\"True Values\")\n",
    "    # ev_gdf.plot(column='true_val',ax=ax[i,0],legend=True,vmin=vmin,vmax=vmax,)\n",
    "    # ax[i,1].set_title(\"Predicted Values (Masked)\")\n",
    "    # ev_gdf.plot(column=model_id,ax=ax[i,1],legend = True,vmin=vmin,vmax=vmax)\n",
    "    \n",
    "    # ax[i,1].set_title(\"Predicted Values (No Mask)\")\n",
    "    # ev_gdf_1.plot(column=model_id_1,ax=ax[i,3],legend = True,vmin=vmin,vmax=vmax)\n",
    "    ev_gdf_0.plot(column = \"diff\",ax=ax[0,i],legend = True,cmap=\"RdBu\",vmin=vmin,vmax=vmax)\n",
    "    print(1)\n",
    "    ev_gdf_1.plot(column = \"diff\",ax=ax[1,i],legend = True,cmap=\"RdBu\",vmin=vmin,vmax=vmax)\n",
    "    print(2)\n",
    "    ev_gdf_2.plot(column = \"diff\",ax=ax[2,i],legend = True,cmap=\"RdBu\",vmin=vmin,vmax=vmax)\n",
    "    print(3)\n",
    "plt.tight_layout()\n",
    "plt.savefig(\"Output/Evaluation/true_pred_diff_\"+model_id+\".png\")"
   ]
  },
  {
   "cell_type": "code",
   "execution_count": 35,
   "id": "1a8791f4-7832-4d75-8050-9e353e5fd548",
   "metadata": {},
   "outputs": [
    {
     "data": {
      "text/html": [
       "<div>\n",
       "<style scoped>\n",
       "    .dataframe tbody tr th:only-of-type {\n",
       "        vertical-align: middle;\n",
       "    }\n",
       "\n",
       "    .dataframe tbody tr th {\n",
       "        vertical-align: top;\n",
       "    }\n",
       "\n",
       "    .dataframe thead th {\n",
       "        text-align: right;\n",
       "    }\n",
       "</style>\n",
       "<table border=\"1\" class=\"dataframe\">\n",
       "  <thead>\n",
       "    <tr style=\"text-align: right;\">\n",
       "      <th></th>\n",
       "      <th>patch_name</th>\n",
       "      <th>true_val</th>\n",
       "      <th>aanaxs4g</th>\n",
       "      <th>geometry</th>\n",
       "      <th>diff</th>\n",
       "    </tr>\n",
       "  </thead>\n",
       "  <tbody>\n",
       "    <tr>\n",
       "      <th>30</th>\n",
       "      <td>Iowa_2021_july_8192-4096</td>\n",
       "      <td>0.147753</td>\n",
       "      <td>0.174421</td>\n",
       "      <td>POLYGON ((-92.08630 41.15560, -92.22428 41.155...</td>\n",
       "      <td>-0.026668</td>\n",
       "    </tr>\n",
       "    <tr>\n",
       "      <th>118</th>\n",
       "      <td>Iowa_2021_july_7936-4096</td>\n",
       "      <td>0.155251</td>\n",
       "      <td>0.178382</td>\n",
       "      <td>POLYGON ((-92.22428 41.15560, -92.36226 41.155...</td>\n",
       "      <td>-0.023132</td>\n",
       "    </tr>\n",
       "    <tr>\n",
       "      <th>363</th>\n",
       "      <td>Iowa_2021_july_3584-4096</td>\n",
       "      <td>0.164877</td>\n",
       "      <td>0.188881</td>\n",
       "      <td>POLYGON ((-94.56996 41.15560, -94.70794 41.155...</td>\n",
       "      <td>-0.024003</td>\n",
       "    </tr>\n",
       "    <tr>\n",
       "      <th>387</th>\n",
       "      <td>Iowa_2021_july_4096-4096</td>\n",
       "      <td>0.025952</td>\n",
       "      <td>0.121408</td>\n",
       "      <td>POLYGON ((-94.29400 41.15560, -94.43198 41.155...</td>\n",
       "      <td>-0.095455</td>\n",
       "    </tr>\n",
       "    <tr>\n",
       "      <th>407</th>\n",
       "      <td>Iowa_2021_july_3840-4096</td>\n",
       "      <td>0.058569</td>\n",
       "      <td>0.115937</td>\n",
       "      <td>POLYGON ((-94.43198 41.15560, -94.56996 41.155...</td>\n",
       "      <td>-0.057367</td>\n",
       "    </tr>\n",
       "    <tr>\n",
       "      <th>419</th>\n",
       "      <td>Iowa_2021_july_9728-4096</td>\n",
       "      <td>0.019321</td>\n",
       "      <td>0.100719</td>\n",
       "      <td>POLYGON ((-91.25841 41.15560, -91.39639 41.155...</td>\n",
       "      <td>-0.081399</td>\n",
       "    </tr>\n",
       "  </tbody>\n",
       "</table>\n",
       "</div>"
      ],
      "text/plain": [
       "                   patch_name  true_val  aanaxs4g  \\\n",
       "30   Iowa_2021_july_8192-4096  0.147753  0.174421   \n",
       "118  Iowa_2021_july_7936-4096  0.155251  0.178382   \n",
       "363  Iowa_2021_july_3584-4096  0.164877  0.188881   \n",
       "387  Iowa_2021_july_4096-4096  0.025952  0.121408   \n",
       "407  Iowa_2021_july_3840-4096  0.058569  0.115937   \n",
       "419  Iowa_2021_july_9728-4096  0.019321  0.100719   \n",
       "\n",
       "                                              geometry      diff  \n",
       "30   POLYGON ((-92.08630 41.15560, -92.22428 41.155... -0.026668  \n",
       "118  POLYGON ((-92.22428 41.15560, -92.36226 41.155... -0.023132  \n",
       "363  POLYGON ((-94.56996 41.15560, -94.70794 41.155... -0.024003  \n",
       "387  POLYGON ((-94.29400 41.15560, -94.43198 41.155... -0.095455  \n",
       "407  POLYGON ((-94.43198 41.15560, -94.56996 41.155... -0.057367  \n",
       "419  POLYGON ((-91.25841 41.15560, -91.39639 41.155... -0.081399  "
      ]
     },
     "execution_count": 35,
     "metadata": {},
     "output_type": "execute_result"
    }
   ],
   "source": [
    "ev_gdf_0.query('aanaxs4g <= 0.2')"
   ]
  },
  {
   "cell_type": "code",
   "execution_count": null,
   "id": "b0f6f7e7-6551-4a90-9f02-b78d9300e161",
   "metadata": {},
   "outputs": [],
   "source": [
    "import rasterio\n",
    "from rasterio.plot import show\n",
    "\n",
    "import matplotlib.pyplot as plt\n",
    "\n",
    "# \"Iowa_2021_july_8192-4096\"\n",
    "\n",
    "# \"Iowa_2021_july_1280-3072\"\n",
    "\n",
    "file_name = \"Iowa_2021_july_3584-4096\"\n",
    "file = rasterio.open('Input/sentinel/patches_256/Iowa_July_1_31/test/'+file_name+'.tif')\n",
    "fig, ax = plt.subplots(4,4,figsize=(7,7))\n",
    "\n",
    "col = 0 \n",
    "row = 0\n",
    "for i in range(1,file.count+1):\n",
    "#     print(row,col)\n",
    "    \n",
    "    show((file,i),ax = ax[row,col],title = \"Band \"+str(i))\n",
    "    ax[row,col].axis(\"off\")\n",
    "    row+=1\n",
    "    if i >= 4 and i %4==0:\n",
    "        row = 0\n",
    "        col+=1\n",
    "#     col+=1"
   ]
  }
 ],
 "metadata": {
  "kernelspec": {
   "display_name": "Python",
   "language": "python",
   "name": "python3"
  },
  "language_info": {
   "codemirror_mode": {
    "name": "ipython",
    "version": 3
   },
   "file_extension": ".py",
   "mimetype": "text/x-python",
   "name": "python",
   "nbconvert_exporter": "python",
   "pygments_lexer": "ipython3",
   "version": "3.8.10"
  }
 },
 "nbformat": 4,
 "nbformat_minor": 5
}
